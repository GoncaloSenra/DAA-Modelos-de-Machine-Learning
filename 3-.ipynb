{
 "cells": [
  {
   "cell_type": "code",
   "execution_count": 38,
   "metadata": {},
   "outputs": [],
   "source": [
    "import pandas as pd\n",
    "import numpy as np\n",
    "import matplotlib.pyplot as plt\n",
    "import seaborn as sns\n",
    "from sklearn.preprocessing import LabelEncoder\n",
    "\n",
    "energia2022 = pd.read_csv('daasbstp2023/train/energia_202201-202212.csv', encoding='latin-1')    \n",
    "energia2021 = pd.read_csv('daasbstp2023/train/energia_202109-202112.csv', encoding='latin-1')\n",
    "\n",
    "energia2023_test = pd.read_csv('daasbstp2023/test/energia_202301-202304.csv', encoding='latin-1')\n",
    "\n",
    "meteo2022 = pd.read_csv('daasbstp2023/train/meteo_202201-202212.csv', encoding='latin-1')\n",
    "meteo2021 = pd.read_csv('daasbstp2023/train/meteo_202109-202112.csv', encoding='latin-1')\n",
    "\n",
    "meteo2023_test = pd.read_csv('daasbstp2023/test/meteo_202301-202304.csv', encoding='latin-1')\n",
    "\n",
    "\n",
    "# Converter datas\n",
    "energia2021['Data'] = pd.to_datetime(energia2021['Data'], format='%Y-%m-%d')\n",
    "energia2021['Hora'] = pd.to_datetime(energia2021['Hora'], format='%H')\n",
    "\n",
    "energia2021['dt_converted'] = energia2021['Data'] + pd.to_timedelta(energia2021['Hora'].dt.hour, unit='h')\n",
    "\n",
    "energia2021['dt_converted'] = pd.to_datetime(energia2021['dt_converted'], unit='s', utc=True)\n",
    "\n",
    "\n",
    "energia2022['Data'] = pd.to_datetime(energia2022['Data'], format='%Y-%m-%d')\n",
    "energia2022['Hora'] = pd.to_datetime(energia2022['Hora'], format='%H')\n",
    "\n",
    "energia2022['dt_converted'] = energia2022['Data'] + pd.to_timedelta(energia2022['Hora'].dt.hour, unit='h')\n",
    "\n",
    "energia2022['dt_converted'] = pd.to_datetime(energia2022['dt_converted'], unit='s', utc=True)\n",
    "\n",
    "\n",
    "energia2023_test['Data'] = pd.to_datetime(energia2023_test['Data'], format='%Y-%m-%d')\n",
    "energia2023_test['Hora'] = pd.to_datetime(energia2023_test['Hora'], format='%H')\n",
    "\n",
    "energia2023_test['dt_converted'] = energia2023_test['Data'] + pd.to_timedelta(energia2023_test['Hora'].dt.hour, unit='h')\n",
    "\n",
    "energia2023_test['dt_converted'] = pd.to_datetime(energia2023_test['dt_converted'], unit='s', utc=True)\n",
    "\n",
    "\n",
    "meteo2021['dt_converted'] = pd.to_datetime(meteo2021['dt'], unit='s', utc=True)\n",
    "meteo2022['dt_converted'] = pd.to_datetime(meteo2022['dt'], unit='s', utc=True)\n",
    "meteo2023_test['dt_converted'] = pd.to_datetime(meteo2023_test['dt'], unit='s', utc=True)\n",
    "\n",
    "# Merge datasets based on datetime\n",
    "data21 = pd.merge(energia2021, meteo2021, on='dt_converted', how='inner')\n",
    "data22 = pd.merge(energia2022, meteo2022, on='dt_converted', how='inner')\n",
    "\n",
    "test = pd.merge(energia2023_test, meteo2023_test, on='dt_converted', how='outer')\n",
    "\n",
    "# Drop columns\n",
    "data21.drop('sea_level', axis=1, inplace=True)\n",
    "data21.drop('grnd_level', axis=1, inplace=True)\n",
    "data21.drop('rain_1h', axis=1, inplace=True)\n",
    "data21.drop('Data', axis=1, inplace=True)\n",
    "data21.drop('Hora', axis=1, inplace=True)\n",
    "data21.drop('dt_iso', axis=1, inplace=True)\n",
    "data21.drop('dt', axis=1, inplace=True)\n",
    "\n",
    "data22.drop('sea_level', axis=1, inplace=True)\n",
    "data22.drop('grnd_level', axis=1, inplace=True)\n",
    "data22.drop('rain_1h', axis=1, inplace=True)\n",
    "data22.drop('Data', axis=1, inplace=True)\n",
    "data22.drop('Hora', axis=1, inplace=True)\n",
    "data22.drop('dt_iso', axis=1, inplace=True)\n",
    "data22.drop('dt', axis=1, inplace=True)\n",
    "\n",
    "test.drop('sea_level', axis=1, inplace=True)\n",
    "test.drop('grnd_level', axis=1, inplace=True)\n",
    "test.drop('rain_1h', axis=1, inplace=True)\n",
    "test.drop('Data', axis=1, inplace=True)\n",
    "test.drop('Hora', axis=1, inplace=True)\n",
    "test.drop('dt_iso', axis=1, inplace=True)\n",
    "test.drop('dt', axis=1, inplace=True)\n",
    "\n",
    "data21.drop('city_name', axis=1, inplace=True)\n",
    "data22.drop('city_name', axis=1, inplace=True)\n",
    "test.drop('city_name', axis=1, inplace=True)\n",
    "\n",
    "train = pd.concat([data21, data22], axis=0)\n",
    "\n",
    "\n",
    "# separar data em ano, mes e dia\n",
    "\n",
    "train['ano'] = train['dt_converted'].apply(lambda x: x.year)\n",
    "train['mes'] = train['dt_converted'].apply(lambda x: x.month)\n",
    "train['dia'] = train['dt_converted'].apply(lambda x: x.day)\n",
    "train['hora'] = train['dt_converted'].apply(lambda x: x.hour)\n",
    "\n",
    "train['dia da semana'] = train['dt_converted'].apply(lambda x: x.weekday())\n",
    "\n",
    "test['ano'] = test['dt_converted'].apply(lambda x: x.year)\n",
    "test['mes'] = test['dt_converted'].apply(lambda x: x.month)\n",
    "test['dia'] = test['dt_converted'].apply(lambda x: x.day)\n",
    "test['hora'] = test['dt_converted'].apply(lambda x: x.hour)\n",
    "\n",
    "test['dia da semana'] = test['dt_converted'].apply(lambda x: x.weekday())\n",
    "\n",
    "train.drop('dt_converted', axis=1, inplace=True)\n",
    "test.drop('dt_converted', axis=1, inplace=True)\n",
    "\n",
    "lb_make = LabelEncoder()\n",
    "train[\"weather_description\"] = lb_make.fit_transform(train[\"weather_description\"])\n",
    "test[\"weather_description\"] = lb_make.fit_transform(test[\"weather_description\"])\n",
    "\n",
    "train['weather_description'].unique()\n",
    "\n",
    "\n",
    "train['Injeção na rede (kWh)'] = train['Injeção na rede (kWh)'].fillna('None')\n",
    "\n",
    "dict_target = {\"None\": 0, \"Low\": 1, \"Medium\": 2, \"High\": 3, \"Very High\": 4}\n",
    "train[\"Injeção na rede (kWh)\"] = train[\"Injeção na rede (kWh)\"].map(dict_target)\n"
   ]
  },
  {
   "cell_type": "code",
   "execution_count": 39,
   "metadata": {},
   "outputs": [
    {
     "data": {
      "text/html": [
       "<div>\n",
       "<style scoped>\n",
       "    .dataframe tbody tr th:only-of-type {\n",
       "        vertical-align: middle;\n",
       "    }\n",
       "\n",
       "    .dataframe tbody tr th {\n",
       "        vertical-align: top;\n",
       "    }\n",
       "\n",
       "    .dataframe thead th {\n",
       "        text-align: right;\n",
       "    }\n",
       "</style>\n",
       "<table border=\"1\" class=\"dataframe\">\n",
       "  <thead>\n",
       "    <tr style=\"text-align: right;\">\n",
       "      <th></th>\n",
       "      <th>Normal (kWh)</th>\n",
       "      <th>Horário Económico (kWh)</th>\n",
       "      <th>Autoconsumo (kWh)</th>\n",
       "      <th>temp</th>\n",
       "      <th>feels_like</th>\n",
       "      <th>temp_min</th>\n",
       "      <th>temp_max</th>\n",
       "      <th>pressure</th>\n",
       "      <th>humidity</th>\n",
       "      <th>wind_speed</th>\n",
       "      <th>clouds_all</th>\n",
       "      <th>weather_description</th>\n",
       "      <th>ano</th>\n",
       "      <th>mes</th>\n",
       "      <th>dia</th>\n",
       "      <th>hora</th>\n",
       "      <th>dia da semana</th>\n",
       "    </tr>\n",
       "  </thead>\n",
       "  <tbody>\n",
       "    <tr>\n",
       "      <th>count</th>\n",
       "      <td>2256.000000</td>\n",
       "      <td>2256.000000</td>\n",
       "      <td>2256.000000</td>\n",
       "      <td>1752.000000</td>\n",
       "      <td>1752.000000</td>\n",
       "      <td>1752.000000</td>\n",
       "      <td>1752.000000</td>\n",
       "      <td>1752.000000</td>\n",
       "      <td>1752.000000</td>\n",
       "      <td>1752.000000</td>\n",
       "      <td>1752.000000</td>\n",
       "      <td>2256.000000</td>\n",
       "      <td>2256.0</td>\n",
       "      <td>2256.000000</td>\n",
       "      <td>2256.000000</td>\n",
       "      <td>2256.000000</td>\n",
       "      <td>2256.000000</td>\n",
       "    </tr>\n",
       "    <tr>\n",
       "      <th>mean</th>\n",
       "      <td>0.268060</td>\n",
       "      <td>0.226809</td>\n",
       "      <td>0.119439</td>\n",
       "      <td>10.599606</td>\n",
       "      <td>9.543265</td>\n",
       "      <td>9.177917</td>\n",
       "      <td>11.643813</td>\n",
       "      <td>1023.493721</td>\n",
       "      <td>75.639840</td>\n",
       "      <td>2.873613</td>\n",
       "      <td>44.489726</td>\n",
       "      <td>5.620124</td>\n",
       "      <td>2023.0</td>\n",
       "      <td>2.085106</td>\n",
       "      <td>14.978723</td>\n",
       "      <td>11.500000</td>\n",
       "      <td>2.978723</td>\n",
       "    </tr>\n",
       "    <tr>\n",
       "      <th>std</th>\n",
       "      <td>0.464323</td>\n",
       "      <td>0.375752</td>\n",
       "      <td>0.190601</td>\n",
       "      <td>3.715156</td>\n",
       "      <td>4.191224</td>\n",
       "      <td>4.021176</td>\n",
       "      <td>3.596882</td>\n",
       "      <td>6.650873</td>\n",
       "      <td>17.415468</td>\n",
       "      <td>1.620450</td>\n",
       "      <td>42.972438</td>\n",
       "      <td>2.392843</td>\n",
       "      <td>0.0</td>\n",
       "      <td>0.907143</td>\n",
       "      <td>8.925982</td>\n",
       "      <td>6.923721</td>\n",
       "      <td>2.026759</td>\n",
       "    </tr>\n",
       "    <tr>\n",
       "      <th>min</th>\n",
       "      <td>0.000000</td>\n",
       "      <td>0.000000</td>\n",
       "      <td>0.000000</td>\n",
       "      <td>0.930000</td>\n",
       "      <td>-1.790000</td>\n",
       "      <td>-0.850000</td>\n",
       "      <td>3.340000</td>\n",
       "      <td>1006.000000</td>\n",
       "      <td>23.000000</td>\n",
       "      <td>0.120000</td>\n",
       "      <td>0.000000</td>\n",
       "      <td>0.000000</td>\n",
       "      <td>2023.0</td>\n",
       "      <td>1.000000</td>\n",
       "      <td>1.000000</td>\n",
       "      <td>0.000000</td>\n",
       "      <td>0.000000</td>\n",
       "    </tr>\n",
       "    <tr>\n",
       "      <th>25%</th>\n",
       "      <td>0.000000</td>\n",
       "      <td>0.000000</td>\n",
       "      <td>0.000000</td>\n",
       "      <td>7.877500</td>\n",
       "      <td>6.217500</td>\n",
       "      <td>6.247500</td>\n",
       "      <td>8.900000</td>\n",
       "      <td>1020.000000</td>\n",
       "      <td>62.000000</td>\n",
       "      <td>1.800000</td>\n",
       "      <td>0.000000</td>\n",
       "      <td>4.000000</td>\n",
       "      <td>2023.0</td>\n",
       "      <td>1.000000</td>\n",
       "      <td>7.000000</td>\n",
       "      <td>5.750000</td>\n",
       "      <td>1.000000</td>\n",
       "    </tr>\n",
       "    <tr>\n",
       "      <th>50%</th>\n",
       "      <td>0.000000</td>\n",
       "      <td>0.000000</td>\n",
       "      <td>0.000000</td>\n",
       "      <td>10.950000</td>\n",
       "      <td>10.135000</td>\n",
       "      <td>9.710000</td>\n",
       "      <td>11.820000</td>\n",
       "      <td>1024.000000</td>\n",
       "      <td>81.000000</td>\n",
       "      <td>2.490000</td>\n",
       "      <td>35.000000</td>\n",
       "      <td>7.000000</td>\n",
       "      <td>2023.0</td>\n",
       "      <td>2.000000</td>\n",
       "      <td>15.000000</td>\n",
       "      <td>11.500000</td>\n",
       "      <td>3.000000</td>\n",
       "    </tr>\n",
       "    <tr>\n",
       "      <th>75%</th>\n",
       "      <td>0.398750</td>\n",
       "      <td>0.336000</td>\n",
       "      <td>0.237250</td>\n",
       "      <td>13.292500</td>\n",
       "      <td>12.742500</td>\n",
       "      <td>12.320000</td>\n",
       "      <td>14.040000</td>\n",
       "      <td>1029.000000</td>\n",
       "      <td>91.000000</td>\n",
       "      <td>3.500000</td>\n",
       "      <td>96.000000</td>\n",
       "      <td>7.000000</td>\n",
       "      <td>2023.0</td>\n",
       "      <td>3.000000</td>\n",
       "      <td>23.000000</td>\n",
       "      <td>17.250000</td>\n",
       "      <td>5.000000</td>\n",
       "    </tr>\n",
       "    <tr>\n",
       "      <th>max</th>\n",
       "      <td>3.381000</td>\n",
       "      <td>2.771000</td>\n",
       "      <td>1.161000</td>\n",
       "      <td>20.610000</td>\n",
       "      <td>19.790000</td>\n",
       "      <td>20.010000</td>\n",
       "      <td>22.010000</td>\n",
       "      <td>1036.000000</td>\n",
       "      <td>97.000000</td>\n",
       "      <td>10.320000</td>\n",
       "      <td>100.000000</td>\n",
       "      <td>8.000000</td>\n",
       "      <td>2023.0</td>\n",
       "      <td>4.000000</td>\n",
       "      <td>31.000000</td>\n",
       "      <td>23.000000</td>\n",
       "      <td>6.000000</td>\n",
       "    </tr>\n",
       "  </tbody>\n",
       "</table>\n",
       "</div>"
      ],
      "text/plain": [
       "       Normal (kWh)  Horário Económico (kWh)  Autoconsumo (kWh)         temp  \\\n",
       "count   2256.000000              2256.000000        2256.000000  1752.000000   \n",
       "mean       0.268060                 0.226809           0.119439    10.599606   \n",
       "std        0.464323                 0.375752           0.190601     3.715156   \n",
       "min        0.000000                 0.000000           0.000000     0.930000   \n",
       "25%        0.000000                 0.000000           0.000000     7.877500   \n",
       "50%        0.000000                 0.000000           0.000000    10.950000   \n",
       "75%        0.398750                 0.336000           0.237250    13.292500   \n",
       "max        3.381000                 2.771000           1.161000    20.610000   \n",
       "\n",
       "        feels_like     temp_min     temp_max     pressure     humidity  \\\n",
       "count  1752.000000  1752.000000  1752.000000  1752.000000  1752.000000   \n",
       "mean      9.543265     9.177917    11.643813  1023.493721    75.639840   \n",
       "std       4.191224     4.021176     3.596882     6.650873    17.415468   \n",
       "min      -1.790000    -0.850000     3.340000  1006.000000    23.000000   \n",
       "25%       6.217500     6.247500     8.900000  1020.000000    62.000000   \n",
       "50%      10.135000     9.710000    11.820000  1024.000000    81.000000   \n",
       "75%      12.742500    12.320000    14.040000  1029.000000    91.000000   \n",
       "max      19.790000    20.010000    22.010000  1036.000000    97.000000   \n",
       "\n",
       "        wind_speed   clouds_all  weather_description     ano          mes  \\\n",
       "count  1752.000000  1752.000000          2256.000000  2256.0  2256.000000   \n",
       "mean      2.873613    44.489726             5.620124  2023.0     2.085106   \n",
       "std       1.620450    42.972438             2.392843     0.0     0.907143   \n",
       "min       0.120000     0.000000             0.000000  2023.0     1.000000   \n",
       "25%       1.800000     0.000000             4.000000  2023.0     1.000000   \n",
       "50%       2.490000    35.000000             7.000000  2023.0     2.000000   \n",
       "75%       3.500000    96.000000             7.000000  2023.0     3.000000   \n",
       "max      10.320000   100.000000             8.000000  2023.0     4.000000   \n",
       "\n",
       "               dia         hora  dia da semana  \n",
       "count  2256.000000  2256.000000    2256.000000  \n",
       "mean     14.978723    11.500000       2.978723  \n",
       "std       8.925982     6.923721       2.026759  \n",
       "min       1.000000     0.000000       0.000000  \n",
       "25%       7.000000     5.750000       1.000000  \n",
       "50%      15.000000    11.500000       3.000000  \n",
       "75%      23.000000    17.250000       5.000000  \n",
       "max      31.000000    23.000000       6.000000  "
      ]
     },
     "execution_count": 39,
     "metadata": {},
     "output_type": "execute_result"
    },
    {
     "data": {
      "image/png": "[encoded data removed]",
      "text/plain": [
       "<Figure size 640x480 with 1 Axes>"
      ]
     },
     "metadata": {},
     "output_type": "display_data"
    }
   ],
   "source": [
    "sns.heatmap(test.isnull(),yticklabels=False,cbar=False,cmap='viridis')\n",
    "test.describe()"
   ]
  },
  {
   "cell_type": "code",
   "execution_count": 40,
   "metadata": {},
   "outputs": [],
   "source": [
    "# test[\"temp\"] = test[\"temp\"].interpolate(method='linear', limit_direction='forward', axis=0)\n",
    "# test[\"temp_min\"] = test[\"temp_min\"].interpolate(method='linear', limit_direction='forward', axis=0)\n",
    "# test[\"temp_max\"] = test[\"temp_max\"].interpolate(method='linear', limit_direction='forward', axis=0)\n",
    "# test[\"pressure\"] = test[\"pressure\"].interpolate(method='linear', limit_direction='forward', axis=0)\n",
    "# test[\"humidity\"] = test[\"humidity\"].interpolate(method='linear', limit_direction='forward', axis=0)\n",
    "# test[\"wind_speed\"] = test[\"wind_speed\"].interpolate(method='linear', limit_direction='forward', axis=0)\n",
    "# test[\"clouds_all\"] = test[\"clouds_all\"].interpolate(method='linear', limit_direction='forward', axis=0)"
   ]
  },
  {
   "cell_type": "code",
   "execution_count": 41,
   "metadata": {},
   "outputs": [
    {
     "data": {
      "text/plain": [
       "<AxesSubplot: >"
      ]
     },
     "execution_count": 41,
     "metadata": {},
     "output_type": "execute_result"
    },
    {
     "data": {
      "image/png": "[encoded data removed]",
      "text/plain": [
       "<Figure size 640x480 with 1 Axes>"
      ]
     },
     "metadata": {},
     "output_type": "display_data"
    }
   ],
   "source": [
    "from sklearn.linear_model import LinearRegression\n",
    "from sklearn.tree import DecisionTreeRegressor\n",
    "# Lista das colunas que você deseja prever independentemente\n",
    "columns_to_predict = ['temp', 'feels_like', 'temp_min', 'temp_max', 'pressure', 'humidity', 'wind_speed', 'clouds_all']\n",
    "\n",
    "#o dataset de treino nao pode ter valores nulos\n",
    "test2 = test.dropna(subset=columns_to_predict)\n",
    "\n",
    "#dropar colunas que nao serao usadas para prever \"columns_to_predict\"\n",
    "# test3 = test.drop(columns_to_predict, axis=1)\n",
    "# Iterar sobre as colunas e treinar modelos separados\n",
    "for column in columns_to_predict:\n",
    "    \n",
    "    train_data = test2.dropna(subset=[column])\n",
    "    predict_data = test[test[column].isnull()]\n",
    "    \n",
    "    for i in columns_to_predict:\n",
    "        if i != column:\n",
    "            train_data = train_data.drop(i, axis=1)\n",
    "        predict_data = predict_data.drop(i, axis=1)\n",
    "        \n",
    "    \n",
    "    X_train = train_data.drop(column, axis=1)\n",
    "    y_train = train_data[column]\n",
    "\n",
    "    # Treinar o modelo (usando regressão linear neste exemplo)\n",
    "    model = DecisionTreeRegressor()\n",
    "    model.fit(X_train, y_train)\n",
    "\n",
    "    # Fazer previsões para os valores ausentes\n",
    "    predictions = model.predict(predict_data)\n",
    "\n",
    "    # Adicionar as previsões ao DataFrame original\n",
    "    test.loc[test[column].isnull(), column] = predictions\n",
    "    \n",
    "sns.heatmap(test.isnull(),yticklabels=False,cbar=False,cmap='viridis')"
   ]
  },
  {
   "cell_type": "code",
   "execution_count": 42,
   "metadata": {},
   "outputs": [
    {
     "data": {
      "text/html": [
       "<div>\n",
       "<style scoped>\n",
       "    .dataframe tbody tr th:only-of-type {\n",
       "        vertical-align: middle;\n",
       "    }\n",
       "\n",
       "    .dataframe tbody tr th {\n",
       "        vertical-align: top;\n",
       "    }\n",
       "\n",
       "    .dataframe thead th {\n",
       "        text-align: right;\n",
       "    }\n",
       "</style>\n",
       "<table border=\"1\" class=\"dataframe\">\n",
       "  <thead>\n",
       "    <tr style=\"text-align: right;\">\n",
       "      <th></th>\n",
       "      <th>Normal (kWh)</th>\n",
       "      <th>Horário Económico (kWh)</th>\n",
       "      <th>Autoconsumo (kWh)</th>\n",
       "      <th>temp</th>\n",
       "      <th>feels_like</th>\n",
       "      <th>temp_min</th>\n",
       "      <th>temp_max</th>\n",
       "      <th>pressure</th>\n",
       "      <th>humidity</th>\n",
       "      <th>wind_speed</th>\n",
       "      <th>clouds_all</th>\n",
       "      <th>weather_description</th>\n",
       "      <th>ano</th>\n",
       "      <th>mes</th>\n",
       "      <th>dia</th>\n",
       "      <th>hora</th>\n",
       "      <th>dia da semana</th>\n",
       "    </tr>\n",
       "  </thead>\n",
       "  <tbody>\n",
       "    <tr>\n",
       "      <th>count</th>\n",
       "      <td>2256.000000</td>\n",
       "      <td>2256.000000</td>\n",
       "      <td>2256.000000</td>\n",
       "      <td>2256.000000</td>\n",
       "      <td>2256.000000</td>\n",
       "      <td>2256.000000</td>\n",
       "      <td>2256.000000</td>\n",
       "      <td>2256.000000</td>\n",
       "      <td>2256.000000</td>\n",
       "      <td>2256.000000</td>\n",
       "      <td>2256.000000</td>\n",
       "      <td>2256.000000</td>\n",
       "      <td>2256.0</td>\n",
       "      <td>2256.000000</td>\n",
       "      <td>2256.000000</td>\n",
       "      <td>2256.000000</td>\n",
       "      <td>2256.000000</td>\n",
       "    </tr>\n",
       "    <tr>\n",
       "      <th>mean</th>\n",
       "      <td>0.268060</td>\n",
       "      <td>0.226809</td>\n",
       "      <td>0.119439</td>\n",
       "      <td>10.480780</td>\n",
       "      <td>9.404233</td>\n",
       "      <td>9.086436</td>\n",
       "      <td>11.587114</td>\n",
       "      <td>1022.994238</td>\n",
       "      <td>72.566489</td>\n",
       "      <td>2.694809</td>\n",
       "      <td>35.655585</td>\n",
       "      <td>5.620124</td>\n",
       "      <td>2023.0</td>\n",
       "      <td>2.085106</td>\n",
       "      <td>14.978723</td>\n",
       "      <td>11.500000</td>\n",
       "      <td>2.978723</td>\n",
       "    </tr>\n",
       "    <tr>\n",
       "      <th>std</th>\n",
       "      <td>0.464323</td>\n",
       "      <td>0.375752</td>\n",
       "      <td>0.190601</td>\n",
       "      <td>3.871195</td>\n",
       "      <td>4.335265</td>\n",
       "      <td>4.102106</td>\n",
       "      <td>3.815884</td>\n",
       "      <td>5.979823</td>\n",
       "      <td>18.122177</td>\n",
       "      <td>1.531020</td>\n",
       "      <td>41.315225</td>\n",
       "      <td>2.392843</td>\n",
       "      <td>0.0</td>\n",
       "      <td>0.907143</td>\n",
       "      <td>8.925982</td>\n",
       "      <td>6.923721</td>\n",
       "      <td>2.026759</td>\n",
       "    </tr>\n",
       "    <tr>\n",
       "      <th>min</th>\n",
       "      <td>0.000000</td>\n",
       "      <td>0.000000</td>\n",
       "      <td>0.000000</td>\n",
       "      <td>0.930000</td>\n",
       "      <td>-1.790000</td>\n",
       "      <td>-0.850000</td>\n",
       "      <td>3.340000</td>\n",
       "      <td>1006.000000</td>\n",
       "      <td>23.000000</td>\n",
       "      <td>0.120000</td>\n",
       "      <td>0.000000</td>\n",
       "      <td>0.000000</td>\n",
       "      <td>2023.0</td>\n",
       "      <td>1.000000</td>\n",
       "      <td>1.000000</td>\n",
       "      <td>0.000000</td>\n",
       "      <td>0.000000</td>\n",
       "    </tr>\n",
       "    <tr>\n",
       "      <th>25%</th>\n",
       "      <td>0.000000</td>\n",
       "      <td>0.000000</td>\n",
       "      <td>0.000000</td>\n",
       "      <td>7.527500</td>\n",
       "      <td>5.825000</td>\n",
       "      <td>6.210000</td>\n",
       "      <td>8.680000</td>\n",
       "      <td>1020.000000</td>\n",
       "      <td>57.000000</td>\n",
       "      <td>1.690000</td>\n",
       "      <td>0.000000</td>\n",
       "      <td>4.000000</td>\n",
       "      <td>2023.0</td>\n",
       "      <td>1.000000</td>\n",
       "      <td>7.000000</td>\n",
       "      <td>5.750000</td>\n",
       "      <td>1.000000</td>\n",
       "    </tr>\n",
       "    <tr>\n",
       "      <th>50%</th>\n",
       "      <td>0.000000</td>\n",
       "      <td>0.000000</td>\n",
       "      <td>0.000000</td>\n",
       "      <td>10.725000</td>\n",
       "      <td>9.930000</td>\n",
       "      <td>9.540000</td>\n",
       "      <td>11.820000</td>\n",
       "      <td>1022.000000</td>\n",
       "      <td>76.000000</td>\n",
       "      <td>2.320000</td>\n",
       "      <td>8.000000</td>\n",
       "      <td>7.000000</td>\n",
       "      <td>2023.0</td>\n",
       "      <td>2.000000</td>\n",
       "      <td>15.000000</td>\n",
       "      <td>11.500000</td>\n",
       "      <td>3.000000</td>\n",
       "    </tr>\n",
       "    <tr>\n",
       "      <th>75%</th>\n",
       "      <td>0.398750</td>\n",
       "      <td>0.336000</td>\n",
       "      <td>0.237250</td>\n",
       "      <td>13.100000</td>\n",
       "      <td>12.582500</td>\n",
       "      <td>12.230000</td>\n",
       "      <td>14.150000</td>\n",
       "      <td>1028.000000</td>\n",
       "      <td>89.000000</td>\n",
       "      <td>3.300000</td>\n",
       "      <td>85.000000</td>\n",
       "      <td>7.000000</td>\n",
       "      <td>2023.0</td>\n",
       "      <td>3.000000</td>\n",
       "      <td>23.000000</td>\n",
       "      <td>17.250000</td>\n",
       "      <td>5.000000</td>\n",
       "    </tr>\n",
       "    <tr>\n",
       "      <th>max</th>\n",
       "      <td>3.381000</td>\n",
       "      <td>2.771000</td>\n",
       "      <td>1.161000</td>\n",
       "      <td>20.610000</td>\n",
       "      <td>19.790000</td>\n",
       "      <td>20.010000</td>\n",
       "      <td>22.010000</td>\n",
       "      <td>1036.000000</td>\n",
       "      <td>97.000000</td>\n",
       "      <td>10.320000</td>\n",
       "      <td>100.000000</td>\n",
       "      <td>8.000000</td>\n",
       "      <td>2023.0</td>\n",
       "      <td>4.000000</td>\n",
       "      <td>31.000000</td>\n",
       "      <td>23.000000</td>\n",
       "      <td>6.000000</td>\n",
       "    </tr>\n",
       "  </tbody>\n",
       "</table>\n",
       "</div>"
      ],
      "text/plain": [
       "       Normal (kWh)  Horário Económico (kWh)  Autoconsumo (kWh)         temp  \\\n",
       "count   2256.000000              2256.000000        2256.000000  2256.000000   \n",
       "mean       0.268060                 0.226809           0.119439    10.480780   \n",
       "std        0.464323                 0.375752           0.190601     3.871195   \n",
       "min        0.000000                 0.000000           0.000000     0.930000   \n",
       "25%        0.000000                 0.000000           0.000000     7.527500   \n",
       "50%        0.000000                 0.000000           0.000000    10.725000   \n",
       "75%        0.398750                 0.336000           0.237250    13.100000   \n",
       "max        3.381000                 2.771000           1.161000    20.610000   \n",
       "\n",
       "        feels_like     temp_min     temp_max     pressure     humidity  \\\n",
       "count  2256.000000  2256.000000  2256.000000  2256.000000  2256.000000   \n",
       "mean      9.404233     9.086436    11.587114  1022.994238    72.566489   \n",
       "std       4.335265     4.102106     3.815884     5.979823    18.122177   \n",
       "min      -1.790000    -0.850000     3.340000  1006.000000    23.000000   \n",
       "25%       5.825000     6.210000     8.680000  1020.000000    57.000000   \n",
       "50%       9.930000     9.540000    11.820000  1022.000000    76.000000   \n",
       "75%      12.582500    12.230000    14.150000  1028.000000    89.000000   \n",
       "max      19.790000    20.010000    22.010000  1036.000000    97.000000   \n",
       "\n",
       "        wind_speed   clouds_all  weather_description     ano          mes  \\\n",
       "count  2256.000000  2256.000000          2256.000000  2256.0  2256.000000   \n",
       "mean      2.694809    35.655585             5.620124  2023.0     2.085106   \n",
       "std       1.531020    41.315225             2.392843     0.0     0.907143   \n",
       "min       0.120000     0.000000             0.000000  2023.0     1.000000   \n",
       "25%       1.690000     0.000000             4.000000  2023.0     1.000000   \n",
       "50%       2.320000     8.000000             7.000000  2023.0     2.000000   \n",
       "75%       3.300000    85.000000             7.000000  2023.0     3.000000   \n",
       "max      10.320000   100.000000             8.000000  2023.0     4.000000   \n",
       "\n",
       "               dia         hora  dia da semana  \n",
       "count  2256.000000  2256.000000    2256.000000  \n",
       "mean     14.978723    11.500000       2.978723  \n",
       "std       8.925982     6.923721       2.026759  \n",
       "min       1.000000     0.000000       0.000000  \n",
       "25%       7.000000     5.750000       1.000000  \n",
       "50%      15.000000    11.500000       3.000000  \n",
       "75%      23.000000    17.250000       5.000000  \n",
       "max      31.000000    23.000000       6.000000  "
      ]
     },
     "execution_count": 42,
     "metadata": {},
     "output_type": "execute_result"
    }
   ],
   "source": [
    "test.describe()"
   ]
  },
  {
   "cell_type": "markdown",
   "metadata": {},
   "source": [
    "# 3 - ..."
   ]
  },
  {
   "cell_type": "markdown",
   "metadata": {},
   "source": [
    "## Outliers"
   ]
  },
  {
   "cell_type": "code",
   "execution_count": 43,
   "metadata": {},
   "outputs": [
    {
     "name": "stdout",
     "output_type": "stream",
     "text": [
      "<class 'pandas.core.frame.DataFrame'>\n",
      "RangeIndex: 2256 entries, 0 to 2255\n",
      "Data columns (total 17 columns):\n",
      " #   Column                   Non-Null Count  Dtype  \n",
      "---  ------                   --------------  -----  \n",
      " 0   Normal (kWh)             2256 non-null   float64\n",
      " 1   Horário Económico (kWh)  2256 non-null   float64\n",
      " 2   Autoconsumo (kWh)        2256 non-null   float64\n",
      " 3   temp                     2256 non-null   float64\n",
      " 4   feels_like               2256 non-null   float64\n",
      " 5   temp_min                 2256 non-null   float64\n",
      " 6   temp_max                 2256 non-null   float64\n",
      " 7   pressure                 2256 non-null   float64\n",
      " 8   humidity                 2256 non-null   float64\n",
      " 9   wind_speed               2256 non-null   float64\n",
      " 10  clouds_all               2256 non-null   float64\n",
      " 11  weather_description      2256 non-null   int32  \n",
      " 12  ano                      2256 non-null   int64  \n",
      " 13  mes                      2256 non-null   int64  \n",
      " 14  dia                      2256 non-null   int64  \n",
      " 15  hora                     2256 non-null   int64  \n",
      " 16  dia da semana            2256 non-null   int64  \n",
      "dtypes: float64(11), int32(1), int64(5)\n",
      "memory usage: 290.9 KB\n"
     ]
    }
   ],
   "source": [
    "test.info()"
   ]
  },
  {
   "cell_type": "code",
   "execution_count": 44,
   "metadata": {},
   "outputs": [
    {
     "data": {
      "text/plain": [
       "count    2256.000000\n",
       "mean        0.268060\n",
       "std         0.464323\n",
       "min         0.000000\n",
       "25%         0.000000\n",
       "50%         0.000000\n",
       "75%         0.398750\n",
       "max         3.381000\n",
       "Name: Normal (kWh), dtype: float64"
      ]
     },
     "execution_count": 44,
     "metadata": {},
     "output_type": "execute_result"
    },
    {
     "data": {
      "image/png": "[encoded data removed]",
      "text/plain": [
       "<Figure size 640x480 with 1 Axes>"
      ]
     },
     "metadata": {},
     "output_type": "display_data"
    }
   ],
   "source": [
    "sns.boxplot(x=test[\"Normal (kWh)\"])\n",
    "test[\"Normal (kWh)\"].describe()"
   ]
  },
  {
   "cell_type": "code",
   "execution_count": 45,
   "metadata": {},
   "outputs": [
    {
     "data": {
      "text/plain": [
       "count    2256.000000\n",
       "mean        0.226809\n",
       "std         0.375752\n",
       "min         0.000000\n",
       "25%         0.000000\n",
       "50%         0.000000\n",
       "75%         0.336000\n",
       "max         2.771000\n",
       "Name: Horário Económico (kWh), dtype: float64"
      ]
     },
     "execution_count": 45,
     "metadata": {},
     "output_type": "execute_result"
    },
    {
     "data": {
      "image/png": "[encoded data removed]",
      "text/plain": [
       "<Figure size 640x480 with 1 Axes>"
      ]
     },
     "metadata": {},
     "output_type": "display_data"
    }
   ],
   "source": [
    "sns.boxplot(x=test[\"Horário Económico (kWh)\"])\n",
    "test[\"Horário Económico (kWh)\"].describe()"
   ]
  },
  {
   "cell_type": "code",
   "execution_count": 46,
   "metadata": {},
   "outputs": [
    {
     "data": {
      "text/plain": [
       "count    2256.000000\n",
       "mean        0.119439\n",
       "std         0.190601\n",
       "min         0.000000\n",
       "25%         0.000000\n",
       "50%         0.000000\n",
       "75%         0.237250\n",
       "max         1.161000\n",
       "Name: Autoconsumo (kWh), dtype: float64"
      ]
     },
     "execution_count": 46,
     "metadata": {},
     "output_type": "execute_result"
    },
    {
     "data": {
      "image/png": "[encoded data removed]",
      "text/plain": [
       "<Figure size 640x480 with 1 Axes>"
      ]
     },
     "metadata": {},
     "output_type": "display_data"
    }
   ],
   "source": [
    "sns.boxplot(x=test[\"Autoconsumo (kWh)\"])\n",
    "test[\"Autoconsumo (kWh)\"].describe()"
   ]
  },
  {
   "cell_type": "code",
   "execution_count": 47,
   "metadata": {},
   "outputs": [
    {
     "data": {
      "text/plain": [
       "count    2256.000000\n",
       "mean       10.480780\n",
       "std         3.871195\n",
       "min         0.930000\n",
       "25%         7.527500\n",
       "50%        10.725000\n",
       "75%        13.100000\n",
       "max        20.610000\n",
       "Name: temp, dtype: float64"
      ]
     },
     "execution_count": 47,
     "metadata": {},
     "output_type": "execute_result"
    },
    {
     "data": {
      "image/png": "[encoded data removed]",
      "text/plain": [
       "<Figure size 640x480 with 1 Axes>"
      ]
     },
     "metadata": {},
     "output_type": "display_data"
    }
   ],
   "source": [
    "sns.boxplot(x=test[\"temp\"])\n",
    "test[\"temp\"].describe()"
   ]
  },
  {
   "cell_type": "code",
   "execution_count": 48,
   "metadata": {},
   "outputs": [
    {
     "data": {
      "text/plain": [
       "count    2256.000000\n",
       "mean        9.404233\n",
       "std         4.335265\n",
       "min        -1.790000\n",
       "25%         5.825000\n",
       "50%         9.930000\n",
       "75%        12.582500\n",
       "max        19.790000\n",
       "Name: feels_like, dtype: float64"
      ]
     },
     "execution_count": 48,
     "metadata": {},
     "output_type": "execute_result"
    },
    {
     "data": {
      "image/png": "[encoded data removed]",
      "text/plain": [
       "<Figure size 640x480 with 1 Axes>"
      ]
     },
     "metadata": {},
     "output_type": "display_data"
    }
   ],
   "source": [
    "sns.boxplot(x=test[\"feels_like\"])\n",
    "test[\"feels_like\"].describe()"
   ]
  },
  {
   "cell_type": "code",
   "execution_count": 49,
   "metadata": {},
   "outputs": [
    {
     "data": {
      "text/plain": [
       "count    2256.000000\n",
       "mean        9.086436\n",
       "std         4.102106\n",
       "min        -0.850000\n",
       "25%         6.210000\n",
       "50%         9.540000\n",
       "75%        12.230000\n",
       "max        20.010000\n",
       "Name: temp_min, dtype: float64"
      ]
     },
     "execution_count": 49,
     "metadata": {},
     "output_type": "execute_result"
    },
    {
     "data": {
      "image/png": "[encoded data removed]",
      "text/plain": [
       "<Figure size 640x480 with 1 Axes>"
      ]
     },
     "metadata": {},
     "output_type": "display_data"
    }
   ],
   "source": [
    "sns.boxplot(x=test[\"temp_min\"])\n",
    "test[\"temp_min\"].describe()"
   ]
  },
  {
   "cell_type": "code",
   "execution_count": 50,
   "metadata": {},
   "outputs": [
    {
     "data": {
      "text/plain": [
       "count    2256.000000\n",
       "mean       11.587114\n",
       "std         3.815884\n",
       "min         3.340000\n",
       "25%         8.680000\n",
       "50%        11.820000\n",
       "75%        14.150000\n",
       "max        22.010000\n",
       "Name: temp_max, dtype: float64"
      ]
     },
     "execution_count": 50,
     "metadata": {},
     "output_type": "execute_result"
    },
    {
     "data": {
      "image/png": "[encoded data removed]",
      "text/plain": [
       "<Figure size 640x480 with 1 Axes>"
      ]
     },
     "metadata": {},
     "output_type": "display_data"
    }
   ],
   "source": [
    "sns.boxplot(x=test[\"temp_max\"])\n",
    "test[\"temp_max\"].describe()"
   ]
  },
  {
   "cell_type": "code",
   "execution_count": 51,
   "metadata": {},
   "outputs": [
    {
     "data": {
      "text/plain": [
       "count    2256.000000\n",
       "mean     1022.994238\n",
       "std         5.979823\n",
       "min      1006.000000\n",
       "25%      1020.000000\n",
       "50%      1022.000000\n",
       "75%      1028.000000\n",
       "max      1036.000000\n",
       "Name: pressure, dtype: float64"
      ]
     },
     "execution_count": 51,
     "metadata": {},
     "output_type": "execute_result"
    },
    {
     "data": {
      "image/png": "[encoded data removed]",
      "text/plain": [
       "<Figure size 640x480 with 1 Axes>"
      ]
     },
     "metadata": {},
     "output_type": "display_data"
    }
   ],
   "source": [
    "sns.boxplot(x=test[\"pressure\"])\n",
    "test[\"pressure\"].describe()"
   ]
  },
  {
   "cell_type": "code",
   "execution_count": 52,
   "metadata": {},
   "outputs": [
    {
     "data": {
      "text/plain": [
       "count    2256.000000\n",
       "mean       72.566489\n",
       "std        18.122177\n",
       "min        23.000000\n",
       "25%        57.000000\n",
       "50%        76.000000\n",
       "75%        89.000000\n",
       "max        97.000000\n",
       "Name: humidity, dtype: float64"
      ]
     },
     "execution_count": 52,
     "metadata": {},
     "output_type": "execute_result"
    },
    {
     "data": {
      "image/png": "[encoded data removed]",
      "text/plain": [
       "<Figure size 640x480 with 1 Axes>"
      ]
     },
     "metadata": {},
     "output_type": "display_data"
    }
   ],
   "source": [
    "sns.boxplot(x=test[\"humidity\"])\n",
    "test[\"humidity\"].describe()"
   ]
  },
  {
   "cell_type": "code",
   "execution_count": 53,
   "metadata": {},
   "outputs": [
    {
     "data": {
      "text/plain": [
       "count    2256.000000\n",
       "mean        2.694809\n",
       "std         1.531020\n",
       "min         0.120000\n",
       "25%         1.690000\n",
       "50%         2.320000\n",
       "75%         3.300000\n",
       "max        10.320000\n",
       "Name: wind_speed, dtype: float64"
      ]
     },
     "execution_count": 53,
     "metadata": {},
     "output_type": "execute_result"
    },
    {
     "data": {
      "image/png": "[encoded data removed]",
      "text/plain": [
       "<Figure size 640x480 with 1 Axes>"
      ]
     },
     "metadata": {},
     "output_type": "display_data"
    }
   ],
   "source": [
    "sns.boxplot(x=test[\"wind_speed\"])\n",
    "test[\"wind_speed\"].describe()"
   ]
  },
  {
   "cell_type": "code",
   "execution_count": 54,
   "metadata": {},
   "outputs": [
    {
     "data": {
      "text/plain": [
       "count    2256.000000\n",
       "mean       35.655585\n",
       "std        41.315225\n",
       "min         0.000000\n",
       "25%         0.000000\n",
       "50%         8.000000\n",
       "75%        85.000000\n",
       "max       100.000000\n",
       "Name: clouds_all, dtype: float64"
      ]
     },
     "execution_count": 54,
     "metadata": {},
     "output_type": "execute_result"
    },
    {
     "data": {
      "image/png": "[encoded data removed]",
      "text/plain": [
       "<Figure size 640x480 with 1 Axes>"
      ]
     },
     "metadata": {},
     "output_type": "display_data"
    }
   ],
   "source": [
    "sns.boxplot(x=test[\"clouds_all\"])\n",
    "test[\"clouds_all\"].describe()"
   ]
  },
  {
   "cell_type": "markdown",
   "metadata": {},
   "source": [
    "# Drop de colunas "
   ]
  },
  {
   "cell_type": "code",
   "execution_count": 55,
   "metadata": {},
   "outputs": [
    {
     "name": "stdout",
     "output_type": "stream",
     "text": [
      "<class 'pandas.core.frame.DataFrame'>\n",
      "Index: 11016 entries, 0 to 8759\n",
      "Data columns (total 18 columns):\n",
      " #   Column                   Non-Null Count  Dtype  \n",
      "---  ------                   --------------  -----  \n",
      " 0   Normal (kWh)             11016 non-null  float64\n",
      " 1   Horário Económico (kWh)  11016 non-null  float64\n",
      " 2   Autoconsumo (kWh)        11016 non-null  float64\n",
      " 3   Injeção na rede (kWh)    11016 non-null  int64  \n",
      " 4   temp                     11016 non-null  float64\n",
      " 5   feels_like               11016 non-null  float64\n",
      " 6   temp_min                 11016 non-null  float64\n",
      " 7   temp_max                 11016 non-null  float64\n",
      " 8   pressure                 11016 non-null  int64  \n",
      " 9   humidity                 11016 non-null  int64  \n",
      " 10  wind_speed               11016 non-null  float64\n",
      " 11  clouds_all               11016 non-null  int64  \n",
      " 12  weather_description      11016 non-null  int32  \n",
      " 13  ano                      11016 non-null  int64  \n",
      " 14  mes                      11016 non-null  int64  \n",
      " 15  dia                      11016 non-null  int64  \n",
      " 16  hora                     11016 non-null  int64  \n",
      " 17  dia da semana            11016 non-null  int64  \n",
      "dtypes: float64(8), int32(1), int64(9)\n",
      "memory usage: 1.6 MB\n"
     ]
    }
   ],
   "source": [
    "train.info()"
   ]
  },
  {
   "cell_type": "code",
   "execution_count": 56,
   "metadata": {},
   "outputs": [],
   "source": [
    "test.drop('feels_like', axis=1, inplace=True)\n",
    "train.drop('feels_like', axis=1, inplace=True)\n",
    "\n",
    "test['weather_description'] = test['weather_description'].astype('int64')\n",
    "train['weather_description'] = train['weather_description'].astype('int64')\n",
    "\n",
    "test.drop('humidity', axis=1, inplace=True)\n",
    "train.drop('humidity', axis=1, inplace=True)\n",
    "\n",
    "test.drop('clouds_all', axis=1, inplace=True)\n",
    "train.drop('clouds_all', axis=1, inplace=True)\n",
    "\n",
    "test.drop('wind_speed', axis=1, inplace=True)\n",
    "train.drop('wind_speed', axis=1, inplace=True)\n",
    "\n",
    "test.drop('ano', axis=1, inplace=True)\n",
    "train.drop('ano', axis=1, inplace=True)\n",
    "\n",
    "test.drop('mes', axis=1, inplace=True)\n",
    "train.drop('mes', axis=1, inplace=True)\n",
    "\n",
    "test.drop('dia', axis=1, inplace=True)\n",
    "train.drop('dia', axis=1, inplace=True)\n",
    "\n",
    "test.drop('dia da semana', axis=1, inplace=True)\n",
    "train.drop('dia da semana', axis=1, inplace=True)\n",
    "\n",
    "test.drop('Horário Económico (kWh)', axis=1, inplace=True)\n",
    "train.drop('Horário Económico (kWh)', axis=1, inplace=True)\n"
   ]
  },
  {
   "cell_type": "markdown",
   "metadata": {},
   "source": [
    "# Correlação"
   ]
  },
  {
   "cell_type": "code",
   "execution_count": 57,
   "metadata": {},
   "outputs": [
    {
     "data": {
      "text/plain": [
       "<AxesSubplot: >"
      ]
     },
     "execution_count": 57,
     "metadata": {},
     "output_type": "execute_result"
    },
    {
     "data": {
      "image/png": "[encoded data removed]",
      "text/plain": [
       "<Figure size 1800x1000 with 2 Axes>"
      ]
     },
     "metadata": {},
     "output_type": "display_data"
    }
   ],
   "source": [
    "plt.subplots(figsize=(18,10))\n",
    "train_corr = train.corr(method='pearson')\n",
    "sns.heatmap(train_corr, annot = True, cmap='coolwarm')"
   ]
  },
  {
   "cell_type": "markdown",
   "metadata": {},
   "source": [
    "## Normalização"
   ]
  },
  {
   "cell_type": "code",
   "execution_count": 58,
   "metadata": {},
   "outputs": [
    {
     "name": "stdout",
     "output_type": "stream",
     "text": [
      "<class 'pandas.core.frame.DataFrame'>\n",
      "RangeIndex: 2256 entries, 0 to 2255\n",
      "Data columns (total 8 columns):\n",
      " #   Column               Non-Null Count  Dtype  \n",
      "---  ------               --------------  -----  \n",
      " 0   Normal (kWh)         2256 non-null   float64\n",
      " 1   Autoconsumo (kWh)    2256 non-null   float64\n",
      " 2   temp                 2256 non-null   float64\n",
      " 3   temp_min             2256 non-null   float64\n",
      " 4   temp_max             2256 non-null   float64\n",
      " 5   pressure             2256 non-null   float64\n",
      " 6   weather_description  2256 non-null   int64  \n",
      " 7   hora                 2256 non-null   int64  \n",
      "dtypes: float64(6), int64(2)\n",
      "memory usage: 141.1 KB\n"
     ]
    }
   ],
   "source": [
    "test.info()"
   ]
  },
  {
   "cell_type": "code",
   "execution_count": 59,
   "metadata": {},
   "outputs": [],
   "source": [
    "# test['Normal (kWh)'] = (test['Normal (kWh)'] - test['Normal (kWh)'].mean()) / (test['Normal (kWh)'].max() - test['Normal (kWh)'].min())\n",
    "# train['Normal (kWh)'] = (train['Normal (kWh)'] - train['Normal (kWh)'].mean()) / (train['Normal (kWh)'].max() - train['Normal (kWh)'].min())\n",
    "\n",
    "# test['Horário Económico (kWh)'] = (test['Horário Económico (kWh)'] - test['Horário Económico (kWh)'].mean()) / (test['Horário Económico (kWh)'].max() - test['Horário Económico (kWh)'].min())\n",
    "# train['Horário Económico (kWh)'] = (train['Horário Económico (kWh)'] - train['Horário Económico (kWh)'].mean()) / (train['Horário Económico (kWh)'].max() - train['Horário Económico (kWh)'].min())\n",
    "\n",
    "# test['Autoconsumo (kWh)'] = (test['Autoconsumo (kWh)'] - test['Autoconsumo (kWh)'].mean()) / (test['Autoconsumo (kWh)'].max() - test['Autoconsumo (kWh)'].min())\n",
    "# train['Autoconsumo (kWh)'] = (train['Autoconsumo (kWh)'] - train['Autoconsumo (kWh)'].mean()) / (train['Autoconsumo (kWh)'].max() - train['Autoconsumo (kWh)'].min())\n",
    "\n",
    "# test['temp'] = (test['temp'] - test['temp'].mean()) / (test['temp'].max() - test['temp'].min())\n",
    "# train['temp'] = (train['temp'] - train['temp'].mean()) / (train['temp'].max() - train['temp'].min())\n",
    "\n",
    "# # test['feels_like'] = (test['feels_like'] - test['feels_like'].mean()) / (test['feels_like'].max() - test['feels_like'].min())\n",
    "# # train['feels_like'] = (train['feels_like'] - train['feels_like'].mean()) / (train['feels_like'].max() - train['feels_like'].min())\n",
    "\n",
    "# test['temp_min'] = (test['temp_min'] - test['temp_min'].mean()) / (test['temp_min'].max() - test['temp_min'].min())\n",
    "# train['temp_min'] = (train['temp_min'] - train['temp_min'].mean()) / (train['temp_min'].max() - train['temp_min'].min())\n",
    "\n",
    "# test['temp_max'] = (test['temp_max'] - test['temp_max'].mean()) / (test['temp_max'].max() - test['temp_max'].min())\n",
    "# train['temp_max'] = (train['temp_max'] - train['temp_max'].mean()) / (train['temp_max'].max() - train['temp_max'].min())\n",
    "\n",
    "# test['pressure'] = (test['pressure'] - test['pressure'].mean()) / (test['pressure'].max() - test['pressure'].min())\n",
    "# train['pressure'] = (train['pressure'] - train['pressure'].mean()) / (train['pressure'].max() - train['pressure'].min())\n",
    "\n",
    "# test['humidity'] = (test['humidity'] - test['humidity'].mean()) / (test['humidity'].max() - test['humidity'].min())\n",
    "# train['humidity'] = (train['humidity'] - train['humidity'].mean()) / (train['humidity'].max() - train['humidity'].min())\n",
    "\n",
    "# test['wind_speed'] = (test['wind_speed'] - test['wind_speed'].mean()) / (test['wind_speed'].max() - test['wind_speed'].min())\n",
    "# train['wind_speed'] = (train['wind_speed'] - train['wind_speed'].mean()) / (train['wind_speed'].max() - train['wind_speed'].min())\n",
    "\n",
    "# test['clouds_all'] = (test['clouds_all'] - test['clouds_all'].mean()) / (test['clouds_all'].max() - test['clouds_all'].min())\n",
    "# train['clouds_all'] = (train['clouds_all'] - train['clouds_all'].mean()) / (train['clouds_all'].max() - train['clouds_all'].min())\n"
   ]
  },
  {
   "cell_type": "code",
   "execution_count": 60,
   "metadata": {},
   "outputs": [
    {
     "data": {
      "text/html": [
       "<div>\n",
       "<style scoped>\n",
       "    .dataframe tbody tr th:only-of-type {\n",
       "        vertical-align: middle;\n",
       "    }\n",
       "\n",
       "    .dataframe tbody tr th {\n",
       "        vertical-align: top;\n",
       "    }\n",
       "\n",
       "    .dataframe thead th {\n",
       "        text-align: right;\n",
       "    }\n",
       "</style>\n",
       "<table border=\"1\" class=\"dataframe\">\n",
       "  <thead>\n",
       "    <tr style=\"text-align: right;\">\n",
       "      <th></th>\n",
       "      <th>Normal (kWh)</th>\n",
       "      <th>Autoconsumo (kWh)</th>\n",
       "      <th>temp</th>\n",
       "      <th>temp_min</th>\n",
       "      <th>temp_max</th>\n",
       "      <th>pressure</th>\n",
       "      <th>weather_description</th>\n",
       "      <th>hora</th>\n",
       "    </tr>\n",
       "  </thead>\n",
       "  <tbody>\n",
       "    <tr>\n",
       "      <th>count</th>\n",
       "      <td>2256.000000</td>\n",
       "      <td>2256.000000</td>\n",
       "      <td>2256.000000</td>\n",
       "      <td>2256.000000</td>\n",
       "      <td>2256.000000</td>\n",
       "      <td>2256.000000</td>\n",
       "      <td>2256.000000</td>\n",
       "      <td>2256.000000</td>\n",
       "    </tr>\n",
       "    <tr>\n",
       "      <th>mean</th>\n",
       "      <td>0.268060</td>\n",
       "      <td>0.119439</td>\n",
       "      <td>10.480780</td>\n",
       "      <td>9.086436</td>\n",
       "      <td>11.587114</td>\n",
       "      <td>1022.994238</td>\n",
       "      <td>5.620124</td>\n",
       "      <td>11.500000</td>\n",
       "    </tr>\n",
       "    <tr>\n",
       "      <th>std</th>\n",
       "      <td>0.464323</td>\n",
       "      <td>0.190601</td>\n",
       "      <td>3.871195</td>\n",
       "      <td>4.102106</td>\n",
       "      <td>3.815884</td>\n",
       "      <td>5.979823</td>\n",
       "      <td>2.392843</td>\n",
       "      <td>6.923721</td>\n",
       "    </tr>\n",
       "    <tr>\n",
       "      <th>min</th>\n",
       "      <td>0.000000</td>\n",
       "      <td>0.000000</td>\n",
       "      <td>0.930000</td>\n",
       "      <td>-0.850000</td>\n",
       "      <td>3.340000</td>\n",
       "      <td>1006.000000</td>\n",
       "      <td>0.000000</td>\n",
       "      <td>0.000000</td>\n",
       "    </tr>\n",
       "    <tr>\n",
       "      <th>25%</th>\n",
       "      <td>0.000000</td>\n",
       "      <td>0.000000</td>\n",
       "      <td>7.527500</td>\n",
       "      <td>6.210000</td>\n",
       "      <td>8.680000</td>\n",
       "      <td>1020.000000</td>\n",
       "      <td>4.000000</td>\n",
       "      <td>5.750000</td>\n",
       "    </tr>\n",
       "    <tr>\n",
       "      <th>50%</th>\n",
       "      <td>0.000000</td>\n",
       "      <td>0.000000</td>\n",
       "      <td>10.725000</td>\n",
       "      <td>9.540000</td>\n",
       "      <td>11.820000</td>\n",
       "      <td>1022.000000</td>\n",
       "      <td>7.000000</td>\n",
       "      <td>11.500000</td>\n",
       "    </tr>\n",
       "    <tr>\n",
       "      <th>75%</th>\n",
       "      <td>0.398750</td>\n",
       "      <td>0.237250</td>\n",
       "      <td>13.100000</td>\n",
       "      <td>12.230000</td>\n",
       "      <td>14.150000</td>\n",
       "      <td>1028.000000</td>\n",
       "      <td>7.000000</td>\n",
       "      <td>17.250000</td>\n",
       "    </tr>\n",
       "    <tr>\n",
       "      <th>max</th>\n",
       "      <td>3.381000</td>\n",
       "      <td>1.161000</td>\n",
       "      <td>20.610000</td>\n",
       "      <td>20.010000</td>\n",
       "      <td>22.010000</td>\n",
       "      <td>1036.000000</td>\n",
       "      <td>8.000000</td>\n",
       "      <td>23.000000</td>\n",
       "    </tr>\n",
       "  </tbody>\n",
       "</table>\n",
       "</div>"
      ],
      "text/plain": [
       "       Normal (kWh)  Autoconsumo (kWh)         temp     temp_min     temp_max  \\\n",
       "count   2256.000000        2256.000000  2256.000000  2256.000000  2256.000000   \n",
       "mean       0.268060           0.119439    10.480780     9.086436    11.587114   \n",
       "std        0.464323           0.190601     3.871195     4.102106     3.815884   \n",
       "min        0.000000           0.000000     0.930000    -0.850000     3.340000   \n",
       "25%        0.000000           0.000000     7.527500     6.210000     8.680000   \n",
       "50%        0.000000           0.000000    10.725000     9.540000    11.820000   \n",
       "75%        0.398750           0.237250    13.100000    12.230000    14.150000   \n",
       "max        3.381000           1.161000    20.610000    20.010000    22.010000   \n",
       "\n",
       "          pressure  weather_description         hora  \n",
       "count  2256.000000          2256.000000  2256.000000  \n",
       "mean   1022.994238             5.620124    11.500000  \n",
       "std       5.979823             2.392843     6.923721  \n",
       "min    1006.000000             0.000000     0.000000  \n",
       "25%    1020.000000             4.000000     5.750000  \n",
       "50%    1022.000000             7.000000    11.500000  \n",
       "75%    1028.000000             7.000000    17.250000  \n",
       "max    1036.000000             8.000000    23.000000  "
      ]
     },
     "execution_count": 60,
     "metadata": {},
     "output_type": "execute_result"
    }
   ],
   "source": [
    "test.describe()"
   ]
  },
  {
   "cell_type": "code",
   "execution_count": 61,
   "metadata": {},
   "outputs": [
    {
     "data": {
      "text/html": [
       "<div>\n",
       "<style scoped>\n",
       "    .dataframe tbody tr th:only-of-type {\n",
       "        vertical-align: middle;\n",
       "    }\n",
       "\n",
       "    .dataframe tbody tr th {\n",
       "        vertical-align: top;\n",
       "    }\n",
       "\n",
       "    .dataframe thead th {\n",
       "        text-align: right;\n",
       "    }\n",
       "</style>\n",
       "<table border=\"1\" class=\"dataframe\">\n",
       "  <thead>\n",
       "    <tr style=\"text-align: right;\">\n",
       "      <th></th>\n",
       "      <th>Normal (kWh)</th>\n",
       "      <th>Autoconsumo (kWh)</th>\n",
       "      <th>Injeção na rede (kWh)</th>\n",
       "      <th>temp</th>\n",
       "      <th>temp_min</th>\n",
       "      <th>temp_max</th>\n",
       "      <th>pressure</th>\n",
       "      <th>weather_description</th>\n",
       "      <th>hora</th>\n",
       "    </tr>\n",
       "  </thead>\n",
       "  <tbody>\n",
       "    <tr>\n",
       "      <th>count</th>\n",
       "      <td>11016.000000</td>\n",
       "      <td>11016.000000</td>\n",
       "      <td>11016.000000</td>\n",
       "      <td>11016.000000</td>\n",
       "      <td>11016.000000</td>\n",
       "      <td>11016.000000</td>\n",
       "      <td>11016.000000</td>\n",
       "      <td>11016.000000</td>\n",
       "      <td>11016.000000</td>\n",
       "    </tr>\n",
       "    <tr>\n",
       "      <th>mean</th>\n",
       "      <td>0.202278</td>\n",
       "      <td>0.117314</td>\n",
       "      <td>0.758987</td>\n",
       "      <td>16.182991</td>\n",
       "      <td>14.195064</td>\n",
       "      <td>17.288098</td>\n",
       "      <td>1018.396605</td>\n",
       "      <td>4.374818</td>\n",
       "      <td>11.500000</td>\n",
       "    </tr>\n",
       "    <tr>\n",
       "      <th>std</th>\n",
       "      <td>0.349478</td>\n",
       "      <td>0.176762</td>\n",
       "      <td>1.281918</td>\n",
       "      <td>5.756972</td>\n",
       "      <td>4.956014</td>\n",
       "      <td>6.164689</td>\n",
       "      <td>6.203379</td>\n",
       "      <td>2.403911</td>\n",
       "      <td>6.922501</td>\n",
       "    </tr>\n",
       "    <tr>\n",
       "      <th>min</th>\n",
       "      <td>0.000000</td>\n",
       "      <td>0.000000</td>\n",
       "      <td>0.000000</td>\n",
       "      <td>0.320000</td>\n",
       "      <td>-0.640000</td>\n",
       "      <td>1.330000</td>\n",
       "      <td>994.000000</td>\n",
       "      <td>0.000000</td>\n",
       "      <td>0.000000</td>\n",
       "    </tr>\n",
       "    <tr>\n",
       "      <th>25%</th>\n",
       "      <td>0.000000</td>\n",
       "      <td>0.000000</td>\n",
       "      <td>0.000000</td>\n",
       "      <td>12.080000</td>\n",
       "      <td>10.720000</td>\n",
       "      <td>12.890000</td>\n",
       "      <td>1015.000000</td>\n",
       "      <td>3.000000</td>\n",
       "      <td>5.750000</td>\n",
       "    </tr>\n",
       "    <tr>\n",
       "      <th>50%</th>\n",
       "      <td>0.000000</td>\n",
       "      <td>0.000000</td>\n",
       "      <td>0.000000</td>\n",
       "      <td>15.625000</td>\n",
       "      <td>14.230000</td>\n",
       "      <td>16.260000</td>\n",
       "      <td>1018.000000</td>\n",
       "      <td>5.000000</td>\n",
       "      <td>11.500000</td>\n",
       "    </tr>\n",
       "    <tr>\n",
       "      <th>75%</th>\n",
       "      <td>0.314000</td>\n",
       "      <td>0.227000</td>\n",
       "      <td>2.000000</td>\n",
       "      <td>19.270000</td>\n",
       "      <td>17.490000</td>\n",
       "      <td>20.340000</td>\n",
       "      <td>1022.000000</td>\n",
       "      <td>7.000000</td>\n",
       "      <td>17.250000</td>\n",
       "    </tr>\n",
       "    <tr>\n",
       "      <th>max</th>\n",
       "      <td>3.251000</td>\n",
       "      <td>1.192000</td>\n",
       "      <td>4.000000</td>\n",
       "      <td>40.850000</td>\n",
       "      <td>36.720000</td>\n",
       "      <td>41.450000</td>\n",
       "      <td>1034.000000</td>\n",
       "      <td>7.000000</td>\n",
       "      <td>23.000000</td>\n",
       "    </tr>\n",
       "  </tbody>\n",
       "</table>\n",
       "</div>"
      ],
      "text/plain": [
       "       Normal (kWh)  Autoconsumo (kWh)  Injeção na rede (kWh)          temp  \\\n",
       "count  11016.000000       11016.000000           11016.000000  11016.000000   \n",
       "mean       0.202278           0.117314               0.758987     16.182991   \n",
       "std        0.349478           0.176762               1.281918      5.756972   \n",
       "min        0.000000           0.000000               0.000000      0.320000   \n",
       "25%        0.000000           0.000000               0.000000     12.080000   \n",
       "50%        0.000000           0.000000               0.000000     15.625000   \n",
       "75%        0.314000           0.227000               2.000000     19.270000   \n",
       "max        3.251000           1.192000               4.000000     40.850000   \n",
       "\n",
       "           temp_min      temp_max      pressure  weather_description  \\\n",
       "count  11016.000000  11016.000000  11016.000000         11016.000000   \n",
       "mean      14.195064     17.288098   1018.396605             4.374818   \n",
       "std        4.956014      6.164689      6.203379             2.403911   \n",
       "min       -0.640000      1.330000    994.000000             0.000000   \n",
       "25%       10.720000     12.890000   1015.000000             3.000000   \n",
       "50%       14.230000     16.260000   1018.000000             5.000000   \n",
       "75%       17.490000     20.340000   1022.000000             7.000000   \n",
       "max       36.720000     41.450000   1034.000000             7.000000   \n",
       "\n",
       "               hora  \n",
       "count  11016.000000  \n",
       "mean      11.500000  \n",
       "std        6.922501  \n",
       "min        0.000000  \n",
       "25%        5.750000  \n",
       "50%       11.500000  \n",
       "75%       17.250000  \n",
       "max       23.000000  "
      ]
     },
     "execution_count": 61,
     "metadata": {},
     "output_type": "execute_result"
    }
   ],
   "source": [
    "train.describe()"
   ]
  },
  {
   "cell_type": "code",
   "execution_count": 62,
   "metadata": {},
   "outputs": [],
   "source": [
    "from sklearn.tree import DecisionTreeClassifier\n",
    "from sklearn.model_selection import train_test_split, cross_val_score, GridSearchCV, KFold\n",
    "from sklearn.ensemble import RandomForestClassifier, ExtraTreesClassifier\n",
    "from sklearn.feature_selection import SelectFromModel\n",
    "from sklearn.metrics import accuracy_score\n",
    "from sklearn.svm import SVC\n",
    "from sklearn.metrics import classification_report, ConfusionMatrixDisplay\n",
    "import tensorflow as tf\n",
    "from tensorflow import keras\n",
    "from tensorflow.keras.models import Sequential\n",
    "from tensorflow.keras.layers import Dense#, Dropout, BatchNormalization\n",
    "from scikeras.wrappers import KerasRegressor#, KerasClassifier"
   ]
  },
  {
   "cell_type": "code",
   "execution_count": 63,
   "metadata": {},
   "outputs": [],
   "source": [
    "train_feat = train.drop(['Injeção na rede (kWh)'], axis = 1)\n",
    "train_target = train[['Injeção na rede (kWh)']]\n",
    "\n",
    "x_train = train_feat\n",
    "y_train= np.ravel(train_target) "
   ]
  },
  {
   "cell_type": "markdown",
   "metadata": {},
   "source": [
    "# Normalização"
   ]
  },
  {
   "cell_type": "code",
   "execution_count": 64,
   "metadata": {},
   "outputs": [],
   "source": [
    "from sklearn.preprocessing import MinMaxScaler\n",
    "\n",
    "scaler_X = MinMaxScaler(feature_range=(0, 1)).fit(train_feat)\n",
    "scaler_Y = MinMaxScaler(feature_range=(0, 1)).fit(train_target)\n",
    "feat_scaled = pd.DataFrame(scaler_X.transform(train_feat[train_feat.columns]), columns=train_feat.columns)\n",
    "target_scaled = pd.DataFrame(scaler_Y.transform(train_target[train_target.columns]), columns=train_target.columns)"
   ]
  },
  {
   "cell_type": "code",
   "execution_count": 65,
   "metadata": {},
   "outputs": [
    {
     "data": {
      "text/html": [
       "<div>\n",
       "<style scoped>\n",
       "    .dataframe tbody tr th:only-of-type {\n",
       "        vertical-align: middle;\n",
       "    }\n",
       "\n",
       "    .dataframe tbody tr th {\n",
       "        vertical-align: top;\n",
       "    }\n",
       "\n",
       "    .dataframe thead th {\n",
       "        text-align: right;\n",
       "    }\n",
       "</style>\n",
       "<table border=\"1\" class=\"dataframe\">\n",
       "  <thead>\n",
       "    <tr style=\"text-align: right;\">\n",
       "      <th></th>\n",
       "      <th>Normal (kWh)</th>\n",
       "      <th>Autoconsumo (kWh)</th>\n",
       "      <th>temp</th>\n",
       "      <th>temp_min</th>\n",
       "      <th>temp_max</th>\n",
       "      <th>pressure</th>\n",
       "      <th>weather_description</th>\n",
       "      <th>hora</th>\n",
       "    </tr>\n",
       "  </thead>\n",
       "  <tbody>\n",
       "    <tr>\n",
       "      <th>count</th>\n",
       "      <td>11016.000000</td>\n",
       "      <td>11016.000000</td>\n",
       "      <td>11016.000000</td>\n",
       "      <td>11016.000000</td>\n",
       "      <td>11016.000000</td>\n",
       "      <td>11016.000000</td>\n",
       "      <td>11016.000000</td>\n",
       "      <td>11016.000000</td>\n",
       "    </tr>\n",
       "    <tr>\n",
       "      <th>mean</th>\n",
       "      <td>0.062220</td>\n",
       "      <td>0.098418</td>\n",
       "      <td>0.391389</td>\n",
       "      <td>0.397084</td>\n",
       "      <td>0.397759</td>\n",
       "      <td>0.609915</td>\n",
       "      <td>0.624974</td>\n",
       "      <td>0.500000</td>\n",
       "    </tr>\n",
       "    <tr>\n",
       "      <th>std</th>\n",
       "      <td>0.107499</td>\n",
       "      <td>0.148290</td>\n",
       "      <td>0.142042</td>\n",
       "      <td>0.132656</td>\n",
       "      <td>0.153656</td>\n",
       "      <td>0.155084</td>\n",
       "      <td>0.343416</td>\n",
       "      <td>0.300978</td>\n",
       "    </tr>\n",
       "    <tr>\n",
       "      <th>min</th>\n",
       "      <td>0.000000</td>\n",
       "      <td>0.000000</td>\n",
       "      <td>0.000000</td>\n",
       "      <td>0.000000</td>\n",
       "      <td>0.000000</td>\n",
       "      <td>0.000000</td>\n",
       "      <td>0.000000</td>\n",
       "      <td>0.000000</td>\n",
       "    </tr>\n",
       "    <tr>\n",
       "      <th>25%</th>\n",
       "      <td>0.000000</td>\n",
       "      <td>0.000000</td>\n",
       "      <td>0.290155</td>\n",
       "      <td>0.304069</td>\n",
       "      <td>0.288136</td>\n",
       "      <td>0.525000</td>\n",
       "      <td>0.428571</td>\n",
       "      <td>0.250000</td>\n",
       "    </tr>\n",
       "    <tr>\n",
       "      <th>50%</th>\n",
       "      <td>0.000000</td>\n",
       "      <td>0.000000</td>\n",
       "      <td>0.377622</td>\n",
       "      <td>0.398019</td>\n",
       "      <td>0.372134</td>\n",
       "      <td>0.600000</td>\n",
       "      <td>0.714286</td>\n",
       "      <td>0.500000</td>\n",
       "    </tr>\n",
       "    <tr>\n",
       "      <th>75%</th>\n",
       "      <td>0.096586</td>\n",
       "      <td>0.190436</td>\n",
       "      <td>0.467555</td>\n",
       "      <td>0.485278</td>\n",
       "      <td>0.473829</td>\n",
       "      <td>0.700000</td>\n",
       "      <td>1.000000</td>\n",
       "      <td>0.750000</td>\n",
       "    </tr>\n",
       "    <tr>\n",
       "      <th>max</th>\n",
       "      <td>1.000000</td>\n",
       "      <td>1.000000</td>\n",
       "      <td>1.000000</td>\n",
       "      <td>1.000000</td>\n",
       "      <td>1.000000</td>\n",
       "      <td>1.000000</td>\n",
       "      <td>1.000000</td>\n",
       "      <td>1.000000</td>\n",
       "    </tr>\n",
       "  </tbody>\n",
       "</table>\n",
       "</div>"
      ],
      "text/plain": [
       "       Normal (kWh)  Autoconsumo (kWh)          temp      temp_min  \\\n",
       "count  11016.000000       11016.000000  11016.000000  11016.000000   \n",
       "mean       0.062220           0.098418      0.391389      0.397084   \n",
       "std        0.107499           0.148290      0.142042      0.132656   \n",
       "min        0.000000           0.000000      0.000000      0.000000   \n",
       "25%        0.000000           0.000000      0.290155      0.304069   \n",
       "50%        0.000000           0.000000      0.377622      0.398019   \n",
       "75%        0.096586           0.190436      0.467555      0.485278   \n",
       "max        1.000000           1.000000      1.000000      1.000000   \n",
       "\n",
       "           temp_max      pressure  weather_description          hora  \n",
       "count  11016.000000  11016.000000         11016.000000  11016.000000  \n",
       "mean       0.397759      0.609915             0.624974      0.500000  \n",
       "std        0.153656      0.155084             0.343416      0.300978  \n",
       "min        0.000000      0.000000             0.000000      0.000000  \n",
       "25%        0.288136      0.525000             0.428571      0.250000  \n",
       "50%        0.372134      0.600000             0.714286      0.500000  \n",
       "75%        0.473829      0.700000             1.000000      0.750000  \n",
       "max        1.000000      1.000000             1.000000      1.000000  "
      ]
     },
     "execution_count": 65,
     "metadata": {},
     "output_type": "execute_result"
    }
   ],
   "source": [
    "feat_scaled.describe()"
   ]
  },
  {
   "cell_type": "code",
   "execution_count": 66,
   "metadata": {},
   "outputs": [],
   "source": [
    "# sns.heatmap(train_target.isnull(),yticklabels=False,cbar=False,cmap='viridis')"
   ]
  },
  {
   "cell_type": "markdown",
   "metadata": {},
   "source": [
    "# split train "
   ]
  },
  {
   "cell_type": "code",
   "execution_count": 67,
   "metadata": {},
   "outputs": [],
   "source": [
    "x_train2, x_test2, y_train2, y_test2 = train_test_split(feat_scaled, train_target, test_size=0.2, random_state=1000)"
   ]
  },
  {
   "cell_type": "markdown",
   "metadata": {},
   "source": [
    "## SVM"
   ]
  },
  {
   "cell_type": "code",
   "execution_count": 68,
   "metadata": {},
   "outputs": [],
   "source": [
    "# param_grid={'C':[0.1,1,10,100,1000],'gamma':[1,0.1,0.01,0.001,0.0001],'kernel':['rbf']}\n",
    "\n",
    "# grid = GridSearchCV(SVC(random_state=1000),param_grid,refit=True,verbose=3)"
   ]
  },
  {
   "cell_type": "code",
   "execution_count": 69,
   "metadata": {},
   "outputs": [],
   "source": [
    "# scores = cross_val_score(grid, feat_scaled, train_target, cv=10)"
   ]
  },
  {
   "cell_type": "code",
   "execution_count": 70,
   "metadata": {},
   "outputs": [],
   "source": [
    "# print(\"Result for SVM: %0.4f accuracy with standard deviation of %0.2f\" % (scores.mean(), scores.std()))"
   ]
  },
  {
   "cell_type": "code",
   "execution_count": 71,
   "metadata": {},
   "outputs": [],
   "source": [
    "# grid.fit(x_train2, y_train2)"
   ]
  },
  {
   "cell_type": "code",
   "execution_count": 72,
   "metadata": {},
   "outputs": [],
   "source": [
    "# predictions = grid.predict(x_test2)\n",
    "\n",
    "# predictions"
   ]
  },
  {
   "cell_type": "code",
   "execution_count": 73,
   "metadata": {},
   "outputs": [],
   "source": [
    "# from sklearn.metrics import precision_score\n",
    "# precision = precision_score(y_test2, predictions, average='micro')\n",
    "\n",
    "# print(f'Precision: {precision}')\n",
    "\n",
    "# #Confusion Matrix\n",
    "# from sklearn.metrics import confusion_matrix\n",
    "# cm = confusion_matrix(y_test2, predictions)\n",
    "\n",
    "# disp = ConfusionMatrixDisplay(confusion_matrix=cm, display_labels=[0,1,2,3,4])\n",
    "# disp.plot()"
   ]
  },
  {
   "cell_type": "markdown",
   "metadata": {},
   "source": [
    "## Random Forest"
   ]
  },
  {
   "cell_type": "code",
   "execution_count": 74,
   "metadata": {},
   "outputs": [
    {
     "name": "stdout",
     "output_type": "stream",
     "text": [
      "Result for Random Forest: 0.8500 accuracy with standard deviation of 0.02\n"
     ]
    }
   ],
   "source": [
    "modelRandomForest = RandomForestClassifier(n_estimators = 500)\n",
    "scores = cross_val_score(modelRandomForest, x_train, y_train, cv=10)\n",
    "print(\"Result for Random Forest: %0.4f accuracy with standard deviation of %0.2f\" % (scores.mean(), scores.std()))"
   ]
  },
  {
   "cell_type": "code",
   "execution_count": 75,
   "metadata": {},
   "outputs": [],
   "source": [
    "modelRandomForest.fit(x_train,y_train)\n",
    "predictions = modelRandomForest.predict(test)\n",
    "\n",
    "\n",
    "dict_target = {0 : \"None\", 1: \"Low\", 2: \"Medium\", 3: \"High\", 4:\"Very_High\"}\n",
    "sto_numeric = [dict_target[result] for result in predictions]\n",
    "\n",
    "result_df = pd.DataFrame({'RowId': range(1, len(predictions)+1), 'Result': sto_numeric})\n",
    "result_df.to_csv(\"dummy_submission.csv\", index=False)"
   ]
  },
  {
   "cell_type": "markdown",
   "metadata": {},
   "source": [
    "## Redes Neuronais"
   ]
  },
  {
   "cell_type": "code",
   "execution_count": 76,
   "metadata": {},
   "outputs": [],
   "source": [
    "x_train2, x_test2, y_train2, y_test2 = train_test_split(feat_scaled, target_scaled, test_size=0.2, random_state=1000)"
   ]
  },
  {
   "cell_type": "code",
   "execution_count": 77,
   "metadata": {},
   "outputs": [],
   "source": [
    "#tanh\n",
    "def build_model(activation = 'tanh', learning_rate = 0.01):\n",
    "    model = Sequential()\n",
    "    model.add(Dense(16, input_dim = 8, activation = activation))\n",
    "    model.add(Dense(8, activation = activation))\n",
    "    model.add(Dense(1, activation = activation))\n",
    "    \n",
    "    model.compile(loss = 'mae', \n",
    "            optimizer = tf.optimizers.Adam(learning_rate), \n",
    "            metrics = ['mae','mse'])\n",
    "    return model"
   ]
  },
  {
   "cell_type": "code",
   "execution_count": 78,
   "metadata": {},
   "outputs": [
    {
     "name": "stdout",
     "output_type": "stream",
     "text": [
      "WARNING:tensorflow:From c:\\Users\\GSenra\\AppData\\Local\\Programs\\Python\\Python310\\lib\\site-packages\\keras\\src\\backend.py:873: The name tf.get_default_graph is deprecated. Please use tf.compat.v1.get_default_graph instead.\n",
      "\n",
      "Model: \"sequential\"\n",
      "_________________________________________________________________\n",
      " Layer (type)                Output Shape              Param #   \n",
      "=================================================================\n",
      " dense (Dense)               (None, 16)                144       \n",
      "                                                                 \n",
      " dense_1 (Dense)             (None, 8)                 136       \n",
      "                                                                 \n",
      " dense_2 (Dense)             (None, 1)                 9         \n",
      "                                                                 \n",
      "=================================================================\n",
      "Total params: 289 (1.13 KB)\n",
      "Trainable params: 289 (1.13 KB)\n",
      "Non-trainable params: 0 (0.00 Byte)\n",
      "_________________________________________________________________\n"
     ]
    }
   ],
   "source": [
    "model = build_model()\n",
    "model.summary()"
   ]
  },
  {
   "cell_type": "code",
   "execution_count": 79,
   "metadata": {},
   "outputs": [],
   "source": [
    "optimizer = ['SGD', 'RMSprop', 'Adagrad']\n",
    "param_grid = dict(optimizer = optimizer)"
   ]
  },
  {
   "cell_type": "code",
   "execution_count": 80,
   "metadata": {},
   "outputs": [],
   "source": [
    "kf = KFold(n_splits = 5, shuffle = True, random_state = 2021)"
   ]
  },
  {
   "cell_type": "code",
   "execution_count": 81,
   "metadata": {},
   "outputs": [],
   "source": [
    "model = KerasRegressor(model = build_model, batch_size = 32,validation_split = 0.2, epochs = 20)"
   ]
  },
  {
   "cell_type": "code",
   "execution_count": 82,
   "metadata": {},
   "outputs": [],
   "source": [
    "grid_search = GridSearchCV(estimator=model, param_grid=param_grid, cv=kf, scoring='neg_mean_absolute_error', refit='True', verbose=1)"
   ]
  },
  {
   "cell_type": "code",
   "execution_count": 83,
   "metadata": {},
   "outputs": [
    {
     "name": "stdout",
     "output_type": "stream",
     "text": [
      "Fitting 5 folds for each of 3 candidates, totalling 15 fits\n",
      "Epoch 1/20\n"
     ]
    },
    {
     "name": "stdout",
     "output_type": "stream",
     "text": [
      "WARNING:tensorflow:From c:\\Users\\GSenra\\AppData\\Local\\Programs\\Python\\Python310\\lib\\site-packages\\keras\\src\\utils\\tf_utils.py:492: The name tf.ragged.RaggedTensorValue is deprecated. Please use tf.compat.v1.ragged.RaggedTensorValue instead.\n",
      "\n",
      "WARNING:tensorflow:From c:\\Users\\GSenra\\AppData\\Local\\Programs\\Python\\Python310\\lib\\site-packages\\keras\\src\\engine\\base_layer_utils.py:384: The name tf.executing_eagerly_outside_functions is deprecated. Please use tf.compat.v1.executing_eagerly_outside_functions instead.\n",
      "\n",
      "177/177 [==============================] - 11s 24ms/step - loss: 0.1362 - mae: 0.1362 - mse: 0.0486 - val_loss: 0.1236 - val_mae: 0.1236 - val_mse: 0.0337\n",
      "Epoch 2/20\n",
      "177/177 [==============================] - 2s 14ms/step - loss: 0.1010 - mae: 0.1010 - mse: 0.0307 - val_loss: 0.0851 - val_mae: 0.0851 - val_mse: 0.0239\n",
      "Epoch 3/20\n",
      "177/177 [==============================] - 2s 14ms/step - loss: 0.0840 - mae: 0.0840 - mse: 0.0237 - val_loss: 0.0768 - val_mae: 0.0768 - val_mse: 0.0205\n",
      "Epoch 4/20\n",
      "177/177 [==============================] - 3s 15ms/step - loss: 0.0759 - mae: 0.0759 - mse: 0.0206 - val_loss: 0.0784 - val_mae: 0.0784 - val_mse: 0.0183\n",
      "Epoch 5/20\n",
      "177/177 [==============================] - 3s 18ms/step - loss: 0.0712 - mae: 0.0712 - mse: 0.0195 - val_loss: 0.0756 - val_mae: 0.0756 - val_mse: 0.0176\n",
      "Epoch 6/20\n",
      "177/177 [==============================] - 4s 22ms/step - loss: 0.0702 - mae: 0.0702 - mse: 0.0188 - val_loss: 0.0644 - val_mae: 0.0644 - val_mse: 0.0170\n",
      "Epoch 7/20\n",
      "177/177 [==============================] - 2s 13ms/step - loss: 0.0669 - mae: 0.0669 - mse: 0.0184 - val_loss: 0.0627 - val_mae: 0.0627 - val_mse: 0.0163\n",
      "Epoch 8/20\n",
      "177/177 [==============================] - 2s 10ms/step - loss: 0.0652 - mae: 0.0652 - mse: 0.0176 - val_loss: 0.0693 - val_mae: 0.0693 - val_mse: 0.0163\n",
      "Epoch 9/20\n",
      "177/177 [==============================] - 3s 15ms/step - loss: 0.0674 - mae: 0.0674 - mse: 0.0178 - val_loss: 0.0731 - val_mae: 0.0731 - val_mse: 0.0164\n",
      "Epoch 10/20\n",
      "177/177 [==============================] - 3s 17ms/step - loss: 0.0646 - mae: 0.0646 - mse: 0.0177 - val_loss: 0.0702 - val_mae: 0.0702 - val_mse: 0.0179\n",
      "Epoch 11/20\n",
      "177/177 [==============================] - 2s 11ms/step - loss: 0.0665 - mae: 0.0665 - mse: 0.0184 - val_loss: 0.0697 - val_mae: 0.0697 - val_mse: 0.0166\n",
      "Epoch 12/20\n",
      "177/177 [==============================] - 3s 18ms/step - loss: 0.0640 - mae: 0.0640 - mse: 0.0172 - val_loss: 0.0662 - val_mae: 0.0662 - val_mse: 0.0166\n",
      "Epoch 13/20\n",
      "177/177 [==============================] - 2s 12ms/step - loss: 0.0622 - mae: 0.0622 - mse: 0.0169 - val_loss: 0.0633 - val_mae: 0.0633 - val_mse: 0.0163\n",
      "Epoch 14/20\n",
      "177/177 [==============================] - 3s 17ms/step - loss: 0.0622 - mae: 0.0622 - mse: 0.0168 - val_loss: 0.0635 - val_mae: 0.0635 - val_mse: 0.0160\n",
      "Epoch 15/20\n",
      "177/177 [==============================] - 3s 14ms/step - loss: 0.0621 - mae: 0.0621 - mse: 0.0167 - val_loss: 0.0617 - val_mae: 0.0617 - val_mse: 0.0165\n",
      "Epoch 16/20\n",
      "177/177 [==============================] - 3s 18ms/step - loss: 0.0621 - mae: 0.0621 - mse: 0.0166 - val_loss: 0.0608 - val_mae: 0.0608 - val_mse: 0.0158\n",
      "Epoch 17/20\n",
      "177/177 [==============================] - 2s 10ms/step - loss: 0.0624 - mae: 0.0624 - mse: 0.0169 - val_loss: 0.0632 - val_mae: 0.0632 - val_mse: 0.0159\n",
      "Epoch 18/20\n",
      "177/177 [==============================] - 2s 9ms/step - loss: 0.0617 - mae: 0.0617 - mse: 0.0165 - val_loss: 0.0597 - val_mae: 0.0597 - val_mse: 0.0155\n",
      "Epoch 19/20\n",
      "177/177 [==============================] - 2s 10ms/step - loss: 0.0624 - mae: 0.0624 - mse: 0.0166 - val_loss: 0.0616 - val_mae: 0.0616 - val_mse: 0.0158\n",
      "Epoch 20/20\n",
      "177/177 [==============================] - 2s 10ms/step - loss: 0.0608 - mae: 0.0608 - mse: 0.0164 - val_loss: 0.0600 - val_mae: 0.0600 - val_mse: 0.0160\n",
      "56/56 [==============================] - 1s 7ms/step\n",
      "Epoch 1/20\n",
      "177/177 [==============================] - 7s 15ms/step - loss: 0.1346 - mae: 0.1346 - mse: 0.0446 - val_loss: 0.1117 - val_mae: 0.1117 - val_mse: 0.0351\n",
      "Epoch 2/20\n",
      "177/177 [==============================] - 2s 9ms/step - loss: 0.0964 - mae: 0.0964 - mse: 0.0266 - val_loss: 0.0827 - val_mae: 0.0827 - val_mse: 0.0222\n",
      "Epoch 3/20\n",
      "177/177 [==============================] - 2s 9ms/step - loss: 0.0787 - mae: 0.0787 - mse: 0.0209 - val_loss: 0.0850 - val_mae: 0.0850 - val_mse: 0.0219\n",
      "Epoch 4/20\n",
      "177/177 [==============================] - 2s 10ms/step - loss: 0.0721 - mae: 0.0721 - mse: 0.0185 - val_loss: 0.0679 - val_mae: 0.0679 - val_mse: 0.0171\n",
      "Epoch 5/20\n",
      "177/177 [==============================] - 2s 10ms/step - loss: 0.0683 - mae: 0.0683 - mse: 0.0180 - val_loss: 0.0656 - val_mae: 0.0656 - val_mse: 0.0175\n",
      "Epoch 6/20\n",
      "177/177 [==============================] - 2s 11ms/step - loss: 0.0657 - mae: 0.0657 - mse: 0.0174 - val_loss: 0.0638 - val_mae: 0.0638 - val_mse: 0.0163\n",
      "Epoch 7/20\n",
      "177/177 [==============================] - 2s 10ms/step - loss: 0.0686 - mae: 0.0686 - mse: 0.0179 - val_loss: 0.0623 - val_mae: 0.0623 - val_mse: 0.0159\n",
      "Epoch 8/20\n",
      "177/177 [==============================] - 2s 10ms/step - loss: 0.0638 - mae: 0.0638 - mse: 0.0170 - val_loss: 0.0662 - val_mae: 0.0662 - val_mse: 0.0163\n",
      "Epoch 9/20\n",
      "177/177 [==============================] - 2s 10ms/step - loss: 0.0632 - mae: 0.0632 - mse: 0.0167 - val_loss: 0.0622 - val_mae: 0.0622 - val_mse: 0.0165\n",
      "Epoch 10/20\n",
      "177/177 [==============================] - 2s 10ms/step - loss: 0.0642 - mae: 0.0642 - mse: 0.0171 - val_loss: 0.0684 - val_mae: 0.0684 - val_mse: 0.0173\n",
      "Epoch 11/20\n",
      "177/177 [==============================] - 2s 10ms/step - loss: 0.0626 - mae: 0.0626 - mse: 0.0170 - val_loss: 0.0617 - val_mae: 0.0617 - val_mse: 0.0160\n",
      "Epoch 12/20\n",
      "177/177 [==============================] - 2s 10ms/step - loss: 0.0642 - mae: 0.0642 - mse: 0.0172 - val_loss: 0.0646 - val_mae: 0.0646 - val_mse: 0.0178\n",
      "Epoch 13/20\n",
      "177/177 [==============================] - 2s 10ms/step - loss: 0.0624 - mae: 0.0624 - mse: 0.0170 - val_loss: 0.0627 - val_mae: 0.0627 - val_mse: 0.0160\n",
      "Epoch 14/20\n",
      "177/177 [==============================] - 2s 9ms/step - loss: 0.0628 - mae: 0.0628 - mse: 0.0166 - val_loss: 0.0659 - val_mae: 0.0659 - val_mse: 0.0182\n",
      "Epoch 15/20\n",
      "177/177 [==============================] - 2s 10ms/step - loss: 0.0617 - mae: 0.0617 - mse: 0.0165 - val_loss: 0.0611 - val_mae: 0.0611 - val_mse: 0.0158\n",
      "Epoch 16/20\n",
      "177/177 [==============================] - 2s 10ms/step - loss: 0.0615 - mae: 0.0615 - mse: 0.0163 - val_loss: 0.0611 - val_mae: 0.0611 - val_mse: 0.0156\n",
      "Epoch 17/20\n",
      "177/177 [==============================] - 2s 10ms/step - loss: 0.0612 - mae: 0.0612 - mse: 0.0166 - val_loss: 0.0601 - val_mae: 0.0601 - val_mse: 0.0156\n",
      "Epoch 18/20\n",
      "177/177 [==============================] - 2s 9ms/step - loss: 0.0615 - mae: 0.0615 - mse: 0.0165 - val_loss: 0.0656 - val_mae: 0.0656 - val_mse: 0.0185\n",
      "Epoch 19/20\n",
      "177/177 [==============================] - 2s 9ms/step - loss: 0.0609 - mae: 0.0609 - mse: 0.0162 - val_loss: 0.0713 - val_mae: 0.0713 - val_mse: 0.0212\n",
      "Epoch 20/20\n",
      "177/177 [==============================] - 2s 10ms/step - loss: 0.0606 - mae: 0.0606 - mse: 0.0164 - val_loss: 0.0622 - val_mae: 0.0622 - val_mse: 0.0153\n",
      "56/56 [==============================] - 1s 6ms/step\n",
      "Epoch 1/20\n",
      "177/177 [==============================] - 7s 15ms/step - loss: 0.1602 - mae: 0.1602 - mse: 0.0634 - val_loss: 0.1173 - val_mae: 0.1173 - val_mse: 0.0371\n",
      "Epoch 2/20\n",
      "177/177 [==============================] - 2s 9ms/step - loss: 0.1068 - mae: 0.1068 - mse: 0.0339 - val_loss: 0.0986 - val_mae: 0.0986 - val_mse: 0.0328\n",
      "Epoch 3/20\n",
      "177/177 [==============================] - 2s 11ms/step - loss: 0.0857 - mae: 0.0857 - mse: 0.0261 - val_loss: 0.0826 - val_mae: 0.0826 - val_mse: 0.0224\n",
      "Epoch 4/20\n",
      "177/177 [==============================] - 2s 10ms/step - loss: 0.0743 - mae: 0.0743 - mse: 0.0226 - val_loss: 0.0758 - val_mae: 0.0758 - val_mse: 0.0203\n",
      "Epoch 5/20\n",
      "177/177 [==============================] - 2s 10ms/step - loss: 0.0701 - mae: 0.0701 - mse: 0.0208 - val_loss: 0.0688 - val_mae: 0.0688 - val_mse: 0.0193\n",
      "Epoch 6/20\n",
      "177/177 [==============================] - 2s 9ms/step - loss: 0.0664 - mae: 0.0664 - mse: 0.0194 - val_loss: 0.0702 - val_mae: 0.0702 - val_mse: 0.0190\n",
      "Epoch 7/20\n",
      "177/177 [==============================] - 2s 13ms/step - loss: 0.0662 - mae: 0.0662 - mse: 0.0194 - val_loss: 0.0695 - val_mae: 0.0695 - val_mse: 0.0195\n",
      "Epoch 8/20\n",
      "177/177 [==============================] - 2s 11ms/step - loss: 0.0641 - mae: 0.0641 - mse: 0.0186 - val_loss: 0.0671 - val_mae: 0.0671 - val_mse: 0.0184\n",
      "Epoch 9/20\n",
      "177/177 [==============================] - 13s 76ms/step - loss: 0.0639 - mae: 0.0639 - mse: 0.0187 - val_loss: 0.0685 - val_mae: 0.0685 - val_mse: 0.0188\n",
      "Epoch 10/20\n",
      "177/177 [==============================] - 9s 49ms/step - loss: 0.0636 - mae: 0.0636 - mse: 0.0182 - val_loss: 0.0665 - val_mae: 0.0665 - val_mse: 0.0185\n",
      "Epoch 11/20\n",
      "177/177 [==============================] - 11s 60ms/step - loss: 0.0636 - mae: 0.0636 - mse: 0.0183 - val_loss: 0.0793 - val_mae: 0.0793 - val_mse: 0.0189\n",
      "Epoch 12/20\n",
      "177/177 [==============================] - 5s 27ms/step - loss: 0.0628 - mae: 0.0628 - mse: 0.0181 - val_loss: 0.0654 - val_mae: 0.0654 - val_mse: 0.0181\n",
      "Epoch 13/20\n",
      "177/177 [==============================] - 2s 13ms/step - loss: 0.0614 - mae: 0.0614 - mse: 0.0181 - val_loss: 0.0662 - val_mae: 0.0662 - val_mse: 0.0183\n",
      "Epoch 14/20\n",
      "177/177 [==============================] - 3s 16ms/step - loss: 0.0613 - mae: 0.0613 - mse: 0.0179 - val_loss: 0.0631 - val_mae: 0.0631 - val_mse: 0.0186\n",
      "Epoch 15/20\n",
      "177/177 [==============================] - 3s 15ms/step - loss: 0.0619 - mae: 0.0619 - mse: 0.0177 - val_loss: 0.0658 - val_mae: 0.0658 - val_mse: 0.0189\n",
      "Epoch 16/20\n",
      "177/177 [==============================] - 2s 14ms/step - loss: 0.0624 - mae: 0.0624 - mse: 0.0181 - val_loss: 0.0720 - val_mae: 0.0720 - val_mse: 0.0203\n",
      "Epoch 17/20\n",
      "177/177 [==============================] - 3s 15ms/step - loss: 0.0622 - mae: 0.0622 - mse: 0.0177 - val_loss: 0.0695 - val_mae: 0.0695 - val_mse: 0.0216\n",
      "Epoch 18/20\n",
      "177/177 [==============================] - 4s 22ms/step - loss: 0.0609 - mae: 0.0609 - mse: 0.0183 - val_loss: 0.0636 - val_mae: 0.0636 - val_mse: 0.0184\n",
      "Epoch 19/20\n",
      "177/177 [==============================] - 3s 19ms/step - loss: 0.0618 - mae: 0.0618 - mse: 0.0178 - val_loss: 0.0666 - val_mae: 0.0666 - val_mse: 0.0194\n",
      "Epoch 20/20\n",
      "177/177 [==============================] - 3s 15ms/step - loss: 0.0603 - mae: 0.0603 - mse: 0.0181 - val_loss: 0.0688 - val_mae: 0.0688 - val_mse: 0.0218\n",
      "56/56 [==============================] - 1s 10ms/step\n",
      "Epoch 1/20\n",
      "177/177 [==============================] - 13s 25ms/step - loss: 0.1292 - mae: 0.1292 - mse: 0.0465 - val_loss: 0.1166 - val_mae: 0.1166 - val_mse: 0.0412\n",
      "Epoch 2/20\n",
      "177/177 [==============================] - 3s 18ms/step - loss: 0.1071 - mae: 0.1071 - mse: 0.0345 - val_loss: 0.0998 - val_mae: 0.0998 - val_mse: 0.0324\n",
      "Epoch 3/20\n",
      "177/177 [==============================] - 3s 15ms/step - loss: 0.0862 - mae: 0.0862 - mse: 0.0252 - val_loss: 0.0749 - val_mae: 0.0749 - val_mse: 0.0203\n",
      "Epoch 4/20\n",
      "177/177 [==============================] - 3s 16ms/step - loss: 0.0734 - mae: 0.0734 - mse: 0.0207 - val_loss: 0.0697 - val_mae: 0.0697 - val_mse: 0.0190\n",
      "Epoch 5/20\n",
      "177/177 [==============================] - 3s 15ms/step - loss: 0.0684 - mae: 0.0684 - mse: 0.0196 - val_loss: 0.0652 - val_mae: 0.0652 - val_mse: 0.0181\n",
      "Epoch 6/20\n",
      "177/177 [==============================] - 3s 16ms/step - loss: 0.0658 - mae: 0.0658 - mse: 0.0194 - val_loss: 0.0659 - val_mae: 0.0659 - val_mse: 0.0195\n",
      "Epoch 7/20\n",
      "177/177 [==============================] - 3s 16ms/step - loss: 0.0637 - mae: 0.0637 - mse: 0.0188 - val_loss: 0.0719 - val_mae: 0.0719 - val_mse: 0.0178\n",
      "Epoch 8/20\n",
      "177/177 [==============================] - 4s 20ms/step - loss: 0.0639 - mae: 0.0639 - mse: 0.0185 - val_loss: 0.0631 - val_mae: 0.0631 - val_mse: 0.0184\n",
      "Epoch 9/20\n",
      "177/177 [==============================] - 3s 20ms/step - loss: 0.0629 - mae: 0.0629 - mse: 0.0185 - val_loss: 0.0657 - val_mae: 0.0657 - val_mse: 0.0177\n",
      "Epoch 10/20\n",
      "177/177 [==============================] - 3s 15ms/step - loss: 0.0621 - mae: 0.0621 - mse: 0.0185 - val_loss: 0.0636 - val_mae: 0.0636 - val_mse: 0.0179\n",
      "Epoch 11/20\n",
      "177/177 [==============================] - 3s 17ms/step - loss: 0.0614 - mae: 0.0614 - mse: 0.0185 - val_loss: 0.0668 - val_mae: 0.0668 - val_mse: 0.0184\n",
      "Epoch 12/20\n",
      "177/177 [==============================] - 3s 16ms/step - loss: 0.0616 - mae: 0.0616 - mse: 0.0186 - val_loss: 0.0620 - val_mae: 0.0620 - val_mse: 0.0188\n",
      "Epoch 13/20\n",
      "177/177 [==============================] - 3s 16ms/step - loss: 0.0610 - mae: 0.0610 - mse: 0.0186 - val_loss: 0.0631 - val_mae: 0.0631 - val_mse: 0.0191\n",
      "Epoch 14/20\n",
      "177/177 [==============================] - 3s 15ms/step - loss: 0.0607 - mae: 0.0607 - mse: 0.0186 - val_loss: 0.0620 - val_mae: 0.0620 - val_mse: 0.0184\n",
      "Epoch 15/20\n",
      "177/177 [==============================] - 4s 24ms/step - loss: 0.0612 - mae: 0.0612 - mse: 0.0188 - val_loss: 0.0615 - val_mae: 0.0615 - val_mse: 0.0185\n",
      "Epoch 16/20\n",
      "177/177 [==============================] - 4s 25ms/step - loss: 0.0620 - mae: 0.0620 - mse: 0.0190 - val_loss: 0.0689 - val_mae: 0.0689 - val_mse: 0.0208\n",
      "Epoch 17/20\n",
      "177/177 [==============================] - 2s 13ms/step - loss: 0.0612 - mae: 0.0612 - mse: 0.0189 - val_loss: 0.0615 - val_mae: 0.0615 - val_mse: 0.0187\n",
      "Epoch 18/20\n",
      "177/177 [==============================] - 3s 16ms/step - loss: 0.0600 - mae: 0.0600 - mse: 0.0183 - val_loss: 0.0657 - val_mae: 0.0657 - val_mse: 0.0178\n",
      "Epoch 19/20\n",
      "177/177 [==============================] - 3s 17ms/step - loss: 0.0613 - mae: 0.0613 - mse: 0.0189 - val_loss: 0.0605 - val_mae: 0.0605 - val_mse: 0.0183\n",
      "Epoch 20/20\n",
      "177/177 [==============================] - 4s 22ms/step - loss: 0.0603 - mae: 0.0603 - mse: 0.0188 - val_loss: 0.0627 - val_mae: 0.0627 - val_mse: 0.0181\n",
      "56/56 [==============================] - 3s 16ms/step\n",
      "Epoch 1/20\n",
      "177/177 [==============================] - 10s 16ms/step - loss: 0.1383 - mae: 0.1383 - mse: 0.0520 - val_loss: 0.1014 - val_mae: 0.1014 - val_mse: 0.0329\n",
      "Epoch 2/20\n",
      "177/177 [==============================] - 2s 12ms/step - loss: 0.0957 - mae: 0.0957 - mse: 0.0276 - val_loss: 0.0882 - val_mae: 0.0882 - val_mse: 0.0242\n",
      "Epoch 3/20\n",
      "177/177 [==============================] - 2s 10ms/step - loss: 0.0849 - mae: 0.0849 - mse: 0.0227 - val_loss: 0.0880 - val_mae: 0.0880 - val_mse: 0.0218\n",
      "Epoch 4/20\n",
      "177/177 [==============================] - 2s 10ms/step - loss: 0.0799 - mae: 0.0799 - mse: 0.0208 - val_loss: 0.0741 - val_mae: 0.0741 - val_mse: 0.0207\n",
      "Epoch 5/20\n",
      "177/177 [==============================] - 2s 10ms/step - loss: 0.0729 - mae: 0.0729 - mse: 0.0193 - val_loss: 0.0688 - val_mae: 0.0688 - val_mse: 0.0189\n",
      "Epoch 6/20\n",
      "177/177 [==============================] - 2s 9ms/step - loss: 0.0684 - mae: 0.0684 - mse: 0.0188 - val_loss: 0.0675 - val_mae: 0.0675 - val_mse: 0.0192\n",
      "Epoch 7/20\n",
      "177/177 [==============================] - 2s 10ms/step - loss: 0.0668 - mae: 0.0668 - mse: 0.0185 - val_loss: 0.0711 - val_mae: 0.0711 - val_mse: 0.0196\n",
      "Epoch 8/20\n",
      "177/177 [==============================] - 2s 10ms/step - loss: 0.0654 - mae: 0.0654 - mse: 0.0183 - val_loss: 0.0694 - val_mae: 0.0694 - val_mse: 0.0207\n",
      "Epoch 9/20\n",
      "177/177 [==============================] - 2s 9ms/step - loss: 0.0659 - mae: 0.0659 - mse: 0.0180 - val_loss: 0.0665 - val_mae: 0.0665 - val_mse: 0.0181\n",
      "Epoch 10/20\n",
      "177/177 [==============================] - 2s 9ms/step - loss: 0.0646 - mae: 0.0646 - mse: 0.0179 - val_loss: 0.0651 - val_mae: 0.0651 - val_mse: 0.0182\n",
      "Epoch 11/20\n",
      "177/177 [==============================] - 2s 10ms/step - loss: 0.0627 - mae: 0.0627 - mse: 0.0178 - val_loss: 0.0679 - val_mae: 0.0679 - val_mse: 0.0190\n",
      "Epoch 12/20\n",
      "177/177 [==============================] - 2s 10ms/step - loss: 0.0632 - mae: 0.0632 - mse: 0.0174 - val_loss: 0.0642 - val_mae: 0.0642 - val_mse: 0.0177\n",
      "Epoch 13/20\n",
      "177/177 [==============================] - 2s 10ms/step - loss: 0.0633 - mae: 0.0633 - mse: 0.0179 - val_loss: 0.0709 - val_mae: 0.0709 - val_mse: 0.0187\n",
      "Epoch 14/20\n",
      "177/177 [==============================] - 2s 10ms/step - loss: 0.0619 - mae: 0.0619 - mse: 0.0173 - val_loss: 0.0649 - val_mae: 0.0649 - val_mse: 0.0182\n",
      "Epoch 15/20\n",
      "177/177 [==============================] - 2s 9ms/step - loss: 0.0625 - mae: 0.0625 - mse: 0.0175 - val_loss: 0.0645 - val_mae: 0.0645 - val_mse: 0.0186\n",
      "Epoch 16/20\n",
      "177/177 [==============================] - 2s 10ms/step - loss: 0.0622 - mae: 0.0622 - mse: 0.0176 - val_loss: 0.0633 - val_mae: 0.0633 - val_mse: 0.0178\n",
      "Epoch 17/20\n",
      "177/177 [==============================] - 2s 9ms/step - loss: 0.0608 - mae: 0.0608 - mse: 0.0171 - val_loss: 0.0679 - val_mae: 0.0679 - val_mse: 0.0179\n",
      "Epoch 18/20\n",
      "177/177 [==============================] - 2s 9ms/step - loss: 0.0628 - mae: 0.0628 - mse: 0.0176 - val_loss: 0.0655 - val_mae: 0.0655 - val_mse: 0.0173\n",
      "Epoch 19/20\n",
      "177/177 [==============================] - 2s 9ms/step - loss: 0.0618 - mae: 0.0618 - mse: 0.0172 - val_loss: 0.0649 - val_mae: 0.0649 - val_mse: 0.0175\n",
      "Epoch 20/20\n",
      "177/177 [==============================] - 2s 9ms/step - loss: 0.0621 - mae: 0.0621 - mse: 0.0171 - val_loss: 0.0664 - val_mae: 0.0664 - val_mse: 0.0195\n",
      "56/56 [==============================] - 1s 7ms/step\n",
      "Epoch 1/20\n",
      "177/177 [==============================] - 6s 14ms/step - loss: 0.1329 - mae: 0.1329 - mse: 0.0464 - val_loss: 0.1083 - val_mae: 0.1083 - val_mse: 0.0357\n",
      "Epoch 2/20\n",
      "177/177 [==============================] - 2s 9ms/step - loss: 0.1160 - mae: 0.1160 - mse: 0.0383 - val_loss: 0.1100 - val_mae: 0.1100 - val_mse: 0.0354\n",
      "Epoch 3/20\n",
      "177/177 [==============================] - 2s 9ms/step - loss: 0.1121 - mae: 0.1121 - mse: 0.0376 - val_loss: 0.1056 - val_mae: 0.1056 - val_mse: 0.0361\n",
      "Epoch 4/20\n",
      "177/177 [==============================] - 2s 9ms/step - loss: 0.1071 - mae: 0.1071 - mse: 0.0352 - val_loss: 0.0997 - val_mae: 0.0997 - val_mse: 0.0313\n",
      "Epoch 5/20\n",
      "177/177 [==============================] - 2s 10ms/step - loss: 0.1041 - mae: 0.1041 - mse: 0.0316 - val_loss: 0.1085 - val_mae: 0.1085 - val_mse: 0.0295\n",
      "Epoch 6/20\n",
      "177/177 [==============================] - 2s 10ms/step - loss: 0.1010 - mae: 0.1010 - mse: 0.0286 - val_loss: 0.0946 - val_mae: 0.0946 - val_mse: 0.0263\n",
      "Epoch 7/20\n",
      "177/177 [==============================] - 2s 10ms/step - loss: 0.0951 - mae: 0.0951 - mse: 0.0251 - val_loss: 0.0851 - val_mae: 0.0851 - val_mse: 0.0221\n",
      "Epoch 8/20\n",
      "177/177 [==============================] - 2s 10ms/step - loss: 0.0823 - mae: 0.0823 - mse: 0.0208 - val_loss: 0.0814 - val_mae: 0.0814 - val_mse: 0.0183\n",
      "Epoch 9/20\n",
      "177/177 [==============================] - 2s 9ms/step - loss: 0.0731 - mae: 0.0731 - mse: 0.0189 - val_loss: 0.0687 - val_mae: 0.0687 - val_mse: 0.0172\n",
      "Epoch 10/20\n",
      "177/177 [==============================] - 2s 9ms/step - loss: 0.0680 - mae: 0.0680 - mse: 0.0181 - val_loss: 0.0740 - val_mae: 0.0740 - val_mse: 0.0180\n",
      "Epoch 11/20\n",
      "177/177 [==============================] - 2s 9ms/step - loss: 0.0663 - mae: 0.0663 - mse: 0.0175 - val_loss: 0.0636 - val_mae: 0.0636 - val_mse: 0.0163\n",
      "Epoch 12/20\n",
      "177/177 [==============================] - 2s 9ms/step - loss: 0.0654 - mae: 0.0654 - mse: 0.0173 - val_loss: 0.0626 - val_mae: 0.0626 - val_mse: 0.0159\n",
      "Epoch 13/20\n",
      "177/177 [==============================] - 2s 10ms/step - loss: 0.0639 - mae: 0.0639 - mse: 0.0173 - val_loss: 0.0650 - val_mae: 0.0650 - val_mse: 0.0158\n",
      "Epoch 14/20\n",
      "177/177 [==============================] - 2s 10ms/step - loss: 0.0634 - mae: 0.0634 - mse: 0.0171 - val_loss: 0.0610 - val_mae: 0.0610 - val_mse: 0.0158\n",
      "Epoch 15/20\n",
      "177/177 [==============================] - 2s 11ms/step - loss: 0.0628 - mae: 0.0628 - mse: 0.0169 - val_loss: 0.0626 - val_mae: 0.0626 - val_mse: 0.0169\n",
      "Epoch 16/20\n",
      "177/177 [==============================] - 2s 10ms/step - loss: 0.0644 - mae: 0.0644 - mse: 0.0171 - val_loss: 0.0623 - val_mae: 0.0623 - val_mse: 0.0157\n",
      "Epoch 17/20\n",
      "177/177 [==============================] - 2s 10ms/step - loss: 0.0627 - mae: 0.0627 - mse: 0.0169 - val_loss: 0.0606 - val_mae: 0.0606 - val_mse: 0.0154\n",
      "Epoch 18/20\n",
      "177/177 [==============================] - 2s 9ms/step - loss: 0.0626 - mae: 0.0626 - mse: 0.0172 - val_loss: 0.0695 - val_mae: 0.0695 - val_mse: 0.0186\n",
      "Epoch 19/20\n",
      "177/177 [==============================] - 2s 10ms/step - loss: 0.0621 - mae: 0.0621 - mse: 0.0169 - val_loss: 0.0652 - val_mae: 0.0652 - val_mse: 0.0179\n",
      "Epoch 20/20\n",
      "177/177 [==============================] - 2s 10ms/step - loss: 0.0628 - mae: 0.0628 - mse: 0.0170 - val_loss: 0.0620 - val_mae: 0.0620 - val_mse: 0.0153\n",
      "56/56 [==============================] - 1s 6ms/step\n",
      "Epoch 1/20\n",
      "177/177 [==============================] - 7s 15ms/step - loss: 0.1578 - mae: 0.1578 - mse: 0.0631 - val_loss: 0.1088 - val_mae: 0.1088 - val_mse: 0.0373\n",
      "Epoch 2/20\n",
      "177/177 [==============================] - 2s 10ms/step - loss: 0.1043 - mae: 0.1043 - mse: 0.0321 - val_loss: 0.0934 - val_mae: 0.0934 - val_mse: 0.0280\n",
      "Epoch 3/20\n",
      "177/177 [==============================] - 2s 9ms/step - loss: 0.0937 - mae: 0.0937 - mse: 0.0252 - val_loss: 0.0811 - val_mae: 0.0811 - val_mse: 0.0215\n",
      "Epoch 4/20\n",
      "177/177 [==============================] - 1s 8ms/step - loss: 0.0823 - mae: 0.0823 - mse: 0.0214 - val_loss: 0.0945 - val_mae: 0.0945 - val_mse: 0.0281\n",
      "Epoch 5/20\n",
      "177/177 [==============================] - 1s 8ms/step - loss: 0.0775 - mae: 0.0775 - mse: 0.0202 - val_loss: 0.0754 - val_mae: 0.0754 - val_mse: 0.0209\n",
      "Epoch 6/20\n",
      "177/177 [==============================] - 2s 9ms/step - loss: 0.0743 - mae: 0.0743 - mse: 0.0191 - val_loss: 0.0693 - val_mae: 0.0693 - val_mse: 0.0178\n",
      "Epoch 7/20\n",
      "177/177 [==============================] - 2s 9ms/step - loss: 0.0694 - mae: 0.0694 - mse: 0.0180 - val_loss: 0.0751 - val_mae: 0.0751 - val_mse: 0.0209\n",
      "Epoch 8/20\n",
      "177/177 [==============================] - 2s 10ms/step - loss: 0.0670 - mae: 0.0670 - mse: 0.0177 - val_loss: 0.0644 - val_mae: 0.0644 - val_mse: 0.0167\n",
      "Epoch 9/20\n",
      "177/177 [==============================] - 2s 10ms/step - loss: 0.0650 - mae: 0.0650 - mse: 0.0172 - val_loss: 0.0631 - val_mae: 0.0631 - val_mse: 0.0169\n",
      "Epoch 10/20\n",
      "177/177 [==============================] - 2s 9ms/step - loss: 0.0647 - mae: 0.0647 - mse: 0.0173 - val_loss: 0.0678 - val_mae: 0.0678 - val_mse: 0.0189\n",
      "Epoch 11/20\n",
      "177/177 [==============================] - 2s 9ms/step - loss: 0.0645 - mae: 0.0645 - mse: 0.0173 - val_loss: 0.0660 - val_mae: 0.0660 - val_mse: 0.0187\n",
      "Epoch 12/20\n",
      "177/177 [==============================] - 2s 9ms/step - loss: 0.0627 - mae: 0.0627 - mse: 0.0173 - val_loss: 0.0699 - val_mae: 0.0699 - val_mse: 0.0187\n",
      "Epoch 13/20\n",
      "177/177 [==============================] - 2s 10ms/step - loss: 0.0642 - mae: 0.0642 - mse: 0.0177 - val_loss: 0.0637 - val_mae: 0.0637 - val_mse: 0.0170\n",
      "Epoch 14/20\n",
      "177/177 [==============================] - 2s 9ms/step - loss: 0.0632 - mae: 0.0632 - mse: 0.0173 - val_loss: 0.0616 - val_mae: 0.0616 - val_mse: 0.0167\n",
      "Epoch 15/20\n",
      "177/177 [==============================] - 2s 9ms/step - loss: 0.0623 - mae: 0.0623 - mse: 0.0169 - val_loss: 0.0675 - val_mae: 0.0675 - val_mse: 0.0189\n",
      "Epoch 16/20\n",
      "177/177 [==============================] - 2s 10ms/step - loss: 0.0619 - mae: 0.0619 - mse: 0.0167 - val_loss: 0.0657 - val_mae: 0.0657 - val_mse: 0.0174\n",
      "Epoch 17/20\n",
      "177/177 [==============================] - 2s 9ms/step - loss: 0.0611 - mae: 0.0611 - mse: 0.0167 - val_loss: 0.0622 - val_mae: 0.0622 - val_mse: 0.0164\n",
      "Epoch 18/20\n",
      "177/177 [==============================] - 2s 10ms/step - loss: 0.0617 - mae: 0.0617 - mse: 0.0168 - val_loss: 0.0720 - val_mae: 0.0720 - val_mse: 0.0191\n",
      "Epoch 19/20\n",
      "177/177 [==============================] - 2s 11ms/step - loss: 0.0609 - mae: 0.0609 - mse: 0.0167 - val_loss: 0.0698 - val_mae: 0.0698 - val_mse: 0.0167\n",
      "Epoch 20/20\n",
      "177/177 [==============================] - 2s 9ms/step - loss: 0.0606 - mae: 0.0606 - mse: 0.0162 - val_loss: 0.0611 - val_mae: 0.0611 - val_mse: 0.0165\n",
      "56/56 [==============================] - 1s 6ms/step\n",
      "Epoch 1/20\n",
      "177/177 [==============================] - 9s 19ms/step - loss: 0.1323 - mae: 0.1323 - mse: 0.0457 - val_loss: 0.1229 - val_mae: 0.1229 - val_mse: 0.0391\n",
      "Epoch 2/20\n",
      "177/177 [==============================] - 2s 14ms/step - loss: 0.1142 - mae: 0.1142 - mse: 0.0359 - val_loss: 0.1036 - val_mae: 0.1036 - val_mse: 0.0329\n",
      "Epoch 3/20\n",
      "177/177 [==============================] - 3s 15ms/step - loss: 0.0987 - mae: 0.0987 - mse: 0.0288 - val_loss: 0.0892 - val_mae: 0.0892 - val_mse: 0.0257\n",
      "Epoch 4/20\n",
      "177/177 [==============================] - 6s 35ms/step - loss: 0.0861 - mae: 0.0861 - mse: 0.0225 - val_loss: 0.0829 - val_mae: 0.0829 - val_mse: 0.0214\n",
      "Epoch 5/20\n",
      "177/177 [==============================] - 3s 15ms/step - loss: 0.0786 - mae: 0.0786 - mse: 0.0201 - val_loss: 0.0796 - val_mae: 0.0796 - val_mse: 0.0225\n",
      "Epoch 6/20\n",
      "177/177 [==============================] - 7s 42ms/step - loss: 0.0738 - mae: 0.0738 - mse: 0.0184 - val_loss: 0.0736 - val_mae: 0.0736 - val_mse: 0.0194\n",
      "Epoch 7/20\n",
      "177/177 [==============================] - 6s 36ms/step - loss: 0.0710 - mae: 0.0710 - mse: 0.0177 - val_loss: 0.0717 - val_mae: 0.0717 - val_mse: 0.0175\n",
      "Epoch 8/20\n",
      "177/177 [==============================] - 6s 35ms/step - loss: 0.0686 - mae: 0.0686 - mse: 0.0174 - val_loss: 0.0703 - val_mae: 0.0703 - val_mse: 0.0162\n",
      "Epoch 9/20\n",
      "177/177 [==============================] - 8s 46ms/step - loss: 0.0680 - mae: 0.0680 - mse: 0.0167 - val_loss: 0.0658 - val_mae: 0.0658 - val_mse: 0.0160\n",
      "Epoch 10/20\n",
      "177/177 [==============================] - 8s 45ms/step - loss: 0.0654 - mae: 0.0654 - mse: 0.0167 - val_loss: 0.0614 - val_mae: 0.0614 - val_mse: 0.0157\n",
      "Epoch 11/20\n",
      "177/177 [==============================] - 6s 36ms/step - loss: 0.0633 - mae: 0.0633 - mse: 0.0164 - val_loss: 0.0654 - val_mae: 0.0654 - val_mse: 0.0155\n",
      "Epoch 12/20\n",
      "177/177 [==============================] - 6s 34ms/step - loss: 0.0638 - mae: 0.0638 - mse: 0.0162 - val_loss: 0.0599 - val_mae: 0.0599 - val_mse: 0.0151\n",
      "Epoch 13/20\n",
      "177/177 [==============================] - 2s 14ms/step - loss: 0.0617 - mae: 0.0617 - mse: 0.0158 - val_loss: 0.0681 - val_mae: 0.0681 - val_mse: 0.0155\n",
      "Epoch 14/20\n",
      "177/177 [==============================] - 2s 13ms/step - loss: 0.0621 - mae: 0.0621 - mse: 0.0159 - val_loss: 0.0646 - val_mae: 0.0646 - val_mse: 0.0156\n",
      "Epoch 15/20\n",
      "177/177 [==============================] - 3s 19ms/step - loss: 0.0623 - mae: 0.0623 - mse: 0.0162 - val_loss: 0.0614 - val_mae: 0.0614 - val_mse: 0.0158\n",
      "Epoch 16/20\n",
      "177/177 [==============================] - 3s 19ms/step - loss: 0.0620 - mae: 0.0620 - mse: 0.0162 - val_loss: 0.0643 - val_mae: 0.0643 - val_mse: 0.0169\n",
      "Epoch 17/20\n",
      "177/177 [==============================] - 3s 18ms/step - loss: 0.0609 - mae: 0.0609 - mse: 0.0160 - val_loss: 0.0598 - val_mae: 0.0598 - val_mse: 0.0155\n",
      "Epoch 18/20\n",
      "177/177 [==============================] - 3s 18ms/step - loss: 0.0616 - mae: 0.0616 - mse: 0.0160 - val_loss: 0.0594 - val_mae: 0.0594 - val_mse: 0.0153\n",
      "Epoch 19/20\n",
      "177/177 [==============================] - 4s 24ms/step - loss: 0.0608 - mae: 0.0608 - mse: 0.0160 - val_loss: 0.0628 - val_mae: 0.0628 - val_mse: 0.0169\n",
      "Epoch 20/20\n",
      "177/177 [==============================] - 6s 34ms/step - loss: 0.0594 - mae: 0.0594 - mse: 0.0158 - val_loss: 0.0610 - val_mae: 0.0610 - val_mse: 0.0153\n",
      "56/56 [==============================] - 1s 13ms/step\n",
      "Epoch 1/20\n",
      "177/177 [==============================] - 11s 32ms/step - loss: 0.1718 - mae: 0.1718 - mse: 0.0779 - val_loss: 0.1094 - val_mae: 0.1094 - val_mse: 0.0349\n",
      "Epoch 2/20\n",
      "177/177 [==============================] - 4s 21ms/step - loss: 0.1080 - mae: 0.1080 - mse: 0.0342 - val_loss: 0.0986 - val_mae: 0.0986 - val_mse: 0.0319\n",
      "Epoch 3/20\n",
      "177/177 [==============================] - 5s 28ms/step - loss: 0.0966 - mae: 0.0966 - mse: 0.0295 - val_loss: 0.0847 - val_mae: 0.0847 - val_mse: 0.0231\n",
      "Epoch 4/20\n",
      "177/177 [==============================] - 5s 28ms/step - loss: 0.0820 - mae: 0.0820 - mse: 0.0227 - val_loss: 0.0772 - val_mae: 0.0772 - val_mse: 0.0188\n",
      "Epoch 5/20\n",
      "177/177 [==============================] - 4s 24ms/step - loss: 0.0763 - mae: 0.0763 - mse: 0.0206 - val_loss: 0.0740 - val_mae: 0.0740 - val_mse: 0.0237\n",
      "Epoch 6/20\n",
      "177/177 [==============================] - 4s 21ms/step - loss: 0.0709 - mae: 0.0709 - mse: 0.0193 - val_loss: 0.0713 - val_mae: 0.0713 - val_mse: 0.0193\n",
      "Epoch 7/20\n",
      "177/177 [==============================] - 3s 20ms/step - loss: 0.0670 - mae: 0.0670 - mse: 0.0184 - val_loss: 0.0698 - val_mae: 0.0698 - val_mse: 0.0163\n",
      "Epoch 8/20\n",
      "177/177 [==============================] - 3s 20ms/step - loss: 0.0676 - mae: 0.0676 - mse: 0.0184 - val_loss: 0.0688 - val_mae: 0.0688 - val_mse: 0.0162\n",
      "Epoch 9/20\n",
      "177/177 [==============================] - 4s 20ms/step - loss: 0.0676 - mae: 0.0676 - mse: 0.0180 - val_loss: 0.0647 - val_mae: 0.0647 - val_mse: 0.0161\n",
      "Epoch 10/20\n",
      "177/177 [==============================] - 3s 17ms/step - loss: 0.0643 - mae: 0.0643 - mse: 0.0178 - val_loss: 0.0675 - val_mae: 0.0675 - val_mse: 0.0183\n",
      "Epoch 11/20\n",
      "177/177 [==============================] - 3s 17ms/step - loss: 0.0650 - mae: 0.0650 - mse: 0.0172 - val_loss: 0.0673 - val_mae: 0.0673 - val_mse: 0.0211\n",
      "Epoch 12/20\n",
      "177/177 [==============================] - 3s 18ms/step - loss: 0.0651 - mae: 0.0651 - mse: 0.0171 - val_loss: 0.0730 - val_mae: 0.0730 - val_mse: 0.0193\n",
      "Epoch 13/20\n",
      "177/177 [==============================] - 3s 17ms/step - loss: 0.0639 - mae: 0.0639 - mse: 0.0174 - val_loss: 0.0708 - val_mae: 0.0708 - val_mse: 0.0171\n",
      "Epoch 14/20\n",
      "177/177 [==============================] - 4s 21ms/step - loss: 0.0626 - mae: 0.0626 - mse: 0.0169 - val_loss: 0.0647 - val_mae: 0.0647 - val_mse: 0.0162\n",
      "Epoch 15/20\n",
      "177/177 [==============================] - 4s 24ms/step - loss: 0.0625 - mae: 0.0625 - mse: 0.0167 - val_loss: 0.0707 - val_mae: 0.0707 - val_mse: 0.0170\n",
      "Epoch 16/20\n",
      "177/177 [==============================] - 3s 16ms/step - loss: 0.0657 - mae: 0.0657 - mse: 0.0175 - val_loss: 0.0608 - val_mae: 0.0608 - val_mse: 0.0167\n",
      "Epoch 17/20\n",
      "177/177 [==============================] - 2s 13ms/step - loss: 0.0619 - mae: 0.0619 - mse: 0.0169 - val_loss: 0.0633 - val_mae: 0.0633 - val_mse: 0.0165\n",
      "Epoch 18/20\n",
      "177/177 [==============================] - 3s 14ms/step - loss: 0.0633 - mae: 0.0633 - mse: 0.0169 - val_loss: 0.0698 - val_mae: 0.0698 - val_mse: 0.0222\n",
      "Epoch 19/20\n",
      "177/177 [==============================] - 3s 15ms/step - loss: 0.0620 - mae: 0.0620 - mse: 0.0167 - val_loss: 0.0605 - val_mae: 0.0605 - val_mse: 0.0166\n",
      "Epoch 20/20\n",
      "177/177 [==============================] - 2s 13ms/step - loss: 0.0620 - mae: 0.0620 - mse: 0.0173 - val_loss: 0.0608 - val_mae: 0.0608 - val_mse: 0.0164\n",
      "56/56 [==============================] - 1s 10ms/step\n",
      "Epoch 1/20\n",
      "177/177 [==============================] - 7s 18ms/step - loss: 0.1322 - mae: 0.1322 - mse: 0.0471 - val_loss: 0.1108 - val_mae: 0.1108 - val_mse: 0.0340\n",
      "Epoch 2/20\n",
      "177/177 [==============================] - 3s 16ms/step - loss: 0.1043 - mae: 0.1043 - mse: 0.0299 - val_loss: 0.0994 - val_mae: 0.0994 - val_mse: 0.0286\n",
      "Epoch 3/20\n",
      "177/177 [==============================] - 3s 17ms/step - loss: 0.0931 - mae: 0.0931 - mse: 0.0236 - val_loss: 0.0996 - val_mae: 0.0996 - val_mse: 0.0268\n",
      "Epoch 4/20\n",
      "177/177 [==============================] - 2s 12ms/step - loss: 0.0843 - mae: 0.0843 - mse: 0.0215 - val_loss: 0.0817 - val_mae: 0.0817 - val_mse: 0.0213\n",
      "Epoch 5/20\n",
      "177/177 [==============================] - 3s 15ms/step - loss: 0.0793 - mae: 0.0793 - mse: 0.0200 - val_loss: 0.0807 - val_mae: 0.0807 - val_mse: 0.0212\n",
      "Epoch 6/20\n",
      "177/177 [==============================] - 3s 15ms/step - loss: 0.0774 - mae: 0.0774 - mse: 0.0192 - val_loss: 0.0762 - val_mae: 0.0762 - val_mse: 0.0189\n",
      "Epoch 7/20\n",
      "177/177 [==============================] - 3s 17ms/step - loss: 0.0739 - mae: 0.0739 - mse: 0.0184 - val_loss: 0.0749 - val_mae: 0.0749 - val_mse: 0.0194\n",
      "Epoch 8/20\n",
      "177/177 [==============================] - 2s 13ms/step - loss: 0.0708 - mae: 0.0708 - mse: 0.0180 - val_loss: 0.0692 - val_mae: 0.0692 - val_mse: 0.0171\n",
      "Epoch 9/20\n",
      "177/177 [==============================] - 2s 11ms/step - loss: 0.0696 - mae: 0.0696 - mse: 0.0172 - val_loss: 0.0689 - val_mae: 0.0689 - val_mse: 0.0174\n",
      "Epoch 10/20\n",
      "177/177 [==============================] - 2s 12ms/step - loss: 0.0683 - mae: 0.0683 - mse: 0.0167 - val_loss: 0.0657 - val_mae: 0.0657 - val_mse: 0.0158\n",
      "Epoch 11/20\n",
      "177/177 [==============================] - 3s 15ms/step - loss: 0.0667 - mae: 0.0667 - mse: 0.0162 - val_loss: 0.0669 - val_mae: 0.0669 - val_mse: 0.0162\n",
      "Epoch 12/20\n",
      "177/177 [==============================] - 2s 12ms/step - loss: 0.0653 - mae: 0.0653 - mse: 0.0155 - val_loss: 0.0652 - val_mae: 0.0652 - val_mse: 0.0170\n",
      "Epoch 13/20\n",
      "177/177 [==============================] - 3s 16ms/step - loss: 0.0651 - mae: 0.0651 - mse: 0.0154 - val_loss: 0.0704 - val_mae: 0.0704 - val_mse: 0.0152\n",
      "Epoch 14/20\n",
      "177/177 [==============================] - 2s 13ms/step - loss: 0.0647 - mae: 0.0647 - mse: 0.0154 - val_loss: 0.0671 - val_mae: 0.0671 - val_mse: 0.0145\n",
      "Epoch 15/20\n",
      "177/177 [==============================] - 3s 18ms/step - loss: 0.0630 - mae: 0.0630 - mse: 0.0144 - val_loss: 0.0621 - val_mae: 0.0621 - val_mse: 0.0141\n",
      "Epoch 16/20\n",
      "177/177 [==============================] - 2s 14ms/step - loss: 0.0624 - mae: 0.0624 - mse: 0.0146 - val_loss: 0.0661 - val_mae: 0.0661 - val_mse: 0.0155\n",
      "Epoch 17/20\n",
      "177/177 [==============================] - 2s 14ms/step - loss: 0.0630 - mae: 0.0630 - mse: 0.0144 - val_loss: 0.0621 - val_mae: 0.0621 - val_mse: 0.0134\n",
      "Epoch 18/20\n",
      "177/177 [==============================] - 3s 17ms/step - loss: 0.0619 - mae: 0.0619 - mse: 0.0142 - val_loss: 0.0608 - val_mae: 0.0608 - val_mse: 0.0139\n",
      "Epoch 19/20\n",
      "177/177 [==============================] - 2s 12ms/step - loss: 0.0603 - mae: 0.0603 - mse: 0.0134 - val_loss: 0.0614 - val_mae: 0.0614 - val_mse: 0.0143\n",
      "Epoch 20/20\n",
      "177/177 [==============================] - 2s 11ms/step - loss: 0.0611 - mae: 0.0611 - mse: 0.0140 - val_loss: 0.0653 - val_mae: 0.0653 - val_mse: 0.0140\n",
      "56/56 [==============================] - 1s 7ms/step\n",
      "Epoch 1/20\n",
      "177/177 [==============================] - 13s 29ms/step - loss: 0.1458 - mae: 0.1458 - mse: 0.0527 - val_loss: 0.1067 - val_mae: 0.1067 - val_mse: 0.0343\n",
      "Epoch 2/20\n",
      "177/177 [==============================] - 5s 28ms/step - loss: 0.0987 - mae: 0.0987 - mse: 0.0287 - val_loss: 0.0816 - val_mae: 0.0816 - val_mse: 0.0227\n",
      "Epoch 3/20\n",
      "177/177 [==============================] - 4s 21ms/step - loss: 0.0837 - mae: 0.0837 - mse: 0.0209 - val_loss: 0.0768 - val_mae: 0.0768 - val_mse: 0.0178\n",
      "Epoch 4/20\n",
      "177/177 [==============================] - 3s 19ms/step - loss: 0.0751 - mae: 0.0751 - mse: 0.0196 - val_loss: 0.0842 - val_mae: 0.0842 - val_mse: 0.0221\n",
      "Epoch 5/20\n",
      "177/177 [==============================] - 2s 12ms/step - loss: 0.0714 - mae: 0.0714 - mse: 0.0186 - val_loss: 0.0697 - val_mae: 0.0697 - val_mse: 0.0169\n",
      "Epoch 6/20\n",
      "177/177 [==============================] - 3s 19ms/step - loss: 0.0681 - mae: 0.0681 - mse: 0.0180 - val_loss: 0.0684 - val_mae: 0.0684 - val_mse: 0.0169\n",
      "Epoch 7/20\n",
      "177/177 [==============================] - 4s 20ms/step - loss: 0.0673 - mae: 0.0673 - mse: 0.0178 - val_loss: 0.0722 - val_mae: 0.0722 - val_mse: 0.0169\n",
      "Epoch 8/20\n",
      "177/177 [==============================] - 3s 18ms/step - loss: 0.0695 - mae: 0.0695 - mse: 0.0176 - val_loss: 0.0688 - val_mae: 0.0688 - val_mse: 0.0167\n",
      "Epoch 9/20\n",
      "177/177 [==============================] - 3s 18ms/step - loss: 0.0654 - mae: 0.0654 - mse: 0.0175 - val_loss: 0.0647 - val_mae: 0.0647 - val_mse: 0.0164\n",
      "Epoch 10/20\n",
      "177/177 [==============================] - 3s 16ms/step - loss: 0.0639 - mae: 0.0639 - mse: 0.0172 - val_loss: 0.0755 - val_mae: 0.0755 - val_mse: 0.0167\n",
      "Epoch 11/20\n",
      "177/177 [==============================] - 3s 15ms/step - loss: 0.0692 - mae: 0.0692 - mse: 0.0179 - val_loss: 0.0782 - val_mae: 0.0782 - val_mse: 0.0170\n",
      "Epoch 12/20\n",
      "177/177 [==============================] - 3s 15ms/step - loss: 0.0653 - mae: 0.0653 - mse: 0.0172 - val_loss: 0.0628 - val_mae: 0.0628 - val_mse: 0.0162\n",
      "Epoch 13/20\n",
      "177/177 [==============================] - 3s 14ms/step - loss: 0.0647 - mae: 0.0647 - mse: 0.0178 - val_loss: 0.0702 - val_mae: 0.0702 - val_mse: 0.0174\n",
      "Epoch 14/20\n",
      "177/177 [==============================] - 2s 12ms/step - loss: 0.0667 - mae: 0.0667 - mse: 0.0175 - val_loss: 0.0633 - val_mae: 0.0633 - val_mse: 0.0164\n",
      "Epoch 15/20\n",
      "177/177 [==============================] - 3s 18ms/step - loss: 0.0638 - mae: 0.0638 - mse: 0.0172 - val_loss: 0.0688 - val_mae: 0.0688 - val_mse: 0.0177\n",
      "Epoch 16/20\n",
      "177/177 [==============================] - 3s 15ms/step - loss: 0.0633 - mae: 0.0633 - mse: 0.0172 - val_loss: 0.0631 - val_mae: 0.0631 - val_mse: 0.0172\n",
      "Epoch 17/20\n",
      "177/177 [==============================] - 5s 27ms/step - loss: 0.0661 - mae: 0.0661 - mse: 0.0174 - val_loss: 0.0667 - val_mae: 0.0667 - val_mse: 0.0164\n",
      "Epoch 18/20\n",
      "177/177 [==============================] - 3s 20ms/step - loss: 0.0617 - mae: 0.0617 - mse: 0.0170 - val_loss: 0.0667 - val_mae: 0.0667 - val_mse: 0.0164\n",
      "Epoch 19/20\n",
      "177/177 [==============================] - 3s 16ms/step - loss: 0.0628 - mae: 0.0628 - mse: 0.0169 - val_loss: 0.0614 - val_mae: 0.0614 - val_mse: 0.0167\n",
      "Epoch 20/20\n",
      "177/177 [==============================] - 3s 17ms/step - loss: 0.0623 - mae: 0.0623 - mse: 0.0172 - val_loss: 0.0691 - val_mae: 0.0691 - val_mse: 0.0171\n",
      "56/56 [==============================] - 1s 10ms/step\n",
      "Epoch 1/20\n",
      "177/177 [==============================] - 10s 23ms/step - loss: 0.1355 - mae: 0.1355 - mse: 0.0491 - val_loss: 0.1142 - val_mae: 0.1142 - val_mse: 0.0385\n",
      "Epoch 2/20\n",
      "177/177 [==============================] - 3s 15ms/step - loss: 0.1125 - mae: 0.1125 - mse: 0.0360 - val_loss: 0.1067 - val_mae: 0.1067 - val_mse: 0.0348\n",
      "Epoch 3/20\n",
      "177/177 [==============================] - 3s 17ms/step - loss: 0.0963 - mae: 0.0963 - mse: 0.0276 - val_loss: 0.0940 - val_mae: 0.0940 - val_mse: 0.0227\n",
      "Epoch 4/20\n",
      "177/177 [==============================] - 3s 18ms/step - loss: 0.0841 - mae: 0.0841 - mse: 0.0212 - val_loss: 0.0783 - val_mae: 0.0783 - val_mse: 0.0190\n",
      "Epoch 5/20\n",
      "177/177 [==============================] - 3s 19ms/step - loss: 0.0759 - mae: 0.0759 - mse: 0.0190 - val_loss: 0.0735 - val_mae: 0.0735 - val_mse: 0.0166\n",
      "Epoch 6/20\n",
      "177/177 [==============================] - 3s 18ms/step - loss: 0.0718 - mae: 0.0718 - mse: 0.0177 - val_loss: 0.0688 - val_mae: 0.0688 - val_mse: 0.0160\n",
      "Epoch 7/20\n",
      "177/177 [==============================] - 3s 18ms/step - loss: 0.0697 - mae: 0.0697 - mse: 0.0171 - val_loss: 0.0741 - val_mae: 0.0741 - val_mse: 0.0188\n",
      "Epoch 8/20\n",
      "177/177 [==============================] - 3s 18ms/step - loss: 0.0680 - mae: 0.0680 - mse: 0.0170 - val_loss: 0.0689 - val_mae: 0.0689 - val_mse: 0.0159\n",
      "Epoch 9/20\n",
      "177/177 [==============================] - 3s 16ms/step - loss: 0.0657 - mae: 0.0657 - mse: 0.0164 - val_loss: 0.0607 - val_mae: 0.0607 - val_mse: 0.0145\n",
      "Epoch 10/20\n",
      "177/177 [==============================] - 3s 18ms/step - loss: 0.0637 - mae: 0.0637 - mse: 0.0162 - val_loss: 0.0627 - val_mae: 0.0627 - val_mse: 0.0146\n",
      "Epoch 11/20\n",
      "177/177 [==============================] - 3s 18ms/step - loss: 0.0674 - mae: 0.0674 - mse: 0.0176 - val_loss: 0.0608 - val_mae: 0.0608 - val_mse: 0.0139\n",
      "Epoch 12/20\n",
      "177/177 [==============================] - 3s 18ms/step - loss: 0.0635 - mae: 0.0635 - mse: 0.0163 - val_loss: 0.0666 - val_mae: 0.0666 - val_mse: 0.0141\n",
      "Epoch 13/20\n",
      "177/177 [==============================] - 3s 18ms/step - loss: 0.0627 - mae: 0.0627 - mse: 0.0164 - val_loss: 0.0591 - val_mae: 0.0591 - val_mse: 0.0139\n",
      "Epoch 14/20\n",
      "177/177 [==============================] - 4s 23ms/step - loss: 0.0636 - mae: 0.0636 - mse: 0.0158 - val_loss: 0.0635 - val_mae: 0.0635 - val_mse: 0.0157\n",
      "Epoch 15/20\n",
      "177/177 [==============================] - 4s 25ms/step - loss: 0.0625 - mae: 0.0625 - mse: 0.0160 - val_loss: 0.0672 - val_mae: 0.0672 - val_mse: 0.0155\n",
      "Epoch 16/20\n",
      "177/177 [==============================] - 3s 20ms/step - loss: 0.0616 - mae: 0.0616 - mse: 0.0158 - val_loss: 0.0709 - val_mae: 0.0709 - val_mse: 0.0146\n",
      "Epoch 17/20\n",
      "177/177 [==============================] - 3s 19ms/step - loss: 0.0623 - mae: 0.0623 - mse: 0.0159 - val_loss: 0.0596 - val_mae: 0.0596 - val_mse: 0.0146\n",
      "Epoch 18/20\n",
      "177/177 [==============================] - 4s 21ms/step - loss: 0.0602 - mae: 0.0602 - mse: 0.0160 - val_loss: 0.0604 - val_mae: 0.0604 - val_mse: 0.0146\n",
      "Epoch 19/20\n",
      "177/177 [==============================] - 3s 15ms/step - loss: 0.0607 - mae: 0.0607 - mse: 0.0159 - val_loss: 0.0602 - val_mae: 0.0602 - val_mse: 0.0151\n",
      "Epoch 20/20\n",
      "177/177 [==============================] - 3s 19ms/step - loss: 0.0620 - mae: 0.0620 - mse: 0.0166 - val_loss: 0.0617 - val_mae: 0.0617 - val_mse: 0.0163\n",
      "56/56 [==============================] - 1s 9ms/step\n",
      "Epoch 1/20\n",
      "177/177 [==============================] - 8s 21ms/step - loss: 0.1376 - mae: 0.1376 - mse: 0.0496 - val_loss: 0.1129 - val_mae: 0.1129 - val_mse: 0.0400\n",
      "Epoch 2/20\n",
      "177/177 [==============================] - 4s 24ms/step - loss: 0.1071 - mae: 0.1071 - mse: 0.0357 - val_loss: 0.0974 - val_mae: 0.0974 - val_mse: 0.0308\n",
      "Epoch 3/20\n",
      "177/177 [==============================] - 4s 20ms/step - loss: 0.0874 - mae: 0.0874 - mse: 0.0259 - val_loss: 0.0813 - val_mae: 0.0813 - val_mse: 0.0220\n",
      "Epoch 4/20\n",
      "177/177 [==============================] - 3s 18ms/step - loss: 0.0759 - mae: 0.0759 - mse: 0.0215 - val_loss: 0.0763 - val_mae: 0.0763 - val_mse: 0.0230\n",
      "Epoch 5/20\n",
      "177/177 [==============================] - 3s 17ms/step - loss: 0.0722 - mae: 0.0722 - mse: 0.0195 - val_loss: 0.0696 - val_mae: 0.0696 - val_mse: 0.0180\n",
      "Epoch 6/20\n",
      "177/177 [==============================] - 3s 17ms/step - loss: 0.0687 - mae: 0.0687 - mse: 0.0183 - val_loss: 0.0692 - val_mae: 0.0692 - val_mse: 0.0171\n",
      "Epoch 7/20\n",
      "177/177 [==============================] - 3s 14ms/step - loss: 0.0664 - mae: 0.0664 - mse: 0.0179 - val_loss: 0.0697 - val_mae: 0.0697 - val_mse: 0.0172\n",
      "Epoch 8/20\n",
      "177/177 [==============================] - 3s 15ms/step - loss: 0.0648 - mae: 0.0648 - mse: 0.0176 - val_loss: 0.0695 - val_mae: 0.0695 - val_mse: 0.0188\n",
      "Epoch 9/20\n",
      "177/177 [==============================] - 4s 24ms/step - loss: 0.0655 - mae: 0.0655 - mse: 0.0179 - val_loss: 0.0637 - val_mae: 0.0637 - val_mse: 0.0170\n",
      "Epoch 10/20\n",
      "177/177 [==============================] - 4s 22ms/step - loss: 0.0628 - mae: 0.0628 - mse: 0.0176 - val_loss: 0.0632 - val_mae: 0.0632 - val_mse: 0.0174\n",
      "Epoch 11/20\n",
      "177/177 [==============================] - 3s 18ms/step - loss: 0.0637 - mae: 0.0637 - mse: 0.0177 - val_loss: 0.0681 - val_mae: 0.0681 - val_mse: 0.0188\n",
      "Epoch 12/20\n",
      "177/177 [==============================] - 3s 15ms/step - loss: 0.0632 - mae: 0.0632 - mse: 0.0178 - val_loss: 0.0691 - val_mae: 0.0691 - val_mse: 0.0181\n",
      "Epoch 13/20\n",
      "177/177 [==============================] - 3s 15ms/step - loss: 0.0624 - mae: 0.0624 - mse: 0.0176 - val_loss: 0.0713 - val_mae: 0.0713 - val_mse: 0.0223\n",
      "Epoch 14/20\n",
      "177/177 [==============================] - 3s 17ms/step - loss: 0.0622 - mae: 0.0622 - mse: 0.0181 - val_loss: 0.0634 - val_mae: 0.0634 - val_mse: 0.0180\n",
      "Epoch 15/20\n",
      "177/177 [==============================] - 3s 19ms/step - loss: 0.0617 - mae: 0.0617 - mse: 0.0176 - val_loss: 0.0630 - val_mae: 0.0630 - val_mse: 0.0178\n",
      "Epoch 16/20\n",
      "177/177 [==============================] - 3s 18ms/step - loss: 0.0614 - mae: 0.0614 - mse: 0.0179 - val_loss: 0.0638 - val_mae: 0.0638 - val_mse: 0.0178\n",
      "Epoch 17/20\n",
      "177/177 [==============================] - 3s 20ms/step - loss: 0.0608 - mae: 0.0608 - mse: 0.0175 - val_loss: 0.0662 - val_mae: 0.0662 - val_mse: 0.0187\n",
      "Epoch 18/20\n",
      "177/177 [==============================] - 3s 18ms/step - loss: 0.0618 - mae: 0.0618 - mse: 0.0180 - val_loss: 0.0664 - val_mae: 0.0664 - val_mse: 0.0190\n",
      "Epoch 19/20\n",
      "177/177 [==============================] - 3s 17ms/step - loss: 0.0613 - mae: 0.0613 - mse: 0.0182 - val_loss: 0.0629 - val_mae: 0.0629 - val_mse: 0.0181\n",
      "Epoch 20/20\n",
      "177/177 [==============================] - 3s 17ms/step - loss: 0.0604 - mae: 0.0604 - mse: 0.0181 - val_loss: 0.0637 - val_mae: 0.0637 - val_mse: 0.0183\n",
      "56/56 [==============================] - 1s 10ms/step\n",
      "Epoch 1/20\n",
      "177/177 [==============================] - 10s 30ms/step - loss: 0.1336 - mae: 0.1336 - mse: 0.0482 - val_loss: 0.1187 - val_mae: 0.1187 - val_mse: 0.0356\n",
      "Epoch 2/20\n",
      "177/177 [==============================] - 4s 22ms/step - loss: 0.1072 - mae: 0.1072 - mse: 0.0320 - val_loss: 0.1043 - val_mae: 0.1043 - val_mse: 0.0287\n",
      "Epoch 3/20\n",
      "177/177 [==============================] - 4s 24ms/step - loss: 0.0967 - mae: 0.0967 - mse: 0.0265 - val_loss: 0.0882 - val_mae: 0.0882 - val_mse: 0.0250\n",
      "Epoch 4/20\n",
      "177/177 [==============================] - 3s 17ms/step - loss: 0.0885 - mae: 0.0885 - mse: 0.0227 - val_loss: 0.0845 - val_mae: 0.0845 - val_mse: 0.0210\n",
      "Epoch 5/20\n",
      "177/177 [==============================] - 2s 9ms/step - loss: 0.0775 - mae: 0.0775 - mse: 0.0202 - val_loss: 0.0817 - val_mae: 0.0817 - val_mse: 0.0243\n",
      "Epoch 6/20\n",
      "177/177 [==============================] - 2s 11ms/step - loss: 0.0750 - mae: 0.0750 - mse: 0.0196 - val_loss: 0.0681 - val_mae: 0.0681 - val_mse: 0.0181\n",
      "Epoch 7/20\n",
      "177/177 [==============================] - 2s 10ms/step - loss: 0.0696 - mae: 0.0696 - mse: 0.0181 - val_loss: 0.0678 - val_mae: 0.0678 - val_mse: 0.0184\n",
      "Epoch 8/20\n",
      "177/177 [==============================] - 2s 11ms/step - loss: 0.0683 - mae: 0.0683 - mse: 0.0179 - val_loss: 0.0790 - val_mae: 0.0790 - val_mse: 0.0211\n",
      "Epoch 9/20\n",
      "177/177 [==============================] - 2s 10ms/step - loss: 0.0672 - mae: 0.0672 - mse: 0.0176 - val_loss: 0.0672 - val_mae: 0.0672 - val_mse: 0.0171\n",
      "Epoch 10/20\n",
      "177/177 [==============================] - 2s 10ms/step - loss: 0.0663 - mae: 0.0663 - mse: 0.0176 - val_loss: 0.0685 - val_mae: 0.0685 - val_mse: 0.0171\n",
      "Epoch 11/20\n",
      "177/177 [==============================] - 2s 11ms/step - loss: 0.0648 - mae: 0.0648 - mse: 0.0170 - val_loss: 0.0687 - val_mae: 0.0687 - val_mse: 0.0166\n",
      "Epoch 12/20\n",
      "177/177 [==============================] - 2s 10ms/step - loss: 0.0642 - mae: 0.0642 - mse: 0.0169 - val_loss: 0.0621 - val_mae: 0.0621 - val_mse: 0.0165\n",
      "Epoch 13/20\n",
      "177/177 [==============================] - 2s 11ms/step - loss: 0.0626 - mae: 0.0626 - mse: 0.0166 - val_loss: 0.0633 - val_mae: 0.0633 - val_mse: 0.0167\n",
      "Epoch 14/20\n",
      "177/177 [==============================] - 2s 10ms/step - loss: 0.0623 - mae: 0.0623 - mse: 0.0163 - val_loss: 0.0602 - val_mae: 0.0602 - val_mse: 0.0159\n",
      "Epoch 15/20\n",
      "177/177 [==============================] - 2s 9ms/step - loss: 0.0611 - mae: 0.0611 - mse: 0.0162 - val_loss: 0.0611 - val_mae: 0.0611 - val_mse: 0.0165\n",
      "Epoch 16/20\n",
      "177/177 [==============================] - 2s 9ms/step - loss: 0.0610 - mae: 0.0610 - mse: 0.0160 - val_loss: 0.0614 - val_mae: 0.0614 - val_mse: 0.0156\n",
      "Epoch 17/20\n",
      "177/177 [==============================] - 2s 12ms/step - loss: 0.0603 - mae: 0.0603 - mse: 0.0162 - val_loss: 0.0621 - val_mae: 0.0621 - val_mse: 0.0161\n",
      "Epoch 18/20\n",
      "177/177 [==============================] - 2s 11ms/step - loss: 0.0613 - mae: 0.0613 - mse: 0.0163 - val_loss: 0.0623 - val_mae: 0.0623 - val_mse: 0.0154\n",
      "Epoch 19/20\n",
      "177/177 [==============================] - 2s 11ms/step - loss: 0.0600 - mae: 0.0600 - mse: 0.0162 - val_loss: 0.0619 - val_mae: 0.0619 - val_mse: 0.0175\n",
      "Epoch 20/20\n",
      "177/177 [==============================] - 2s 10ms/step - loss: 0.0600 - mae: 0.0600 - mse: 0.0160 - val_loss: 0.0614 - val_mae: 0.0614 - val_mse: 0.0156\n",
      "56/56 [==============================] - 1s 6ms/step\n",
      "Epoch 1/20\n",
      "177/177 [==============================] - 7s 14ms/step - loss: 0.1372 - mae: 0.1372 - mse: 0.0472 - val_loss: 0.1186 - val_mae: 0.1186 - val_mse: 0.0371\n",
      "Epoch 2/20\n",
      "177/177 [==============================] - 2s 9ms/step - loss: 0.1106 - mae: 0.1106 - mse: 0.0343 - val_loss: 0.1019 - val_mae: 0.1019 - val_mse: 0.0295\n",
      "Epoch 3/20\n",
      "177/177 [==============================] - 2s 9ms/step - loss: 0.0967 - mae: 0.0967 - mse: 0.0268 - val_loss: 0.0922 - val_mae: 0.0922 - val_mse: 0.0245\n",
      "Epoch 4/20\n",
      "177/177 [==============================] - 1s 8ms/step - loss: 0.0818 - mae: 0.0818 - mse: 0.0216 - val_loss: 0.0759 - val_mae: 0.0759 - val_mse: 0.0194\n",
      "Epoch 5/20\n",
      "177/177 [==============================] - 2s 9ms/step - loss: 0.0768 - mae: 0.0768 - mse: 0.0200 - val_loss: 0.0733 - val_mae: 0.0733 - val_mse: 0.0181\n",
      "Epoch 6/20\n",
      "177/177 [==============================] - 2s 14ms/step - loss: 0.0741 - mae: 0.0741 - mse: 0.0188 - val_loss: 0.0757 - val_mae: 0.0757 - val_mse: 0.0178\n",
      "Epoch 7/20\n",
      "177/177 [==============================] - 2s 13ms/step - loss: 0.0707 - mae: 0.0707 - mse: 0.0182 - val_loss: 0.0656 - val_mae: 0.0656 - val_mse: 0.0165\n",
      "Epoch 8/20\n",
      "177/177 [==============================] - 2s 12ms/step - loss: 0.0679 - mae: 0.0679 - mse: 0.0179 - val_loss: 0.0705 - val_mae: 0.0705 - val_mse: 0.0178\n",
      "Epoch 9/20\n",
      "177/177 [==============================] - 2s 9ms/step - loss: 0.0681 - mae: 0.0681 - mse: 0.0181 - val_loss: 0.0747 - val_mae: 0.0747 - val_mse: 0.0175\n",
      "Epoch 10/20\n",
      "177/177 [==============================] - 2s 11ms/step - loss: 0.0688 - mae: 0.0688 - mse: 0.0178 - val_loss: 0.0664 - val_mae: 0.0664 - val_mse: 0.0166\n",
      "Epoch 11/20\n",
      "177/177 [==============================] - 2s 9ms/step - loss: 0.0645 - mae: 0.0645 - mse: 0.0171 - val_loss: 0.0652 - val_mae: 0.0652 - val_mse: 0.0163\n",
      "Epoch 12/20\n",
      "177/177 [==============================] - 2s 10ms/step - loss: 0.0653 - mae: 0.0653 - mse: 0.0173 - val_loss: 0.0659 - val_mae: 0.0659 - val_mse: 0.0176\n",
      "Epoch 13/20\n",
      "177/177 [==============================] - 2s 9ms/step - loss: 0.0654 - mae: 0.0654 - mse: 0.0169 - val_loss: 0.0697 - val_mae: 0.0697 - val_mse: 0.0201\n",
      "Epoch 14/20\n",
      "177/177 [==============================] - 2s 12ms/step - loss: 0.0627 - mae: 0.0627 - mse: 0.0166 - val_loss: 0.0650 - val_mae: 0.0650 - val_mse: 0.0170\n",
      "Epoch 15/20\n",
      "177/177 [==============================] - 2s 10ms/step - loss: 0.0645 - mae: 0.0645 - mse: 0.0171 - val_loss: 0.0645 - val_mae: 0.0645 - val_mse: 0.0163\n",
      "Epoch 16/20\n",
      "177/177 [==============================] - 2s 9ms/step - loss: 0.0651 - mae: 0.0651 - mse: 0.0172 - val_loss: 0.0649 - val_mae: 0.0649 - val_mse: 0.0171\n",
      "Epoch 17/20\n",
      "177/177 [==============================] - 2s 9ms/step - loss: 0.0638 - mae: 0.0638 - mse: 0.0169 - val_loss: 0.0644 - val_mae: 0.0644 - val_mse: 0.0163\n",
      "Epoch 18/20\n",
      "177/177 [==============================] - 2s 9ms/step - loss: 0.0634 - mae: 0.0634 - mse: 0.0168 - val_loss: 0.0677 - val_mae: 0.0677 - val_mse: 0.0172\n",
      "Epoch 19/20\n",
      "177/177 [==============================] - 1s 8ms/step - loss: 0.0632 - mae: 0.0632 - mse: 0.0168 - val_loss: 0.0680 - val_mae: 0.0680 - val_mse: 0.0163\n",
      "Epoch 20/20\n",
      "177/177 [==============================] - 2s 10ms/step - loss: 0.0633 - mae: 0.0633 - mse: 0.0167 - val_loss: 0.0669 - val_mae: 0.0669 - val_mse: 0.0166\n",
      "56/56 [==============================] - 0s 4ms/step\n",
      "Epoch 1/20\n",
      "221/221 [==============================] - 8s 18ms/step - loss: 0.1324 - mae: 0.1324 - mse: 0.0439 - val_loss: 0.1162 - val_mae: 0.1162 - val_mse: 0.0358\n",
      "Epoch 2/20\n",
      "221/221 [==============================] - 3s 12ms/step - loss: 0.1053 - mae: 0.1053 - mse: 0.0318 - val_loss: 0.0987 - val_mae: 0.0987 - val_mse: 0.0249\n",
      "Epoch 3/20\n",
      "221/221 [==============================] - 3s 13ms/step - loss: 0.0832 - mae: 0.0832 - mse: 0.0231 - val_loss: 0.0746 - val_mae: 0.0746 - val_mse: 0.0187\n",
      "Epoch 4/20\n",
      "221/221 [==============================] - 2s 8ms/step - loss: 0.0770 - mae: 0.0770 - mse: 0.0205 - val_loss: 0.0838 - val_mae: 0.0838 - val_mse: 0.0205\n",
      "Epoch 5/20\n",
      "221/221 [==============================] - 2s 8ms/step - loss: 0.0709 - mae: 0.0709 - mse: 0.0190 - val_loss: 0.0681 - val_mae: 0.0681 - val_mse: 0.0169\n",
      "Epoch 6/20\n",
      "221/221 [==============================] - 2s 8ms/step - loss: 0.0663 - mae: 0.0663 - mse: 0.0179 - val_loss: 0.0651 - val_mae: 0.0651 - val_mse: 0.0165\n",
      "Epoch 7/20\n",
      "221/221 [==============================] - 2s 10ms/step - loss: 0.0682 - mae: 0.0682 - mse: 0.0181 - val_loss: 0.0680 - val_mae: 0.0680 - val_mse: 0.0189\n",
      "Epoch 8/20\n",
      "221/221 [==============================] - 2s 8ms/step - loss: 0.0660 - mae: 0.0660 - mse: 0.0173 - val_loss: 0.0665 - val_mae: 0.0665 - val_mse: 0.0175\n",
      "Epoch 9/20\n",
      "221/221 [==============================] - 2s 9ms/step - loss: 0.0651 - mae: 0.0651 - mse: 0.0174 - val_loss: 0.0632 - val_mae: 0.0632 - val_mse: 0.0165\n",
      "Epoch 10/20\n",
      "221/221 [==============================] - 2s 11ms/step - loss: 0.0654 - mae: 0.0654 - mse: 0.0175 - val_loss: 0.0696 - val_mae: 0.0696 - val_mse: 0.0170\n",
      "Epoch 11/20\n",
      "221/221 [==============================] - 2s 9ms/step - loss: 0.0641 - mae: 0.0641 - mse: 0.0176 - val_loss: 0.0703 - val_mae: 0.0703 - val_mse: 0.0209\n",
      "Epoch 12/20\n",
      "221/221 [==============================] - 2s 11ms/step - loss: 0.0630 - mae: 0.0630 - mse: 0.0174 - val_loss: 0.0630 - val_mae: 0.0630 - val_mse: 0.0165\n",
      "Epoch 13/20\n",
      "221/221 [==============================] - 2s 9ms/step - loss: 0.0632 - mae: 0.0632 - mse: 0.0175 - val_loss: 0.0634 - val_mae: 0.0634 - val_mse: 0.0173\n",
      "Epoch 14/20\n",
      "221/221 [==============================] - 2s 7ms/step - loss: 0.0630 - mae: 0.0630 - mse: 0.0169 - val_loss: 0.0686 - val_mae: 0.0686 - val_mse: 0.0206\n",
      "Epoch 15/20\n",
      "221/221 [==============================] - 2s 7ms/step - loss: 0.0634 - mae: 0.0634 - mse: 0.0173 - val_loss: 0.0651 - val_mae: 0.0651 - val_mse: 0.0175\n",
      "Epoch 16/20\n",
      "221/221 [==============================] - 2s 9ms/step - loss: 0.0621 - mae: 0.0621 - mse: 0.0176 - val_loss: 0.0707 - val_mae: 0.0707 - val_mse: 0.0215\n",
      "Epoch 17/20\n",
      "221/221 [==============================] - 2s 8ms/step - loss: 0.0644 - mae: 0.0644 - mse: 0.0177 - val_loss: 0.0655 - val_mae: 0.0655 - val_mse: 0.0192\n",
      "Epoch 18/20\n",
      "221/221 [==============================] - 2s 8ms/step - loss: 0.0623 - mae: 0.0623 - mse: 0.0171 - val_loss: 0.0691 - val_mae: 0.0691 - val_mse: 0.0172\n",
      "Epoch 19/20\n",
      "221/221 [==============================] - 2s 8ms/step - loss: 0.0623 - mae: 0.0623 - mse: 0.0170 - val_loss: 0.0680 - val_mae: 0.0680 - val_mse: 0.0164\n",
      "Epoch 20/20\n",
      "221/221 [==============================] - 3s 12ms/step - loss: 0.0602 - mae: 0.0602 - mse: 0.0168 - val_loss: 0.0614 - val_mae: 0.0614 - val_mse: 0.0168\n"
     ]
    },
    {
     "data": {
      "text/html": [
       "<style>#sk-container-id-1 {color: black;background-color: white;}#sk-container-id-1 pre{padding: 0;}#sk-container-id-1 div.sk-toggleable {background-color: white;}#sk-container-id-1 label.sk-toggleable__label {cursor: pointer;display: block;width: 100%;margin-bottom: 0;padding: 0.3em;box-sizing: border-box;text-align: center;}#sk-container-id-1 label.sk-toggleable__label-arrow:before {content: \"▸\";float: left;margin-right: 0.25em;color: #696969;}#sk-container-id-1 label.sk-toggleable__label-arrow:hover:before {color: black;}#sk-container-id-1 div.sk-estimator:hover label.sk-toggleable__label-arrow:before {color: black;}#sk-container-id-1 div.sk-toggleable__content {max-height: 0;max-width: 0;overflow: hidden;text-align: left;background-color: #f0f8ff;}#sk-container-id-1 div.sk-toggleable__content pre {margin: 0.2em;color: black;border-radius: 0.25em;background-color: #f0f8ff;}#sk-container-id-1 input.sk-toggleable__control:checked~div.sk-toggleable__content {max-height: 200px;max-width: 100%;overflow: auto;}#sk-container-id-1 input.sk-toggleable__control:checked~label.sk-toggleable__label-arrow:before {content: \"▾\";}#sk-container-id-1 div.sk-estimator input.sk-toggleable__control:checked~label.sk-toggleable__label {background-color: #d4ebff;}#sk-container-id-1 div.sk-label input.sk-toggleable__control:checked~label.sk-toggleable__label {background-color: #d4ebff;}#sk-container-id-1 input.sk-hidden--visually {border: 0;clip: rect(1px 1px 1px 1px);clip: rect(1px, 1px, 1px, 1px);height: 1px;margin: -1px;overflow: hidden;padding: 0;position: absolute;width: 1px;}#sk-container-id-1 div.sk-estimator {font-family: monospace;background-color: #f0f8ff;border: 1px dotted black;border-radius: 0.25em;box-sizing: border-box;margin-bottom: 0.5em;}#sk-container-id-1 div.sk-estimator:hover {background-color: #d4ebff;}#sk-container-id-1 div.sk-parallel-item::after {content: \"\";width: 100%;border-bottom: 1px solid gray;flex-grow: 1;}#sk-container-id-1 div.sk-label:hover label.sk-toggleable__label {background-color: #d4ebff;}#sk-container-id-1 div.sk-serial::before {content: \"\";position: absolute;border-left: 1px solid gray;box-sizing: border-box;top: 0;bottom: 0;left: 50%;z-index: 0;}#sk-container-id-1 div.sk-serial {display: flex;flex-direction: column;align-items: center;background-color: white;padding-right: 0.2em;padding-left: 0.2em;position: relative;}#sk-container-id-1 div.sk-item {position: relative;z-index: 1;}#sk-container-id-1 div.sk-parallel {display: flex;align-items: stretch;justify-content: center;background-color: white;position: relative;}#sk-container-id-1 div.sk-item::before, #sk-container-id-1 div.sk-parallel-item::before {content: \"\";position: absolute;border-left: 1px solid gray;box-sizing: border-box;top: 0;bottom: 0;left: 50%;z-index: -1;}#sk-container-id-1 div.sk-parallel-item {display: flex;flex-direction: column;z-index: 1;position: relative;background-color: white;}#sk-container-id-1 div.sk-parallel-item:first-child::after {align-self: flex-end;width: 50%;}#sk-container-id-1 div.sk-parallel-item:last-child::after {align-self: flex-start;width: 50%;}#sk-container-id-1 div.sk-parallel-item:only-child::after {width: 0;}#sk-container-id-1 div.sk-dashed-wrapped {border: 1px dashed gray;margin: 0 0.4em 0.5em 0.4em;box-sizing: border-box;padding-bottom: 0.4em;background-color: white;}#sk-container-id-1 div.sk-label label {font-family: monospace;font-weight: bold;display: inline-block;line-height: 1.2em;}#sk-container-id-1 div.sk-label-container {text-align: center;}#sk-container-id-1 div.sk-container {/* jupyter's `normalize.less` sets `[hidden] { display: none; }` but bootstrap.min.css set `[hidden] { display: none !important; }` so we also need the `!important` here to be able to override the default hidden behavior on the sphinx rendered scikit-learn.org. See: https://github.com/scikit-learn/scikit-learn/issues/21755 */display: inline-block !important;position: relative;}#sk-container-id-1 div.sk-text-repr-fallback {display: none;}</style><div id=\"sk-container-id-1\" class=\"sk-top-container\"><div class=\"sk-text-repr-fallback\"><pre>GridSearchCV(cv=KFold(n_splits=5, random_state=2021, shuffle=True),\n",
       "             estimator=KerasRegressor(batch_size=32, epochs=20, model=&lt;function build_model at 0x000001ACF52556C0&gt;, validation_split=0.2),\n",
       "             param_grid={&#x27;optimizer&#x27;: [&#x27;SGD&#x27;, &#x27;RMSprop&#x27;, &#x27;Adagrad&#x27;]},\n",
       "             refit=&#x27;True&#x27;, scoring=&#x27;neg_mean_absolute_error&#x27;, verbose=1)</pre><b>In a Jupyter environment, please rerun this cell to show the HTML representation or trust the notebook. <br />On GitHub, the HTML representation is unable to render, please try loading this page with nbviewer.org.</b></div><div class=\"sk-container\" hidden><div class=\"sk-item sk-dashed-wrapped\"><div class=\"sk-label-container\"><div class=\"sk-label sk-toggleable\"><input class=\"sk-toggleable__control sk-hidden--visually\" id=\"sk-estimator-id-1\" type=\"checkbox\" ><label for=\"sk-estimator-id-1\" class=\"sk-toggleable__label sk-toggleable__label-arrow\">GridSearchCV</label><div class=\"sk-toggleable__content\"><pre>GridSearchCV(cv=KFold(n_splits=5, random_state=2021, shuffle=True),\n",
       "             estimator=KerasRegressor(batch_size=32, epochs=20, model=&lt;function build_model at 0x000001ACF52556C0&gt;, validation_split=0.2),\n",
       "             param_grid={&#x27;optimizer&#x27;: [&#x27;SGD&#x27;, &#x27;RMSprop&#x27;, &#x27;Adagrad&#x27;]},\n",
       "             refit=&#x27;True&#x27;, scoring=&#x27;neg_mean_absolute_error&#x27;, verbose=1)</pre></div></div></div><div class=\"sk-parallel\"><div class=\"sk-parallel-item\"><div class=\"sk-item\"><div class=\"sk-label-container\"><div class=\"sk-label sk-toggleable\"><input class=\"sk-toggleable__control sk-hidden--visually\" id=\"sk-estimator-id-2\" type=\"checkbox\" ><label for=\"sk-estimator-id-2\" class=\"sk-toggleable__label sk-toggleable__label-arrow\">estimator: KerasRegressor</label><div class=\"sk-toggleable__content\"><pre>KerasRegressor(\n",
       "\tmodel=&lt;function build_model at 0x000001ACF52556C0&gt;\n",
       "\tbuild_fn=None\n",
       "\twarm_start=False\n",
       "\trandom_state=None\n",
       "\toptimizer=rmsprop\n",
       "\tloss=None\n",
       "\tmetrics=None\n",
       "\tbatch_size=32\n",
       "\tvalidation_batch_size=None\n",
       "\tverbose=1\n",
       "\tcallbacks=None\n",
       "\tvalidation_split=0.2\n",
       "\tshuffle=True\n",
       "\trun_eagerly=False\n",
       "\tepochs=20\n",
       ")</pre></div></div></div><div class=\"sk-serial\"><div class=\"sk-item\"><div class=\"sk-estimator sk-toggleable\"><input class=\"sk-toggleable__control sk-hidden--visually\" id=\"sk-estimator-id-3\" type=\"checkbox\" ><label for=\"sk-estimator-id-3\" class=\"sk-toggleable__label sk-toggleable__label-arrow\">KerasRegressor</label><div class=\"sk-toggleable__content\"><pre>KerasRegressor(\n",
       "\tmodel=&lt;function build_model at 0x000001ACF52556C0&gt;\n",
       "\tbuild_fn=None\n",
       "\twarm_start=False\n",
       "\trandom_state=None\n",
       "\toptimizer=rmsprop\n",
       "\tloss=None\n",
       "\tmetrics=None\n",
       "\tbatch_size=32\n",
       "\tvalidation_batch_size=None\n",
       "\tverbose=1\n",
       "\tcallbacks=None\n",
       "\tvalidation_split=0.2\n",
       "\tshuffle=True\n",
       "\trun_eagerly=False\n",
       "\tepochs=20\n",
       ")</pre></div></div></div></div></div></div></div></div></div></div>"
      ],
      "text/plain": [
       "GridSearchCV(cv=KFold(n_splits=5, random_state=2021, shuffle=True),\n",
       "             estimator=KerasRegressor(batch_size=32, epochs=20, model=<function build_model at 0x000001ACF52556C0>, validation_split=0.2),\n",
       "             param_grid={'optimizer': ['SGD', 'RMSprop', 'Adagrad']},\n",
       "             refit='True', scoring='neg_mean_absolute_error', verbose=1)"
      ]
     },
     "execution_count": 83,
     "metadata": {},
     "output_type": "execute_result"
    }
   ],
   "source": [
    "grid_search.fit(x_train2, y_train2)"
   ]
  },
  {
   "cell_type": "code",
   "execution_count": 84,
   "metadata": {},
   "outputs": [
    {
     "name": "stdout",
     "output_type": "stream",
     "text": [
      "Best: -0.062511 using {'optimizer': 'RMSprop'}\n"
     ]
    }
   ],
   "source": [
    "print(\"Best: %f using %s\" % (grid_search.best_score_, grid_search.best_params_))"
   ]
  },
  {
   "cell_type": "code",
   "execution_count": 85,
   "metadata": {},
   "outputs": [],
   "source": [
    "means = grid_search.cv_results_['mean_test_score']\n",
    "stds = grid_search.cv_results_['std_test_score']\n",
    "params = grid_search.cv_results_['params']"
   ]
  },
  {
   "cell_type": "code",
   "execution_count": 86,
   "metadata": {},
   "outputs": [
    {
     "name": "stdout",
     "output_type": "stream",
     "text": [
      "-0.062641 (0.001917) with: {'optimizer': 'SGD'}\n",
      "-0.062511 (0.002424) with: {'optimizer': 'RMSprop'}\n",
      "-0.062831 (0.003156) with: {'optimizer': 'Adagrad'}\n"
     ]
    }
   ],
   "source": [
    "for mean, stdev, param in zip(means, stds, params):\n",
    "    print(\"%f (%f) with: %r\" % (mean, stdev, param))"
   ]
  },
  {
   "cell_type": "code",
   "execution_count": 87,
   "metadata": {},
   "outputs": [
    {
     "name": "stdout",
     "output_type": "stream",
     "text": [
      "KerasRegressor(\n",
      "\tmodel=<function build_model at 0x000001ACF52556C0>\n",
      "\tbuild_fn=None\n",
      "\twarm_start=False\n",
      "\trandom_state=None\n",
      "\toptimizer=RMSprop\n",
      "\tloss=None\n",
      "\tmetrics=None\n",
      "\tbatch_size=32\n",
      "\tvalidation_batch_size=None\n",
      "\tverbose=1\n",
      "\tcallbacks=None\n",
      "\tvalidation_split=0.2\n",
      "\tshuffle=True\n",
      "\trun_eagerly=False\n",
      "\tepochs=20\n",
      ")\n"
     ]
    }
   ],
   "source": [
    "best_mlp_model = grid_search.best_estimator_\n",
    "print(best_mlp_model)"
   ]
  },
  {
   "cell_type": "code",
   "execution_count": 88,
   "metadata": {},
   "outputs": [
    {
     "name": "stdout",
     "output_type": "stream",
     "text": [
      "Best: -0.062511 using {'optimizer': 'RMSprop'}\n"
     ]
    }
   ],
   "source": [
    "print(\"Best: %f using %s\" % (grid_search.best_score_, grid_search.best_params_))"
   ]
  },
  {
   "cell_type": "code",
   "execution_count": 89,
   "metadata": {},
   "outputs": [],
   "source": [
    "means = grid_search.cv_results_['mean_test_score']\n",
    "stds = grid_search.cv_results_['std_test_score']\n",
    "params = grid_search.cv_results_['params']"
   ]
  },
  {
   "cell_type": "code",
   "execution_count": 90,
   "metadata": {},
   "outputs": [
    {
     "name": "stdout",
     "output_type": "stream",
     "text": [
      "-0.062641 (0.001917) with: {'optimizer': 'SGD'}\n",
      "-0.062511 (0.002424) with: {'optimizer': 'RMSprop'}\n",
      "-0.062831 (0.003156) with: {'optimizer': 'Adagrad'}\n"
     ]
    }
   ],
   "source": [
    "for mean, stdev, param in zip(means, stds, params):\n",
    "    print(\"%f (%f) with: %r\" % (mean, stdev, param))"
   ]
  },
  {
   "cell_type": "code",
   "execution_count": 91,
   "metadata": {},
   "outputs": [
    {
     "name": "stdout",
     "output_type": "stream",
     "text": [
      "KerasRegressor(\n",
      "\tmodel=<function build_model at 0x000001ACF52556C0>\n",
      "\tbuild_fn=None\n",
      "\twarm_start=False\n",
      "\trandom_state=None\n",
      "\toptimizer=RMSprop\n",
      "\tloss=None\n",
      "\tmetrics=None\n",
      "\tbatch_size=32\n",
      "\tvalidation_batch_size=None\n",
      "\tverbose=1\n",
      "\tcallbacks=None\n",
      "\tvalidation_split=0.2\n",
      "\tshuffle=True\n",
      "\trun_eagerly=False\n",
      "\tepochs=20\n",
      ")\n"
     ]
    }
   ],
   "source": [
    "best_mlp_model_2 = grid_search.best_estimator_\n",
    "print(best_mlp_model_2)"
   ]
  },
  {
   "cell_type": "code",
   "execution_count": 92,
   "metadata": {},
   "outputs": [
    {
     "name": "stdout",
     "output_type": "stream",
     "text": [
      "Epoch 1/20\n",
      "276/276 [==============================] - 10s 14ms/step - loss: 0.1213 - mae: 0.1213 - mse: 0.0393 - val_loss: 0.0961 - val_mae: 0.0961 - val_mse: 0.0291\n",
      "Epoch 2/20\n",
      "276/276 [==============================] - 3s 10ms/step - loss: 0.0828 - mae: 0.0828 - mse: 0.0242 - val_loss: 0.0716 - val_mae: 0.0716 - val_mse: 0.0205\n",
      "Epoch 3/20\n",
      "276/276 [==============================] - 3s 11ms/step - loss: 0.0706 - mae: 0.0706 - mse: 0.0203 - val_loss: 0.0654 - val_mae: 0.0654 - val_mse: 0.0187\n",
      "Epoch 4/20\n",
      "276/276 [==============================] - 3s 10ms/step - loss: 0.0671 - mae: 0.0671 - mse: 0.0192 - val_loss: 0.0656 - val_mae: 0.0656 - val_mse: 0.0185\n",
      "Epoch 5/20\n",
      "276/276 [==============================] - 3s 11ms/step - loss: 0.0645 - mae: 0.0645 - mse: 0.0184 - val_loss: 0.0637 - val_mae: 0.0637 - val_mse: 0.0175\n",
      "Epoch 6/20\n",
      "276/276 [==============================] - 3s 11ms/step - loss: 0.0643 - mae: 0.0643 - mse: 0.0179 - val_loss: 0.0621 - val_mae: 0.0621 - val_mse: 0.0173\n",
      "Epoch 7/20\n",
      "276/276 [==============================] - 3s 11ms/step - loss: 0.0653 - mae: 0.0653 - mse: 0.0175 - val_loss: 0.0623 - val_mae: 0.0623 - val_mse: 0.0170\n",
      "Epoch 8/20\n",
      "276/276 [==============================] - 4s 14ms/step - loss: 0.0623 - mae: 0.0623 - mse: 0.0172 - val_loss: 0.0618 - val_mae: 0.0618 - val_mse: 0.0165\n",
      "Epoch 9/20\n",
      "276/276 [==============================] - 3s 12ms/step - loss: 0.0628 - mae: 0.0628 - mse: 0.0174 - val_loss: 0.0640 - val_mae: 0.0640 - val_mse: 0.0188\n",
      "Epoch 10/20\n",
      "276/276 [==============================] - 3s 10ms/step - loss: 0.0611 - mae: 0.0611 - mse: 0.0171 - val_loss: 0.0594 - val_mae: 0.0594 - val_mse: 0.0166\n",
      "Epoch 11/20\n",
      "276/276 [==============================] - 3s 10ms/step - loss: 0.0624 - mae: 0.0624 - mse: 0.0173 - val_loss: 0.0599 - val_mae: 0.0599 - val_mse: 0.0168\n",
      "Epoch 12/20\n",
      "276/276 [==============================] - 3s 11ms/step - loss: 0.0623 - mae: 0.0623 - mse: 0.0174 - val_loss: 0.0635 - val_mae: 0.0635 - val_mse: 0.0186\n",
      "Epoch 13/20\n",
      "276/276 [==============================] - 4s 13ms/step - loss: 0.0624 - mae: 0.0624 - mse: 0.0172 - val_loss: 0.0610 - val_mae: 0.0610 - val_mse: 0.0180\n",
      "Epoch 14/20\n",
      "269/276 [============================>.] - ETA: 0s - loss: 0.0613 - mae: 0.0613 - mse: 0.0168"
     ]
    },
    {
     "name": "stdout",
     "output_type": "stream",
     "text": [
      "276/276 [==============================] - 3s 11ms/step - loss: 0.0616 - mae: 0.0616 - mse: 0.0169 - val_loss: 0.0574 - val_mae: 0.0574 - val_mse: 0.0162\n",
      "Epoch 15/20\n",
      "276/276 [==============================] - 3s 12ms/step - loss: 0.0601 - mae: 0.0601 - mse: 0.0168 - val_loss: 0.0577 - val_mae: 0.0577 - val_mse: 0.0164\n",
      "Epoch 16/20\n",
      "276/276 [==============================] - 3s 10ms/step - loss: 0.0614 - mae: 0.0614 - mse: 0.0168 - val_loss: 0.0614 - val_mae: 0.0614 - val_mse: 0.0184\n",
      "Epoch 17/20\n",
      "276/276 [==============================] - 3s 10ms/step - loss: 0.0609 - mae: 0.0609 - mse: 0.0168 - val_loss: 0.0592 - val_mae: 0.0592 - val_mse: 0.0159\n",
      "Epoch 18/20\n",
      "276/276 [==============================] - 3s 9ms/step - loss: 0.0617 - mae: 0.0617 - mse: 0.0167 - val_loss: 0.0657 - val_mae: 0.0657 - val_mse: 0.0170\n",
      "Epoch 19/20\n",
      "276/276 [==============================] - 3s 12ms/step - loss: 0.0610 - mae: 0.0610 - mse: 0.0169 - val_loss: 0.0569 - val_mae: 0.0569 - val_mse: 0.0158\n",
      "Epoch 20/20\n",
      "276/276 [==============================] - 5s 20ms/step - loss: 0.0617 - mae: 0.0617 - mse: 0.0166 - val_loss: 0.0592 - val_mae: 0.0592 - val_mse: 0.0162\n"
     ]
    },
    {
     "data": {
      "text/html": [
       "<style>#sk-container-id-2 {color: black;background-color: white;}#sk-container-id-2 pre{padding: 0;}#sk-container-id-2 div.sk-toggleable {background-color: white;}#sk-container-id-2 label.sk-toggleable__label {cursor: pointer;display: block;width: 100%;margin-bottom: 0;padding: 0.3em;box-sizing: border-box;text-align: center;}#sk-container-id-2 label.sk-toggleable__label-arrow:before {content: \"▸\";float: left;margin-right: 0.25em;color: #696969;}#sk-container-id-2 label.sk-toggleable__label-arrow:hover:before {color: black;}#sk-container-id-2 div.sk-estimator:hover label.sk-toggleable__label-arrow:before {color: black;}#sk-container-id-2 div.sk-toggleable__content {max-height: 0;max-width: 0;overflow: hidden;text-align: left;background-color: #f0f8ff;}#sk-container-id-2 div.sk-toggleable__content pre {margin: 0.2em;color: black;border-radius: 0.25em;background-color: #f0f8ff;}#sk-container-id-2 input.sk-toggleable__control:checked~div.sk-toggleable__content {max-height: 200px;max-width: 100%;overflow: auto;}#sk-container-id-2 input.sk-toggleable__control:checked~label.sk-toggleable__label-arrow:before {content: \"▾\";}#sk-container-id-2 div.sk-estimator input.sk-toggleable__control:checked~label.sk-toggleable__label {background-color: #d4ebff;}#sk-container-id-2 div.sk-label input.sk-toggleable__control:checked~label.sk-toggleable__label {background-color: #d4ebff;}#sk-container-id-2 input.sk-hidden--visually {border: 0;clip: rect(1px 1px 1px 1px);clip: rect(1px, 1px, 1px, 1px);height: 1px;margin: -1px;overflow: hidden;padding: 0;position: absolute;width: 1px;}#sk-container-id-2 div.sk-estimator {font-family: monospace;background-color: #f0f8ff;border: 1px dotted black;border-radius: 0.25em;box-sizing: border-box;margin-bottom: 0.5em;}#sk-container-id-2 div.sk-estimator:hover {background-color: #d4ebff;}#sk-container-id-2 div.sk-parallel-item::after {content: \"\";width: 100%;border-bottom: 1px solid gray;flex-grow: 1;}#sk-container-id-2 div.sk-label:hover label.sk-toggleable__label {background-color: #d4ebff;}#sk-container-id-2 div.sk-serial::before {content: \"\";position: absolute;border-left: 1px solid gray;box-sizing: border-box;top: 0;bottom: 0;left: 50%;z-index: 0;}#sk-container-id-2 div.sk-serial {display: flex;flex-direction: column;align-items: center;background-color: white;padding-right: 0.2em;padding-left: 0.2em;position: relative;}#sk-container-id-2 div.sk-item {position: relative;z-index: 1;}#sk-container-id-2 div.sk-parallel {display: flex;align-items: stretch;justify-content: center;background-color: white;position: relative;}#sk-container-id-2 div.sk-item::before, #sk-container-id-2 div.sk-parallel-item::before {content: \"\";position: absolute;border-left: 1px solid gray;box-sizing: border-box;top: 0;bottom: 0;left: 50%;z-index: -1;}#sk-container-id-2 div.sk-parallel-item {display: flex;flex-direction: column;z-index: 1;position: relative;background-color: white;}#sk-container-id-2 div.sk-parallel-item:first-child::after {align-self: flex-end;width: 50%;}#sk-container-id-2 div.sk-parallel-item:last-child::after {align-self: flex-start;width: 50%;}#sk-container-id-2 div.sk-parallel-item:only-child::after {width: 0;}#sk-container-id-2 div.sk-dashed-wrapped {border: 1px dashed gray;margin: 0 0.4em 0.5em 0.4em;box-sizing: border-box;padding-bottom: 0.4em;background-color: white;}#sk-container-id-2 div.sk-label label {font-family: monospace;font-weight: bold;display: inline-block;line-height: 1.2em;}#sk-container-id-2 div.sk-label-container {text-align: center;}#sk-container-id-2 div.sk-container {/* jupyter's `normalize.less` sets `[hidden] { display: none; }` but bootstrap.min.css set `[hidden] { display: none !important; }` so we also need the `!important` here to be able to override the default hidden behavior on the sphinx rendered scikit-learn.org. See: https://github.com/scikit-learn/scikit-learn/issues/21755 */display: inline-block !important;position: relative;}#sk-container-id-2 div.sk-text-repr-fallback {display: none;}</style><div id=\"sk-container-id-2\" class=\"sk-top-container\"><div class=\"sk-text-repr-fallback\"><pre>KerasRegressor(\n",
       "\tmodel=&lt;function build_model at 0x000001ACF52556C0&gt;\n",
       "\tbuild_fn=None\n",
       "\twarm_start=False\n",
       "\trandom_state=None\n",
       "\toptimizer=RMSprop\n",
       "\tloss=None\n",
       "\tmetrics=None\n",
       "\tbatch_size=32\n",
       "\tvalidation_batch_size=None\n",
       "\tverbose=1\n",
       "\tcallbacks=None\n",
       "\tvalidation_split=0.2\n",
       "\tshuffle=True\n",
       "\trun_eagerly=False\n",
       "\tepochs=20\n",
       ")</pre><b>In a Jupyter environment, please rerun this cell to show the HTML representation or trust the notebook. <br />On GitHub, the HTML representation is unable to render, please try loading this page with nbviewer.org.</b></div><div class=\"sk-container\" hidden><div class=\"sk-item\"><div class=\"sk-estimator sk-toggleable\"><input class=\"sk-toggleable__control sk-hidden--visually\" id=\"sk-estimator-id-4\" type=\"checkbox\" checked><label for=\"sk-estimator-id-4\" class=\"sk-toggleable__label sk-toggleable__label-arrow\">KerasRegressor</label><div class=\"sk-toggleable__content\"><pre>KerasRegressor(\n",
       "\tmodel=&lt;function build_model at 0x000001ACF52556C0&gt;\n",
       "\tbuild_fn=None\n",
       "\twarm_start=False\n",
       "\trandom_state=None\n",
       "\toptimizer=RMSprop\n",
       "\tloss=None\n",
       "\tmetrics=None\n",
       "\tbatch_size=32\n",
       "\tvalidation_batch_size=None\n",
       "\tverbose=1\n",
       "\tcallbacks=None\n",
       "\tvalidation_split=0.2\n",
       "\tshuffle=True\n",
       "\trun_eagerly=False\n",
       "\tepochs=20\n",
       ")</pre></div></div></div></div></div>"
      ],
      "text/plain": [
       "KerasRegressor(\n",
       "\tmodel=<function build_model at 0x000001ACF52556C0>\n",
       "\tbuild_fn=None\n",
       "\twarm_start=False\n",
       "\trandom_state=None\n",
       "\toptimizer=RMSprop\n",
       "\tloss=None\n",
       "\tmetrics=None\n",
       "\tbatch_size=32\n",
       "\tvalidation_batch_size=None\n",
       "\tverbose=1\n",
       "\tcallbacks=None\n",
       "\tvalidation_split=0.2\n",
       "\tshuffle=True\n",
       "\trun_eagerly=False\n",
       "\tepochs=20\n",
       ")"
      ]
     },
     "execution_count": 92,
     "metadata": {},
     "output_type": "execute_result"
    }
   ],
   "source": [
    "best_mlp_model_2.fit(x_train2,y_train2,epochs = 20, validation_data = (x_train2,y_train2), verbose = 1)"
   ]
  },
  {
   "cell_type": "code",
   "execution_count": 93,
   "metadata": {},
   "outputs": [
    {
     "data": {
      "image/png": "[encoded data removed]",
      "text/plain": [
       "<Figure size 640x480 with 1 Axes>"
      ]
     },
     "metadata": {},
     "output_type": "display_data"
    }
   ],
   "source": [
    "plt.plot(best_mlp_model_2.history_['loss'])\n",
    "plt.plot(best_mlp_model_2.history_['val_loss'])\n",
    "plt.title('model performance')\n",
    "plt.ylabel('loss values')\n",
    "plt.xlabel('epoch')\n",
    "plt.legend(['train', 'val'], loc='upper left')\n",
    "plt.show()"
   ]
  },
  {
   "cell_type": "code",
   "execution_count": 94,
   "metadata": {},
   "outputs": [
    {
     "data": {
      "image/png": "[encoded data removed]",
      "text/plain": [
       "<Figure size 800x500 with 1 Axes>"
      ]
     },
     "metadata": {},
     "output_type": "display_data"
    }
   ],
   "source": [
    "pd.DataFrame(best_mlp_model_2.history_).plot(figsize=(8, 5))\n",
    "plt.grid(True)\n"
   ]
  },
  {
   "cell_type": "markdown",
   "metadata": {},
   "source": [
    "### Predictions"
   ]
  },
  {
   "cell_type": "code",
   "execution_count": 95,
   "metadata": {},
   "outputs": [
    {
     "name": "stdout",
     "output_type": "stream",
     "text": [
      "69/69 [==============================] - 1s 10ms/step\n"
     ]
    }
   ],
   "source": [
    "predictions = best_mlp_model_2.predict(x_test2)"
   ]
  },
  {
   "cell_type": "code",
   "execution_count": 96,
   "metadata": {},
   "outputs": [
    {
     "data": {
      "text/plain": [
       "array([0., 1., 2., 3.], dtype=float32)"
      ]
     },
     "execution_count": 96,
     "metadata": {},
     "output_type": "execute_result"
    }
   ],
   "source": [
    "predictions\n",
    "#unscale\n",
    "predictions = scaler_Y.inverse_transform(predictions)\n",
    "predictions[predictions < 0] = 0\n",
    "predictions[predictions > 4] = 4\n",
    "#round\n",
    "predictions = np.round(predictions)\n",
    "p = pd.DataFrame(predictions)\n",
    "p.to_csv(\"predictions.csv\")\n",
    "p.nunique()\n",
    "\n",
    "#list of different values\n",
    "p2 = np.unique(p)\n",
    "p2"
   ]
  },
  {
   "cell_type": "code",
   "execution_count": 97,
   "metadata": {},
   "outputs": [
    {
     "data": {
      "text/plain": [
       "array([0., 1., 2., 3., 4.])"
      ]
     },
     "execution_count": 97,
     "metadata": {},
     "output_type": "execute_result"
    }
   ],
   "source": [
    "y_test2 = scaler_Y.inverse_transform(y_test2)\n",
    "\n",
    "p3 = np.unique(y_test2)\n",
    "p3"
   ]
  },
  {
   "cell_type": "code",
   "execution_count": 98,
   "metadata": {},
   "outputs": [
    {
     "name": "stdout",
     "output_type": "stream",
     "text": [
      "Precision: 0.8098911070780399\n"
     ]
    },
    {
     "data": {
      "text/plain": [
       "<sklearn.metrics._plot.confusion_matrix.ConfusionMatrixDisplay at 0x1ac8a3a5270>"
      ]
     },
     "execution_count": 98,
     "metadata": {},
     "output_type": "execute_result"
    },
    {
     "data": {
      "image/png": "[encoded data removed]",
      "text/plain": [
       "<Figure size 640x480 with 2 Axes>"
      ]
     },
     "metadata": {},
     "output_type": "display_data"
    }
   ],
   "source": [
    "from sklearn.metrics import precision_score\n",
    "precision = precision_score(y_test2, p, average='micro')\n",
    "\n",
    "print(f'Precision: {precision}')\n",
    "\n",
    "#Confusion Matrix\n",
    "from sklearn.metrics import confusion_matrix\n",
    "cm = confusion_matrix(y_test2, predictions)\n",
    "\n",
    "disp = ConfusionMatrixDisplay(confusion_matrix=cm, display_labels=[0,1,2,3,4])\n",
    "disp.plot()"
   ]
  },
  {
   "cell_type": "code",
   "execution_count": 99,
   "metadata": {},
   "outputs": [
    {
     "name": "stdout",
     "output_type": "stream",
     "text": [
      "MAE: 0.22549909255898368\n",
      "MSE: 0.30535390199637025\n",
      "RMSE: 0.5525883657808679\n"
     ]
    }
   ],
   "source": [
    "from sklearn import metrics\n",
    "\n",
    "\n",
    "print('MAE:', metrics.mean_absolute_error(y_test2, predictions))\n",
    "print('MSE:', metrics.mean_squared_error(y_test2, predictions))\n",
    "print('RMSE:', np.sqrt(metrics.mean_squared_error(y_test2, predictions)))"
   ]
  }
 ],
 "metadata": {
  "kernelspec": {
   "display_name": "DAAenv",
   "language": "python",
   "name": "python3"
  },
  "language_info": {
   "codemirror_mode": {
    "name": "ipython",
    "version": 3
   },
   "file_extension": ".py",
   "mimetype": "text/x-python",
   "name": "python",
   "nbconvert_exporter": "python",
   "pygments_lexer": "ipython3",
   "version": "3.10.6"
  }
 },
 "nbformat": 4,
 "nbformat_minor": 2
}
