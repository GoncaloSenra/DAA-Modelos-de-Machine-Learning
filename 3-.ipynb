{
 "cells": [
  {
   "cell_type": "code",
   "execution_count": 120,
   "metadata": {},
   "outputs": [],
   "source": [
    "import pandas as pd\n",
    "import numpy as np\n",
    "import matplotlib.pyplot as plt\n",
    "import seaborn as sns\n",
    "from sklearn.preprocessing import LabelEncoder\n",
    "\n",
    "energia2022 = pd.read_csv('daasbstp2023/train/energia_202201-202212.csv', encoding='latin-1')    \n",
    "energia2021 = pd.read_csv('daasbstp2023/train/energia_202109-202112.csv', encoding='latin-1')\n",
    "\n",
    "energia2023_test = pd.read_csv('daasbstp2023/test/energia_202301-202304.csv', encoding='latin-1')\n",
    "\n",
    "meteo2022 = pd.read_csv('daasbstp2023/train/meteo_202201-202212.csv', encoding='latin-1')\n",
    "meteo2021 = pd.read_csv('daasbstp2023/train/meteo_202109-202112.csv', encoding='latin-1')\n",
    "\n",
    "meteo2023_test = pd.read_csv('daasbstp2023/test/meteo_202301-202304.csv', encoding='latin-1')\n",
    "\n",
    "\n",
    "# Converter datas\n",
    "energia2021['Data'] = pd.to_datetime(energia2021['Data'], format='%Y-%m-%d')\n",
    "energia2021['Hora'] = pd.to_datetime(energia2021['Hora'], format='%H')\n",
    "\n",
    "energia2021['dt_converted'] = energia2021['Data'] + pd.to_timedelta(energia2021['Hora'].dt.hour, unit='h')\n",
    "\n",
    "energia2021['dt_converted'] = pd.to_datetime(energia2021['dt_converted'], unit='s', utc=True)\n",
    "\n",
    "\n",
    "energia2022['Data'] = pd.to_datetime(energia2022['Data'], format='%Y-%m-%d')\n",
    "energia2022['Hora'] = pd.to_datetime(energia2022['Hora'], format='%H')\n",
    "\n",
    "energia2022['dt_converted'] = energia2022['Data'] + pd.to_timedelta(energia2022['Hora'].dt.hour, unit='h')\n",
    "\n",
    "energia2022['dt_converted'] = pd.to_datetime(energia2022['dt_converted'], unit='s', utc=True)\n",
    "\n",
    "\n",
    "energia2023_test['Data'] = pd.to_datetime(energia2023_test['Data'], format='%Y-%m-%d')\n",
    "energia2023_test['Hora'] = pd.to_datetime(energia2023_test['Hora'], format='%H')\n",
    "\n",
    "energia2023_test['dt_converted'] = energia2023_test['Data'] + pd.to_timedelta(energia2023_test['Hora'].dt.hour, unit='h')\n",
    "\n",
    "energia2023_test['dt_converted'] = pd.to_datetime(energia2023_test['dt_converted'], unit='s', utc=True)\n",
    "\n",
    "\n",
    "meteo2021['dt_converted'] = pd.to_datetime(meteo2021['dt'], unit='s', utc=True)\n",
    "meteo2022['dt_converted'] = pd.to_datetime(meteo2022['dt'], unit='s', utc=True)\n",
    "meteo2023_test['dt_converted'] = pd.to_datetime(meteo2023_test['dt'], unit='s', utc=True)\n",
    "\n",
    "# Merge datasets based on datetime\n",
    "data21 = pd.merge(energia2021, meteo2021, on='dt_converted', how='inner')\n",
    "data22 = pd.merge(energia2022, meteo2022, on='dt_converted', how='inner')\n",
    "\n",
    "test = pd.merge(energia2023_test, meteo2023_test, on='dt_converted', how='inner')\n",
    "\n",
    "# Drop columns\n",
    "data21.drop('sea_level', axis=1, inplace=True)\n",
    "data21.drop('grnd_level', axis=1, inplace=True)\n",
    "data21.drop('rain_1h', axis=1, inplace=True)\n",
    "data21.drop('Data', axis=1, inplace=True)\n",
    "data21.drop('Hora', axis=1, inplace=True)\n",
    "data21.drop('dt_iso', axis=1, inplace=True)\n",
    "data21.drop('dt', axis=1, inplace=True)\n",
    "\n",
    "data22.drop('sea_level', axis=1, inplace=True)\n",
    "data22.drop('grnd_level', axis=1, inplace=True)\n",
    "data22.drop('rain_1h', axis=1, inplace=True)\n",
    "data22.drop('Data', axis=1, inplace=True)\n",
    "data22.drop('Hora', axis=1, inplace=True)\n",
    "data22.drop('dt_iso', axis=1, inplace=True)\n",
    "data22.drop('dt', axis=1, inplace=True)\n",
    "\n",
    "test.drop('sea_level', axis=1, inplace=True)\n",
    "test.drop('grnd_level', axis=1, inplace=True)\n",
    "test.drop('rain_1h', axis=1, inplace=True)\n",
    "test.drop('Data', axis=1, inplace=True)\n",
    "test.drop('Hora', axis=1, inplace=True)\n",
    "test.drop('dt_iso', axis=1, inplace=True)\n",
    "test.drop('dt', axis=1, inplace=True)\n",
    "\n",
    "data21.drop('city_name', axis=1, inplace=True)\n",
    "data22.drop('city_name', axis=1, inplace=True)\n",
    "test.drop('city_name', axis=1, inplace=True)\n",
    "\n",
    "train = pd.concat([data21, data22], axis=0)\n",
    "\n",
    "\n",
    "# separar data em ano, mes e dia\n",
    "\n",
    "train['ano'] = train['dt_converted'].apply(lambda x: x.year)\n",
    "train['mes'] = train['dt_converted'].apply(lambda x: x.month)\n",
    "train['dia'] = train['dt_converted'].apply(lambda x: x.day)\n",
    "train['hora'] = train['dt_converted'].apply(lambda x: x.hour)\n",
    "\n",
    "train['dia da semana'] = train['dt_converted'].apply(lambda x: x.weekday())\n",
    "\n",
    "test['ano'] = test['dt_converted'].apply(lambda x: x.year)\n",
    "test['mes'] = test['dt_converted'].apply(lambda x: x.month)\n",
    "test['dia'] = test['dt_converted'].apply(lambda x: x.day)\n",
    "test['hora'] = test['dt_converted'].apply(lambda x: x.hour)\n",
    "\n",
    "test['dia da semana'] = test['dt_converted'].apply(lambda x: x.weekday())\n",
    "\n",
    "train.drop('dt_converted', axis=1, inplace=True)\n",
    "test.drop('dt_converted', axis=1, inplace=True)\n",
    "\n",
    "lb_make = LabelEncoder()\n",
    "train[\"weather_description\"] = lb_make.fit_transform(train[\"weather_description\"])\n",
    "test[\"weather_description\"] = lb_make.fit_transform(test[\"weather_description\"])\n",
    "\n",
    "train['weather_description'].unique()\n",
    "\n",
    "\n",
    "train['Injeção na rede (kWh)'] = train['Injeção na rede (kWh)'].fillna('None')\n",
    "\n",
    "dict_target = {\"None\": 0, \"Low\": 1, \"Medium\": 2, \"High\": 3, \"Very High\": 4}\n",
    "train[\"Injeção na rede (kWh)\"] = train[\"Injeção na rede (kWh)\"].map(dict_target)\n"
   ]
  },
  {
   "cell_type": "markdown",
   "metadata": {},
   "source": [
    "# 3 - ..."
   ]
  },
  {
   "cell_type": "markdown",
   "metadata": {},
   "source": [
    "## Outliers"
   ]
  },
  {
   "cell_type": "code",
   "execution_count": 121,
   "metadata": {},
   "outputs": [
    {
     "name": "stdout",
     "output_type": "stream",
     "text": [
      "<class 'pandas.core.frame.DataFrame'>\n",
      "RangeIndex: 1752 entries, 0 to 1751\n",
      "Data columns (total 17 columns):\n",
      " #   Column                   Non-Null Count  Dtype  \n",
      "---  ------                   --------------  -----  \n",
      " 0   Normal (kWh)             1752 non-null   float64\n",
      " 1   Horário Económico (kWh)  1752 non-null   float64\n",
      " 2   Autoconsumo (kWh)        1752 non-null   float64\n",
      " 3   temp                     1752 non-null   float64\n",
      " 4   feels_like               1752 non-null   float64\n",
      " 5   temp_min                 1752 non-null   float64\n",
      " 6   temp_max                 1752 non-null   float64\n",
      " 7   pressure                 1752 non-null   int64  \n",
      " 8   humidity                 1752 non-null   int64  \n",
      " 9   wind_speed               1752 non-null   float64\n",
      " 10  clouds_all               1752 non-null   int64  \n",
      " 11  weather_description      1752 non-null   int64  \n",
      " 12  ano                      1752 non-null   int32  \n",
      " 13  mes                      1752 non-null   int32  \n",
      " 14  dia                      1752 non-null   int32  \n",
      " 15  hora                     1752 non-null   int32  \n",
      " 16  dia da semana            1752 non-null   int64  \n",
      "dtypes: float64(8), int32(4), int64(5)\n",
      "memory usage: 205.4 KB\n"
     ]
    }
   ],
   "source": [
    "test.info()"
   ]
  },
  {
   "cell_type": "code",
   "execution_count": 122,
   "metadata": {},
   "outputs": [
    {
     "data": {
      "text/plain": [
       "count    1752.000000\n",
       "mean        0.285438\n",
       "std         0.482109\n",
       "min         0.000000\n",
       "25%         0.000000\n",
       "50%         0.000000\n",
       "75%         0.420500\n",
       "max         3.381000\n",
       "Name: Normal (kWh), dtype: float64"
      ]
     },
     "execution_count": 122,
     "metadata": {},
     "output_type": "execute_result"
    },
    {
     "data": {
      "image/png": "[encoded data removed]",
      "text/plain": [
       "<Figure size 640x480 with 1 Axes>"
      ]
     },
     "metadata": {},
     "output_type": "display_data"
    }
   ],
   "source": [
    "sns.boxplot(x=test[\"Normal (kWh)\"])\n",
    "test[\"Normal (kWh)\"].describe()"
   ]
  },
  {
   "cell_type": "code",
   "execution_count": 123,
   "metadata": {},
   "outputs": [
    {
     "data": {
      "text/plain": [
       "count    1752.000000\n",
       "mean        0.234958\n",
       "std         0.388916\n",
       "min         0.000000\n",
       "25%         0.000000\n",
       "50%         0.000000\n",
       "75%         0.342250\n",
       "max         2.771000\n",
       "Name: Horário Económico (kWh), dtype: float64"
      ]
     },
     "execution_count": 123,
     "metadata": {},
     "output_type": "execute_result"
    },
    {
     "data": {
      "image/png": "[encoded data removed]",
      "text/plain": [
       "<Figure size 640x480 with 1 Axes>"
      ]
     },
     "metadata": {},
     "output_type": "display_data"
    }
   ],
   "source": [
    "sns.boxplot(x=test[\"Horário Económico (kWh)\"])\n",
    "test[\"Horário Económico (kWh)\"].describe()"
   ]
  },
  {
   "cell_type": "code",
   "execution_count": 124,
   "metadata": {},
   "outputs": [
    {
     "data": {
      "text/plain": [
       "count    1752.000000\n",
       "mean        0.114521\n",
       "std         0.190091\n",
       "min         0.000000\n",
       "25%         0.000000\n",
       "50%         0.000000\n",
       "75%         0.221250\n",
       "max         1.070000\n",
       "Name: Autoconsumo (kWh), dtype: float64"
      ]
     },
     "execution_count": 124,
     "metadata": {},
     "output_type": "execute_result"
    },
    {
     "data": {
      "image/png": "[encoded data removed]",
      "text/plain": [
       "<Figure size 640x480 with 1 Axes>"
      ]
     },
     "metadata": {},
     "output_type": "display_data"
    }
   ],
   "source": [
    "sns.boxplot(x=test[\"Autoconsumo (kWh)\"])\n",
    "test[\"Autoconsumo (kWh)\"].describe()"
   ]
  },
  {
   "cell_type": "code",
   "execution_count": 125,
   "metadata": {},
   "outputs": [
    {
     "data": {
      "text/plain": [
       "count    1752.000000\n",
       "mean       10.599606\n",
       "std         3.715156\n",
       "min         0.930000\n",
       "25%         7.877500\n",
       "50%        10.950000\n",
       "75%        13.292500\n",
       "max        20.610000\n",
       "Name: temp, dtype: float64"
      ]
     },
     "execution_count": 125,
     "metadata": {},
     "output_type": "execute_result"
    },
    {
     "data": {
      "image/png": "[encoded data removed]",
      "text/plain": [
       "<Figure size 640x480 with 1 Axes>"
      ]
     },
     "metadata": {},
     "output_type": "display_data"
    }
   ],
   "source": [
    "sns.boxplot(x=test[\"temp\"])\n",
    "test[\"temp\"].describe()"
   ]
  },
  {
   "cell_type": "code",
   "execution_count": 126,
   "metadata": {},
   "outputs": [
    {
     "data": {
      "text/plain": [
       "count    1752.000000\n",
       "mean        9.543265\n",
       "std         4.191224\n",
       "min        -1.790000\n",
       "25%         6.217500\n",
       "50%        10.135000\n",
       "75%        12.742500\n",
       "max        19.790000\n",
       "Name: feels_like, dtype: float64"
      ]
     },
     "execution_count": 126,
     "metadata": {},
     "output_type": "execute_result"
    },
    {
     "data": {
      "image/png": "[encoded data removed]",
      "text/plain": [
       "<Figure size 640x480 with 1 Axes>"
      ]
     },
     "metadata": {},
     "output_type": "display_data"
    }
   ],
   "source": [
    "sns.boxplot(x=test[\"feels_like\"])\n",
    "test[\"feels_like\"].describe()"
   ]
  },
  {
   "cell_type": "code",
   "execution_count": 127,
   "metadata": {},
   "outputs": [
    {
     "data": {
      "text/plain": [
       "count    1752.000000\n",
       "mean        9.177917\n",
       "std         4.021176\n",
       "min        -0.850000\n",
       "25%         6.247500\n",
       "50%         9.710000\n",
       "75%        12.320000\n",
       "max        20.010000\n",
       "Name: temp_min, dtype: float64"
      ]
     },
     "execution_count": 127,
     "metadata": {},
     "output_type": "execute_result"
    },
    {
     "data": {
      "image/png": "[encoded data removed]",
      "text/plain": [
       "<Figure size 640x480 with 1 Axes>"
      ]
     },
     "metadata": {},
     "output_type": "display_data"
    }
   ],
   "source": [
    "sns.boxplot(x=test[\"temp_min\"])\n",
    "test[\"temp_min\"].describe()"
   ]
  },
  {
   "cell_type": "code",
   "execution_count": 128,
   "metadata": {},
   "outputs": [
    {
     "data": {
      "text/plain": [
       "count    1752.000000\n",
       "mean       11.643813\n",
       "std         3.596882\n",
       "min         3.340000\n",
       "25%         8.900000\n",
       "50%        11.820000\n",
       "75%        14.040000\n",
       "max        22.010000\n",
       "Name: temp_max, dtype: float64"
      ]
     },
     "execution_count": 128,
     "metadata": {},
     "output_type": "execute_result"
    },
    {
     "data": {
      "image/png": "[encoded data removed]",
      "text/plain": [
       "<Figure size 640x480 with 1 Axes>"
      ]
     },
     "metadata": {},
     "output_type": "display_data"
    }
   ],
   "source": [
    "sns.boxplot(x=test[\"temp_max\"])\n",
    "test[\"temp_max\"].describe()"
   ]
  },
  {
   "cell_type": "code",
   "execution_count": 129,
   "metadata": {},
   "outputs": [
    {
     "data": {
      "text/plain": [
       "count    1752.000000\n",
       "mean     1023.493721\n",
       "std         6.650873\n",
       "min      1006.000000\n",
       "25%      1020.000000\n",
       "50%      1024.000000\n",
       "75%      1029.000000\n",
       "max      1036.000000\n",
       "Name: pressure, dtype: float64"
      ]
     },
     "execution_count": 129,
     "metadata": {},
     "output_type": "execute_result"
    },
    {
     "data": {
      "image/png": "[encoded data removed]",
      "text/plain": [
       "<Figure size 640x480 with 1 Axes>"
      ]
     },
     "metadata": {},
     "output_type": "display_data"
    }
   ],
   "source": [
    "sns.boxplot(x=test[\"pressure\"])\n",
    "test[\"pressure\"].describe()"
   ]
  },
  {
   "cell_type": "code",
   "execution_count": 130,
   "metadata": {},
   "outputs": [
    {
     "data": {
      "text/plain": [
       "count    1752.000000\n",
       "mean       75.639840\n",
       "std        17.415468\n",
       "min        23.000000\n",
       "25%        62.000000\n",
       "50%        81.000000\n",
       "75%        91.000000\n",
       "max        97.000000\n",
       "Name: humidity, dtype: float64"
      ]
     },
     "execution_count": 130,
     "metadata": {},
     "output_type": "execute_result"
    },
    {
     "data": {
      "image/png": "[encoded data removed]",
      "text/plain": [
       "<Figure size 640x480 with 1 Axes>"
      ]
     },
     "metadata": {},
     "output_type": "display_data"
    }
   ],
   "source": [
    "sns.boxplot(x=test[\"humidity\"])\n",
    "test[\"humidity\"].describe()"
   ]
  },
  {
   "cell_type": "code",
   "execution_count": 131,
   "metadata": {},
   "outputs": [
    {
     "data": {
      "text/plain": [
       "count    1752.000000\n",
       "mean        2.873613\n",
       "std         1.620450\n",
       "min         0.120000\n",
       "25%         1.800000\n",
       "50%         2.490000\n",
       "75%         3.500000\n",
       "max        10.320000\n",
       "Name: wind_speed, dtype: float64"
      ]
     },
     "execution_count": 131,
     "metadata": {},
     "output_type": "execute_result"
    },
    {
     "data": {
      "image/png": "[encoded data removed]",
      "text/plain": [
       "<Figure size 640x480 with 1 Axes>"
      ]
     },
     "metadata": {},
     "output_type": "display_data"
    }
   ],
   "source": [
    "sns.boxplot(x=test[\"wind_speed\"])\n",
    "test[\"wind_speed\"].describe()"
   ]
  },
  {
   "cell_type": "code",
   "execution_count": 132,
   "metadata": {},
   "outputs": [
    {
     "data": {
      "text/plain": [
       "count    1752.000000\n",
       "mean       44.489726\n",
       "std        42.972438\n",
       "min         0.000000\n",
       "25%         0.000000\n",
       "50%        35.000000\n",
       "75%        96.000000\n",
       "max       100.000000\n",
       "Name: clouds_all, dtype: float64"
      ]
     },
     "execution_count": 132,
     "metadata": {},
     "output_type": "execute_result"
    },
    {
     "data": {
      "image/png": "[encoded data removed]",
      "text/plain": [
       "<Figure size 640x480 with 1 Axes>"
      ]
     },
     "metadata": {},
     "output_type": "display_data"
    }
   ],
   "source": [
    "sns.boxplot(x=test[\"clouds_all\"])\n",
    "test[\"clouds_all\"].describe()"
   ]
  },
  {
   "cell_type": "markdown",
   "metadata": {},
   "source": [
    "## Normalização"
   ]
  },
  {
   "cell_type": "code",
   "execution_count": 133,
   "metadata": {},
   "outputs": [
    {
     "name": "stdout",
     "output_type": "stream",
     "text": [
      "<class 'pandas.core.frame.DataFrame'>\n",
      "RangeIndex: 1752 entries, 0 to 1751\n",
      "Data columns (total 17 columns):\n",
      " #   Column                   Non-Null Count  Dtype  \n",
      "---  ------                   --------------  -----  \n",
      " 0   Normal (kWh)             1752 non-null   float64\n",
      " 1   Horário Económico (kWh)  1752 non-null   float64\n",
      " 2   Autoconsumo (kWh)        1752 non-null   float64\n",
      " 3   temp                     1752 non-null   float64\n",
      " 4   feels_like               1752 non-null   float64\n",
      " 5   temp_min                 1752 non-null   float64\n",
      " 6   temp_max                 1752 non-null   float64\n",
      " 7   pressure                 1752 non-null   int64  \n",
      " 8   humidity                 1752 non-null   int64  \n",
      " 9   wind_speed               1752 non-null   float64\n",
      " 10  clouds_all               1752 non-null   int64  \n",
      " 11  weather_description      1752 non-null   int64  \n",
      " 12  ano                      1752 non-null   int32  \n",
      " 13  mes                      1752 non-null   int32  \n",
      " 14  dia                      1752 non-null   int32  \n",
      " 15  hora                     1752 non-null   int32  \n",
      " 16  dia da semana            1752 non-null   int64  \n",
      "dtypes: float64(8), int32(4), int64(5)\n",
      "memory usage: 205.4 KB\n"
     ]
    }
   ],
   "source": [
    "test.info()"
   ]
  },
  {
   "cell_type": "code",
   "execution_count": 134,
   "metadata": {},
   "outputs": [],
   "source": [
    "test['Normal (kWh)'] = (test['Normal (kWh)'] - test['Normal (kWh)'].mean()) / (test['Normal (kWh)'].max() - test['Normal (kWh)'].min())\n",
    "train['Normal (kWh)'] = (train['Normal (kWh)'] - train['Normal (kWh)'].mean()) / (train['Normal (kWh)'].max() - train['Normal (kWh)'].min())\n",
    "\n",
    "test['Horário Económico (kWh)'] = (test['Horário Económico (kWh)'] - test['Horário Económico (kWh)'].mean()) / (test['Horário Económico (kWh)'].max() - test['Horário Económico (kWh)'].min())\n",
    "train['Horário Económico (kWh)'] = (train['Horário Económico (kWh)'] - train['Horário Económico (kWh)'].mean()) / (train['Horário Económico (kWh)'].max() - train['Horário Económico (kWh)'].min())\n",
    "\n",
    "test['Autoconsumo (kWh)'] = (test['Autoconsumo (kWh)'] - test['Autoconsumo (kWh)'].mean()) / (test['Autoconsumo (kWh)'].max() - test['Autoconsumo (kWh)'].min())\n",
    "train['Autoconsumo (kWh)'] = (train['Autoconsumo (kWh)'] - train['Autoconsumo (kWh)'].mean()) / (train['Autoconsumo (kWh)'].max() - train['Autoconsumo (kWh)'].min())\n",
    "\n",
    "test['temp'] = (test['temp'] - test['temp'].mean()) / (test['temp'].max() - test['temp'].min())\n",
    "train['temp'] = (train['temp'] - train['temp'].mean()) / (train['temp'].max() - train['temp'].min())\n",
    "\n",
    "test['feels_like'] = (test['feels_like'] - test['feels_like'].mean()) / (test['feels_like'].max() - test['feels_like'].min())\n",
    "train['feels_like'] = (train['feels_like'] - train['feels_like'].mean()) / (train['feels_like'].max() - train['feels_like'].min())\n",
    "\n",
    "test['temp_min'] = (test['temp_min'] - test['temp_min'].mean()) / (test['temp_min'].max() - test['temp_min'].min())\n",
    "train['temp_min'] = (train['temp_min'] - train['temp_min'].mean()) / (train['temp_min'].max() - train['temp_min'].min())\n",
    "\n",
    "test['temp_max'] = (test['temp_max'] - test['temp_max'].mean()) / (test['temp_max'].max() - test['temp_max'].min())\n",
    "train['temp_max'] = (train['temp_max'] - train['temp_max'].mean()) / (train['temp_max'].max() - train['temp_max'].min())\n",
    "\n",
    "test['pressure'] = (test['pressure'] - test['pressure'].mean()) / (test['pressure'].max() - test['pressure'].min())\n",
    "train['pressure'] = (train['pressure'] - train['pressure'].mean()) / (train['pressure'].max() - train['pressure'].min())\n",
    "\n",
    "test['humidity'] = (test['humidity'] - test['humidity'].mean()) / (test['humidity'].max() - test['humidity'].min())\n",
    "train['humidity'] = (train['humidity'] - train['humidity'].mean()) / (train['humidity'].max() - train['humidity'].min())\n",
    "\n",
    "test['wind_speed'] = (test['wind_speed'] - test['wind_speed'].mean()) / (test['wind_speed'].max() - test['wind_speed'].min())\n",
    "train['wind_speed'] = (train['wind_speed'] - train['wind_speed'].mean()) / (train['wind_speed'].max() - train['wind_speed'].min())\n",
    "\n",
    "test['clouds_all'] = (test['clouds_all'] - test['clouds_all'].mean()) / (test['clouds_all'].max() - test['clouds_all'].min())\n",
    "train['clouds_all'] = (train['clouds_all'] - train['clouds_all'].mean()) / (train['clouds_all'].max() - train['clouds_all'].min())\n"
   ]
  },
  {
   "cell_type": "code",
   "execution_count": 135,
   "metadata": {},
   "outputs": [
    {
     "data": {
      "text/html": [
       "<div>\n",
       "<style scoped>\n",
       "    .dataframe tbody tr th:only-of-type {\n",
       "        vertical-align: middle;\n",
       "    }\n",
       "\n",
       "    .dataframe tbody tr th {\n",
       "        vertical-align: top;\n",
       "    }\n",
       "\n",
       "    .dataframe thead th {\n",
       "        text-align: right;\n",
       "    }\n",
       "</style>\n",
       "<table border=\"1\" class=\"dataframe\">\n",
       "  <thead>\n",
       "    <tr style=\"text-align: right;\">\n",
       "      <th></th>\n",
       "      <th>Normal (kWh)</th>\n",
       "      <th>Horário Económico (kWh)</th>\n",
       "      <th>Autoconsumo (kWh)</th>\n",
       "      <th>temp</th>\n",
       "      <th>feels_like</th>\n",
       "      <th>temp_min</th>\n",
       "      <th>temp_max</th>\n",
       "      <th>pressure</th>\n",
       "      <th>humidity</th>\n",
       "      <th>wind_speed</th>\n",
       "      <th>clouds_all</th>\n",
       "      <th>weather_description</th>\n",
       "      <th>ano</th>\n",
       "      <th>mes</th>\n",
       "      <th>dia</th>\n",
       "      <th>hora</th>\n",
       "      <th>dia da semana</th>\n",
       "    </tr>\n",
       "  </thead>\n",
       "  <tbody>\n",
       "    <tr>\n",
       "      <th>count</th>\n",
       "      <td>1.752000e+03</td>\n",
       "      <td>1.752000e+03</td>\n",
       "      <td>1.752000e+03</td>\n",
       "      <td>1.752000e+03</td>\n",
       "      <td>1.752000e+03</td>\n",
       "      <td>1.752000e+03</td>\n",
       "      <td>1.752000e+03</td>\n",
       "      <td>1.752000e+03</td>\n",
       "      <td>1.752000e+03</td>\n",
       "      <td>1.752000e+03</td>\n",
       "      <td>1.752000e+03</td>\n",
       "      <td>1752.000000</td>\n",
       "      <td>1752.0</td>\n",
       "      <td>1752.000000</td>\n",
       "      <td>1752.000000</td>\n",
       "      <td>1752.000000</td>\n",
       "      <td>1752.000000</td>\n",
       "    </tr>\n",
       "    <tr>\n",
       "      <th>mean</th>\n",
       "      <td>-4.562560e-18</td>\n",
       "      <td>5.069512e-18</td>\n",
       "      <td>-1.318073e-17</td>\n",
       "      <td>-3.650048e-17</td>\n",
       "      <td>4.055609e-17</td>\n",
       "      <td>8.111218e-18</td>\n",
       "      <td>6.894536e-17</td>\n",
       "      <td>7.543433e-16</td>\n",
       "      <td>4.461170e-17</td>\n",
       "      <td>1.825024e-17</td>\n",
       "      <td>3.244487e-17</td>\n",
       "      <td>4.935502</td>\n",
       "      <td>2023.0</td>\n",
       "      <td>1.767123</td>\n",
       "      <td>13.794521</td>\n",
       "      <td>11.500000</td>\n",
       "      <td>2.972603</td>\n",
       "    </tr>\n",
       "    <tr>\n",
       "      <th>std</th>\n",
       "      <td>1.425936e-01</td>\n",
       "      <td>1.403522e-01</td>\n",
       "      <td>1.776549e-01</td>\n",
       "      <td>1.887783e-01</td>\n",
       "      <td>1.942180e-01</td>\n",
       "      <td>1.927697e-01</td>\n",
       "      <td>1.926557e-01</td>\n",
       "      <td>2.216958e-01</td>\n",
       "      <td>2.353442e-01</td>\n",
       "      <td>1.588677e-01</td>\n",
       "      <td>4.297244e-01</td>\n",
       "      <td>2.296636</td>\n",
       "      <td>0.0</td>\n",
       "      <td>0.750019</td>\n",
       "      <td>8.486023</td>\n",
       "      <td>6.924163</td>\n",
       "      <td>2.034354</td>\n",
       "    </tr>\n",
       "    <tr>\n",
       "      <th>min</th>\n",
       "      <td>-8.442424e-02</td>\n",
       "      <td>-8.479189e-02</td>\n",
       "      <td>-1.070291e-01</td>\n",
       "      <td>-4.913418e-01</td>\n",
       "      <td>-5.251745e-01</td>\n",
       "      <td>-4.807247e-01</td>\n",
       "      <td>-4.447677e-01</td>\n",
       "      <td>-5.831240e-01</td>\n",
       "      <td>-7.113492e-01</td>\n",
       "      <td>-2.699621e-01</td>\n",
       "      <td>-4.448973e-01</td>\n",
       "      <td>0.000000</td>\n",
       "      <td>2023.0</td>\n",
       "      <td>1.000000</td>\n",
       "      <td>1.000000</td>\n",
       "      <td>0.000000</td>\n",
       "      <td>0.000000</td>\n",
       "    </tr>\n",
       "    <tr>\n",
       "      <th>25%</th>\n",
       "      <td>-8.442424e-02</td>\n",
       "      <td>-8.479189e-02</td>\n",
       "      <td>-1.070291e-01</td>\n",
       "      <td>-1.383184e-01</td>\n",
       "      <td>-1.541133e-01</td>\n",
       "      <td>-1.404802e-01</td>\n",
       "      <td>-1.469637e-01</td>\n",
       "      <td>-1.164574e-01</td>\n",
       "      <td>-1.843222e-01</td>\n",
       "      <td>-1.052562e-01</td>\n",
       "      <td>-4.448973e-01</td>\n",
       "      <td>3.000000</td>\n",
       "      <td>2023.0</td>\n",
       "      <td>1.000000</td>\n",
       "      <td>7.000000</td>\n",
       "      <td>5.750000</td>\n",
       "      <td>1.000000</td>\n",
       "    </tr>\n",
       "    <tr>\n",
       "      <th>50%</th>\n",
       "      <td>-8.442424e-02</td>\n",
       "      <td>-8.479189e-02</td>\n",
       "      <td>-1.070291e-01</td>\n",
       "      <td>1.780456e-02</td>\n",
       "      <td>2.742054e-02</td>\n",
       "      <td>2.550735e-02</td>\n",
       "      <td>9.436916e-03</td>\n",
       "      <td>1.687595e-02</td>\n",
       "      <td>7.243459e-02</td>\n",
       "      <td>-3.760912e-02</td>\n",
       "      <td>-9.489726e-02</td>\n",
       "      <td>5.000000</td>\n",
       "      <td>2023.0</td>\n",
       "      <td>2.000000</td>\n",
       "      <td>13.000000</td>\n",
       "      <td>11.500000</td>\n",
       "      <td>3.000000</td>\n",
       "    </tr>\n",
       "    <tr>\n",
       "      <th>75%</th>\n",
       "      <td>3.994725e-02</td>\n",
       "      <td>3.871948e-02</td>\n",
       "      <td>9.974662e-02</td>\n",
       "      <td>1.368340e-01</td>\n",
       "      <td>1.482500e-01</td>\n",
       "      <td>1.506272e-01</td>\n",
       "      <td>1.283443e-01</td>\n",
       "      <td>1.835426e-01</td>\n",
       "      <td>2.075697e-01</td>\n",
       "      <td>6.141049e-02</td>\n",
       "      <td>5.151027e-01</td>\n",
       "      <td>7.000000</td>\n",
       "      <td>2023.0</td>\n",
       "      <td>2.000000</td>\n",
       "      <td>21.000000</td>\n",
       "      <td>17.250000</td>\n",
       "      <td>5.000000</td>\n",
       "    </tr>\n",
       "    <tr>\n",
       "      <th>max</th>\n",
       "      <td>9.155758e-01</td>\n",
       "      <td>9.152081e-01</td>\n",
       "      <td>8.929709e-01</td>\n",
       "      <td>5.086582e-01</td>\n",
       "      <td>4.748255e-01</td>\n",
       "      <td>5.192753e-01</td>\n",
       "      <td>5.552323e-01</td>\n",
       "      <td>4.168760e-01</td>\n",
       "      <td>2.886508e-01</td>\n",
       "      <td>7.300379e-01</td>\n",
       "      <td>5.551027e-01</td>\n",
       "      <td>7.000000</td>\n",
       "      <td>2023.0</td>\n",
       "      <td>3.000000</td>\n",
       "      <td>31.000000</td>\n",
       "      <td>23.000000</td>\n",
       "      <td>6.000000</td>\n",
       "    </tr>\n",
       "  </tbody>\n",
       "</table>\n",
       "</div>"
      ],
      "text/plain": [
       "       Normal (kWh)  Horário Económico (kWh)  Autoconsumo (kWh)          temp  \\\n",
       "count  1.752000e+03             1.752000e+03       1.752000e+03  1.752000e+03   \n",
       "mean  -4.562560e-18             5.069512e-18      -1.318073e-17 -3.650048e-17   \n",
       "std    1.425936e-01             1.403522e-01       1.776549e-01  1.887783e-01   \n",
       "min   -8.442424e-02            -8.479189e-02      -1.070291e-01 -4.913418e-01   \n",
       "25%   -8.442424e-02            -8.479189e-02      -1.070291e-01 -1.383184e-01   \n",
       "50%   -8.442424e-02            -8.479189e-02      -1.070291e-01  1.780456e-02   \n",
       "75%    3.994725e-02             3.871948e-02       9.974662e-02  1.368340e-01   \n",
       "max    9.155758e-01             9.152081e-01       8.929709e-01  5.086582e-01   \n",
       "\n",
       "         feels_like      temp_min      temp_max      pressure      humidity  \\\n",
       "count  1.752000e+03  1.752000e+03  1.752000e+03  1.752000e+03  1.752000e+03   \n",
       "mean   4.055609e-17  8.111218e-18  6.894536e-17  7.543433e-16  4.461170e-17   \n",
       "std    1.942180e-01  1.927697e-01  1.926557e-01  2.216958e-01  2.353442e-01   \n",
       "min   -5.251745e-01 -4.807247e-01 -4.447677e-01 -5.831240e-01 -7.113492e-01   \n",
       "25%   -1.541133e-01 -1.404802e-01 -1.469637e-01 -1.164574e-01 -1.843222e-01   \n",
       "50%    2.742054e-02  2.550735e-02  9.436916e-03  1.687595e-02  7.243459e-02   \n",
       "75%    1.482500e-01  1.506272e-01  1.283443e-01  1.835426e-01  2.075697e-01   \n",
       "max    4.748255e-01  5.192753e-01  5.552323e-01  4.168760e-01  2.886508e-01   \n",
       "\n",
       "         wind_speed    clouds_all  weather_description     ano          mes  \\\n",
       "count  1.752000e+03  1.752000e+03          1752.000000  1752.0  1752.000000   \n",
       "mean   1.825024e-17  3.244487e-17             4.935502  2023.0     1.767123   \n",
       "std    1.588677e-01  4.297244e-01             2.296636     0.0     0.750019   \n",
       "min   -2.699621e-01 -4.448973e-01             0.000000  2023.0     1.000000   \n",
       "25%   -1.052562e-01 -4.448973e-01             3.000000  2023.0     1.000000   \n",
       "50%   -3.760912e-02 -9.489726e-02             5.000000  2023.0     2.000000   \n",
       "75%    6.141049e-02  5.151027e-01             7.000000  2023.0     2.000000   \n",
       "max    7.300379e-01  5.551027e-01             7.000000  2023.0     3.000000   \n",
       "\n",
       "               dia         hora  dia da semana  \n",
       "count  1752.000000  1752.000000    1752.000000  \n",
       "mean     13.794521    11.500000       2.972603  \n",
       "std       8.486023     6.924163       2.034354  \n",
       "min       1.000000     0.000000       0.000000  \n",
       "25%       7.000000     5.750000       1.000000  \n",
       "50%      13.000000    11.500000       3.000000  \n",
       "75%      21.000000    17.250000       5.000000  \n",
       "max      31.000000    23.000000       6.000000  "
      ]
     },
     "execution_count": 135,
     "metadata": {},
     "output_type": "execute_result"
    }
   ],
   "source": [
    "test.describe()"
   ]
  },
  {
   "cell_type": "code",
   "execution_count": 136,
   "metadata": {},
   "outputs": [
    {
     "data": {
      "text/html": [
       "<div>\n",
       "<style scoped>\n",
       "    .dataframe tbody tr th:only-of-type {\n",
       "        vertical-align: middle;\n",
       "    }\n",
       "\n",
       "    .dataframe tbody tr th {\n",
       "        vertical-align: top;\n",
       "    }\n",
       "\n",
       "    .dataframe thead th {\n",
       "        text-align: right;\n",
       "    }\n",
       "</style>\n",
       "<table border=\"1\" class=\"dataframe\">\n",
       "  <thead>\n",
       "    <tr style=\"text-align: right;\">\n",
       "      <th></th>\n",
       "      <th>Normal (kWh)</th>\n",
       "      <th>Horário Económico (kWh)</th>\n",
       "      <th>Autoconsumo (kWh)</th>\n",
       "      <th>Injeção na rede (kWh)</th>\n",
       "      <th>temp</th>\n",
       "      <th>feels_like</th>\n",
       "      <th>temp_min</th>\n",
       "      <th>temp_max</th>\n",
       "      <th>pressure</th>\n",
       "      <th>humidity</th>\n",
       "      <th>wind_speed</th>\n",
       "      <th>clouds_all</th>\n",
       "      <th>weather_description</th>\n",
       "      <th>ano</th>\n",
       "      <th>mes</th>\n",
       "      <th>dia</th>\n",
       "      <th>hora</th>\n",
       "      <th>dia da semana</th>\n",
       "    </tr>\n",
       "  </thead>\n",
       "  <tbody>\n",
       "    <tr>\n",
       "      <th>count</th>\n",
       "      <td>1.101600e+04</td>\n",
       "      <td>1.101600e+04</td>\n",
       "      <td>1.101600e+04</td>\n",
       "      <td>11016.000000</td>\n",
       "      <td>1.101600e+04</td>\n",
       "      <td>1.101600e+04</td>\n",
       "      <td>1.101600e+04</td>\n",
       "      <td>1.101600e+04</td>\n",
       "      <td>1.101600e+04</td>\n",
       "      <td>1.101600e+04</td>\n",
       "      <td>1.101600e+04</td>\n",
       "      <td>1.101600e+04</td>\n",
       "      <td>11016.000000</td>\n",
       "      <td>11016.000000</td>\n",
       "      <td>11016.000000</td>\n",
       "      <td>11016.000000</td>\n",
       "      <td>11016.000000</td>\n",
       "      <td>11016.000000</td>\n",
       "    </tr>\n",
       "    <tr>\n",
       "      <th>mean</th>\n",
       "      <td>6.450097e-18</td>\n",
       "      <td>-4.031311e-18</td>\n",
       "      <td>-7.740117e-18</td>\n",
       "      <td>0.758987</td>\n",
       "      <td>-3.870058e-17</td>\n",
       "      <td>1.161018e-17</td>\n",
       "      <td>-4.773072e-17</td>\n",
       "      <td>-1.161018e-17</td>\n",
       "      <td>2.838043e-16</td>\n",
       "      <td>8.514129e-17</td>\n",
       "      <td>-2.580039e-18</td>\n",
       "      <td>4.644070e-17</td>\n",
       "      <td>4.374818</td>\n",
       "      <td>2021.795207</td>\n",
       "      <td>7.433551</td>\n",
       "      <td>15.803922</td>\n",
       "      <td>11.500000</td>\n",
       "      <td>3.004357</td>\n",
       "    </tr>\n",
       "    <tr>\n",
       "      <th>std</th>\n",
       "      <td>1.074987e-01</td>\n",
       "      <td>3.894984e-02</td>\n",
       "      <td>1.482904e-01</td>\n",
       "      <td>1.281918</td>\n",
       "      <td>1.420422e-01</td>\n",
       "      <td>1.439536e-01</td>\n",
       "      <td>1.326556e-01</td>\n",
       "      <td>1.536563e-01</td>\n",
       "      <td>1.550845e-01</td>\n",
       "      <td>2.008427e-01</td>\n",
       "      <td>1.337100e-01</td>\n",
       "      <td>4.055300e-01</td>\n",
       "      <td>2.403911</td>\n",
       "      <td>0.403569</td>\n",
       "      <td>3.578335</td>\n",
       "      <td>8.835905</td>\n",
       "      <td>6.922501</td>\n",
       "      <td>1.994632</td>\n",
       "    </tr>\n",
       "    <tr>\n",
       "      <th>min</th>\n",
       "      <td>-6.222026e-02</td>\n",
       "      <td>-2.288821e-02</td>\n",
       "      <td>-9.841786e-02</td>\n",
       "      <td>0.000000</td>\n",
       "      <td>-3.913889e-01</td>\n",
       "      <td>-4.139905e-01</td>\n",
       "      <td>-3.970842e-01</td>\n",
       "      <td>-3.977592e-01</td>\n",
       "      <td>-6.099151e-01</td>\n",
       "      <td>-7.107496e-01</td>\n",
       "      <td>-2.365977e-01</td>\n",
       "      <td>-5.400091e-01</td>\n",
       "      <td>0.000000</td>\n",
       "      <td>2021.000000</td>\n",
       "      <td>1.000000</td>\n",
       "      <td>1.000000</td>\n",
       "      <td>0.000000</td>\n",
       "      <td>0.000000</td>\n",
       "    </tr>\n",
       "    <tr>\n",
       "      <th>25%</th>\n",
       "      <td>-6.222026e-02</td>\n",
       "      <td>-2.288821e-02</td>\n",
       "      <td>-9.841786e-02</td>\n",
       "      <td>0.000000</td>\n",
       "      <td>-1.012334e-01</td>\n",
       "      <td>-9.925019e-02</td>\n",
       "      <td>-9.301564e-02</td>\n",
       "      <td>-1.096236e-01</td>\n",
       "      <td>-8.491512e-02</td>\n",
       "      <td>-1.305027e-01</td>\n",
       "      <td>-9.529337e-02</td>\n",
       "      <td>-4.700091e-01</td>\n",
       "      <td>3.000000</td>\n",
       "      <td>2022.000000</td>\n",
       "      <td>4.000000</td>\n",
       "      <td>8.000000</td>\n",
       "      <td>5.750000</td>\n",
       "      <td>1.000000</td>\n",
       "    </tr>\n",
       "    <tr>\n",
       "      <th>50%</th>\n",
       "      <td>-6.222026e-02</td>\n",
       "      <td>-2.288821e-02</td>\n",
       "      <td>-9.841786e-02</td>\n",
       "      <td>0.000000</td>\n",
       "      <td>-1.376736e-02</td>\n",
       "      <td>-1.371480e-02</td>\n",
       "      <td>9.351057e-04</td>\n",
       "      <td>-2.562558e-02</td>\n",
       "      <td>-9.915123e-03</td>\n",
       "      <td>5.468253e-02</td>\n",
       "      <td>-2.464120e-02</td>\n",
       "      <td>5.999092e-02</td>\n",
       "      <td>5.000000</td>\n",
       "      <td>2022.000000</td>\n",
       "      <td>8.000000</td>\n",
       "      <td>16.000000</td>\n",
       "      <td>11.500000</td>\n",
       "      <td>3.000000</td>\n",
       "    </tr>\n",
       "    <tr>\n",
       "      <th>75%</th>\n",
       "      <td>3.436541e-02</td>\n",
       "      <td>1.838436e-02</td>\n",
       "      <td>9.201838e-02</td>\n",
       "      <td>2.000000</td>\n",
       "      <td>7.616602e-02</td>\n",
       "      <td>7.888630e-02</td>\n",
       "      <td>8.819421e-02</td>\n",
       "      <td>7.606934e-02</td>\n",
       "      <td>9.008488e-02</td>\n",
       "      <td>1.781393e-01</td>\n",
       "      <td>6.775010e-02</td>\n",
       "      <td>4.399909e-01</td>\n",
       "      <td>7.000000</td>\n",
       "      <td>2022.000000</td>\n",
       "      <td>11.000000</td>\n",
       "      <td>23.000000</td>\n",
       "      <td>17.250000</td>\n",
       "      <td>5.000000</td>\n",
       "    </tr>\n",
       "    <tr>\n",
       "      <th>max</th>\n",
       "      <td>9.377797e-01</td>\n",
       "      <td>9.771118e-01</td>\n",
       "      <td>9.015821e-01</td>\n",
       "      <td>4.000000</td>\n",
       "      <td>6.086111e-01</td>\n",
       "      <td>5.860095e-01</td>\n",
       "      <td>6.029158e-01</td>\n",
       "      <td>6.022408e-01</td>\n",
       "      <td>3.900849e-01</td>\n",
       "      <td>2.892504e-01</td>\n",
       "      <td>7.634023e-01</td>\n",
       "      <td>4.599909e-01</td>\n",
       "      <td>7.000000</td>\n",
       "      <td>2022.000000</td>\n",
       "      <td>12.000000</td>\n",
       "      <td>31.000000</td>\n",
       "      <td>23.000000</td>\n",
       "      <td>6.000000</td>\n",
       "    </tr>\n",
       "  </tbody>\n",
       "</table>\n",
       "</div>"
      ],
      "text/plain": [
       "       Normal (kWh)  Horário Económico (kWh)  Autoconsumo (kWh)  \\\n",
       "count  1.101600e+04             1.101600e+04       1.101600e+04   \n",
       "mean   6.450097e-18            -4.031311e-18      -7.740117e-18   \n",
       "std    1.074987e-01             3.894984e-02       1.482904e-01   \n",
       "min   -6.222026e-02            -2.288821e-02      -9.841786e-02   \n",
       "25%   -6.222026e-02            -2.288821e-02      -9.841786e-02   \n",
       "50%   -6.222026e-02            -2.288821e-02      -9.841786e-02   \n",
       "75%    3.436541e-02             1.838436e-02       9.201838e-02   \n",
       "max    9.377797e-01             9.771118e-01       9.015821e-01   \n",
       "\n",
       "       Injeção na rede (kWh)          temp    feels_like      temp_min  \\\n",
       "count           11016.000000  1.101600e+04  1.101600e+04  1.101600e+04   \n",
       "mean                0.758987 -3.870058e-17  1.161018e-17 -4.773072e-17   \n",
       "std                 1.281918  1.420422e-01  1.439536e-01  1.326556e-01   \n",
       "min                 0.000000 -3.913889e-01 -4.139905e-01 -3.970842e-01   \n",
       "25%                 0.000000 -1.012334e-01 -9.925019e-02 -9.301564e-02   \n",
       "50%                 0.000000 -1.376736e-02 -1.371480e-02  9.351057e-04   \n",
       "75%                 2.000000  7.616602e-02  7.888630e-02  8.819421e-02   \n",
       "max                 4.000000  6.086111e-01  5.860095e-01  6.029158e-01   \n",
       "\n",
       "           temp_max      pressure      humidity    wind_speed    clouds_all  \\\n",
       "count  1.101600e+04  1.101600e+04  1.101600e+04  1.101600e+04  1.101600e+04   \n",
       "mean  -1.161018e-17  2.838043e-16  8.514129e-17 -2.580039e-18  4.644070e-17   \n",
       "std    1.536563e-01  1.550845e-01  2.008427e-01  1.337100e-01  4.055300e-01   \n",
       "min   -3.977592e-01 -6.099151e-01 -7.107496e-01 -2.365977e-01 -5.400091e-01   \n",
       "25%   -1.096236e-01 -8.491512e-02 -1.305027e-01 -9.529337e-02 -4.700091e-01   \n",
       "50%   -2.562558e-02 -9.915123e-03  5.468253e-02 -2.464120e-02  5.999092e-02   \n",
       "75%    7.606934e-02  9.008488e-02  1.781393e-01  6.775010e-02  4.399909e-01   \n",
       "max    6.022408e-01  3.900849e-01  2.892504e-01  7.634023e-01  4.599909e-01   \n",
       "\n",
       "       weather_description           ano           mes           dia  \\\n",
       "count         11016.000000  11016.000000  11016.000000  11016.000000   \n",
       "mean              4.374818   2021.795207      7.433551     15.803922   \n",
       "std               2.403911      0.403569      3.578335      8.835905   \n",
       "min               0.000000   2021.000000      1.000000      1.000000   \n",
       "25%               3.000000   2022.000000      4.000000      8.000000   \n",
       "50%               5.000000   2022.000000      8.000000     16.000000   \n",
       "75%               7.000000   2022.000000     11.000000     23.000000   \n",
       "max               7.000000   2022.000000     12.000000     31.000000   \n",
       "\n",
       "               hora  dia da semana  \n",
       "count  11016.000000   11016.000000  \n",
       "mean      11.500000       3.004357  \n",
       "std        6.922501       1.994632  \n",
       "min        0.000000       0.000000  \n",
       "25%        5.750000       1.000000  \n",
       "50%       11.500000       3.000000  \n",
       "75%       17.250000       5.000000  \n",
       "max       23.000000       6.000000  "
      ]
     },
     "execution_count": 136,
     "metadata": {},
     "output_type": "execute_result"
    }
   ],
   "source": [
    "train.describe()"
   ]
  },
  {
   "cell_type": "code",
   "execution_count": 137,
   "metadata": {},
   "outputs": [],
   "source": [
    "from sklearn.tree import DecisionTreeClassifier\n",
    "from sklearn.model_selection import train_test_split, cross_val_score, GridSearchCV, KFold\n",
    "from sklearn.ensemble import RandomForestClassifier, ExtraTreesClassifier\n",
    "from sklearn.feature_selection import SelectFromModel\n",
    "from sklearn.metrics import accuracy_score\n",
    "from sklearn.svm import SVC\n",
    "from sklearn.metrics import classification_report, ConfusionMatrixDisplay\n",
    "import tensorflow as tf\n",
    "from tensorflow import keras\n",
    "from tensorflow.keras.models import Sequential\n",
    "from tensorflow.keras.layers import Dense#, Dropout, BatchNormalization\n",
    "from scikeras.wrappers import KerasRegressor#, KerasClassifier"
   ]
  },
  {
   "cell_type": "code",
   "execution_count": 138,
   "metadata": {},
   "outputs": [],
   "source": [
    "train_feat = train.drop(['Injeção na rede (kWh)'], axis = 1)\n",
    "train_target = train[['Injeção na rede (kWh)']]\n",
    "\n",
    "x_train = train_feat\n",
    "y_train= np.ravel(train_target) "
   ]
  },
  {
   "cell_type": "code",
   "execution_count": 139,
   "metadata": {},
   "outputs": [],
   "source": [
    "# sns.heatmap(train_target.isnull(),yticklabels=False,cbar=False,cmap='viridis')"
   ]
  },
  {
   "cell_type": "markdown",
   "metadata": {},
   "source": [
    "## SVM"
   ]
  },
  {
   "cell_type": "code",
   "execution_count": 140,
   "metadata": {},
   "outputs": [],
   "source": [
    "param_grid={'C':[0.1,1,10,100,1000],'gamma':[1,0.1,0.01,0.001,0.0001],'kernel':['rbf']}\n",
    "\n",
    "grid = GridSearchCV(SVC(random_state=1000),param_grid,refit=True,verbose=3)"
   ]
  },
  {
   "cell_type": "code",
   "execution_count": 141,
   "metadata": {},
   "outputs": [
    {
     "name": "stdout",
     "output_type": "stream",
     "text": [
      "Fitting 5 folds for each of 25 candidates, totalling 125 fits\n",
      "[CV 1/5] END ........C=0.1, gamma=1, kernel=rbf;, score=0.706 total time=  40.1s\n",
      "[CV 2/5] END ........C=0.1, gamma=1, kernel=rbf;, score=0.706 total time=  25.8s\n",
      "[CV 3/5] END ........C=0.1, gamma=1, kernel=rbf;, score=0.706 total time=  23.0s\n",
      "[CV 4/5] END ........C=0.1, gamma=1, kernel=rbf;, score=0.706 total time=  20.0s\n",
      "[CV 5/5] END ........C=0.1, gamma=1, kernel=rbf;, score=0.706 total time=  20.8s\n",
      "[CV 1/5] END ......C=0.1, gamma=0.1, kernel=rbf;, score=0.708 total time=   6.5s\n",
      "[CV 2/5] END ......C=0.1, gamma=0.1, kernel=rbf;, score=0.706 total time=   6.9s\n",
      "[CV 3/5] END ......C=0.1, gamma=0.1, kernel=rbf;, score=0.710 total time=   7.7s\n",
      "[CV 4/5] END ......C=0.1, gamma=0.1, kernel=rbf;, score=0.716 total time=   9.4s\n",
      "[CV 5/5] END ......C=0.1, gamma=0.1, kernel=rbf;, score=0.719 total time=   9.0s\n",
      "[CV 1/5] END .....C=0.1, gamma=0.01, kernel=rbf;, score=0.725 total time=  10.7s\n",
      "[CV 2/5] END .....C=0.1, gamma=0.01, kernel=rbf;, score=0.701 total time=  10.7s\n",
      "[CV 3/5] END .....C=0.1, gamma=0.01, kernel=rbf;, score=0.742 total time=   9.6s\n",
      "[CV 4/5] END .....C=0.1, gamma=0.01, kernel=rbf;, score=0.750 total time=   4.5s\n",
      "[CV 5/5] END .....C=0.1, gamma=0.01, kernel=rbf;, score=0.726 total time=   5.6s\n",
      "[CV 1/5] END ....C=0.1, gamma=0.001, kernel=rbf;, score=0.706 total time=  13.1s\n",
      "[CV 2/5] END ....C=0.1, gamma=0.001, kernel=rbf;, score=0.706 total time=  10.7s\n",
      "[CV 3/5] END ....C=0.1, gamma=0.001, kernel=rbf;, score=0.706 total time=  10.1s\n",
      "[CV 4/5] END ....C=0.1, gamma=0.001, kernel=rbf;, score=0.706 total time=   8.7s\n",
      "[CV 5/5] END ....C=0.1, gamma=0.001, kernel=rbf;, score=0.706 total time=   5.4s\n",
      "[CV 1/5] END ...C=0.1, gamma=0.0001, kernel=rbf;, score=0.706 total time=   4.8s\n",
      "[CV 2/5] END ...C=0.1, gamma=0.0001, kernel=rbf;, score=0.706 total time=   5.1s\n",
      "[CV 3/5] END ...C=0.1, gamma=0.0001, kernel=rbf;, score=0.706 total time=   4.8s\n",
      "[CV 4/5] END ...C=0.1, gamma=0.0001, kernel=rbf;, score=0.706 total time=   4.2s\n",
      "[CV 5/5] END ...C=0.1, gamma=0.0001, kernel=rbf;, score=0.706 total time=   5.0s\n",
      "[CV 1/5] END ..........C=1, gamma=1, kernel=rbf;, score=0.706 total time=  23.9s\n",
      "[CV 2/5] END ..........C=1, gamma=1, kernel=rbf;, score=0.706 total time=  26.7s\n",
      "[CV 3/5] END ..........C=1, gamma=1, kernel=rbf;, score=0.706 total time=  30.4s\n",
      "[CV 4/5] END ..........C=1, gamma=1, kernel=rbf;, score=0.706 total time=  37.0s\n",
      "[CV 5/5] END ..........C=1, gamma=1, kernel=rbf;, score=0.706 total time=  31.9s\n",
      "[CV 1/5] END ........C=1, gamma=0.1, kernel=rbf;, score=0.747 total time=   7.4s\n",
      "[CV 2/5] END ........C=1, gamma=0.1, kernel=rbf;, score=0.671 total time=   7.5s\n",
      "[CV 3/5] END ........C=1, gamma=0.1, kernel=rbf;, score=0.742 total time=   6.7s\n",
      "[CV 4/5] END ........C=1, gamma=0.1, kernel=rbf;, score=0.778 total time=   8.0s\n",
      "[CV 5/5] END ........C=1, gamma=0.1, kernel=rbf;, score=0.741 total time=   9.0s\n",
      "[CV 1/5] END .......C=1, gamma=0.01, kernel=rbf;, score=0.760 total time=   6.7s\n",
      "[CV 2/5] END .......C=1, gamma=0.01, kernel=rbf;, score=0.727 total time=   6.7s\n",
      "[CV 3/5] END .......C=1, gamma=0.01, kernel=rbf;, score=0.789 total time=   5.0s\n",
      "[CV 4/5] END .......C=1, gamma=0.01, kernel=rbf;, score=0.803 total time=   4.8s\n",
      "[CV 5/5] END .......C=1, gamma=0.01, kernel=rbf;, score=0.765 total time=   5.1s\n",
      "[CV 1/5] END ......C=1, gamma=0.001, kernel=rbf;, score=0.708 total time=   6.5s\n",
      "[CV 2/5] END ......C=1, gamma=0.001, kernel=rbf;, score=0.734 total time=   6.2s\n",
      "[CV 3/5] END ......C=1, gamma=0.001, kernel=rbf;, score=0.719 total time=   6.1s\n",
      "[CV 4/5] END ......C=1, gamma=0.001, kernel=rbf;, score=0.717 total time=   5.8s\n",
      "[CV 5/5] END ......C=1, gamma=0.001, kernel=rbf;, score=0.707 total time=   4.5s\n",
      "[CV 1/5] END .....C=1, gamma=0.0001, kernel=rbf;, score=0.706 total time=   4.5s\n",
      "[CV 2/5] END .....C=1, gamma=0.0001, kernel=rbf;, score=0.706 total time=   4.3s\n",
      "[CV 3/5] END .....C=1, gamma=0.0001, kernel=rbf;, score=0.706 total time=   4.5s\n",
      "[CV 4/5] END .....C=1, gamma=0.0001, kernel=rbf;, score=0.706 total time=   4.3s\n",
      "[CV 5/5] END .....C=1, gamma=0.0001, kernel=rbf;, score=0.706 total time=   4.7s\n",
      "[CV 1/5] END .........C=10, gamma=1, kernel=rbf;, score=0.706 total time=  22.9s\n",
      "[CV 2/5] END .........C=10, gamma=1, kernel=rbf;, score=0.706 total time=  22.8s\n",
      "[CV 3/5] END .........C=10, gamma=1, kernel=rbf;, score=0.705 total time=  27.0s\n",
      "[CV 4/5] END .........C=10, gamma=1, kernel=rbf;, score=0.705 total time=  49.2s\n",
      "[CV 5/5] END .........C=10, gamma=1, kernel=rbf;, score=0.706 total time=  39.9s\n",
      "[CV 1/5] END .......C=10, gamma=0.1, kernel=rbf;, score=0.734 total time=   8.4s\n",
      "[CV 2/5] END .......C=10, gamma=0.1, kernel=rbf;, score=0.666 total time=   8.4s\n",
      "[CV 3/5] END .......C=10, gamma=0.1, kernel=rbf;, score=0.702 total time=   9.1s\n",
      "[CV 4/5] END .......C=10, gamma=0.1, kernel=rbf;, score=0.769 total time=  11.2s\n",
      "[CV 5/5] END .......C=10, gamma=0.1, kernel=rbf;, score=0.737 total time=   8.1s\n",
      "[CV 1/5] END ......C=10, gamma=0.01, kernel=rbf;, score=0.711 total time=   3.8s\n",
      "[CV 2/5] END ......C=10, gamma=0.01, kernel=rbf;, score=0.720 total time=   6.5s\n",
      "[CV 3/5] END ......C=10, gamma=0.01, kernel=rbf;, score=0.805 total time=   5.9s\n",
      "[CV 4/5] END ......C=10, gamma=0.01, kernel=rbf;, score=0.825 total time=   7.0s\n",
      "[CV 5/5] END ......C=10, gamma=0.01, kernel=rbf;, score=0.791 total time=   7.0s\n",
      "[CV 1/5] END .....C=10, gamma=0.001, kernel=rbf;, score=0.768 total time=  10.3s\n",
      "[CV 2/5] END .....C=10, gamma=0.001, kernel=rbf;, score=0.726 total time=   7.1s\n",
      "[CV 3/5] END .....C=10, gamma=0.001, kernel=rbf;, score=0.773 total time=   6.6s\n",
      "[CV 4/5] END .....C=10, gamma=0.001, kernel=rbf;, score=0.812 total time=   7.3s\n",
      "[CV 5/5] END .....C=10, gamma=0.001, kernel=rbf;, score=0.765 total time=   7.0s\n",
      "[CV 1/5] END ....C=10, gamma=0.0001, kernel=rbf;, score=0.706 total time=   7.5s\n",
      "[CV 2/5] END ....C=10, gamma=0.0001, kernel=rbf;, score=0.706 total time=   7.4s\n",
      "[CV 3/5] END ....C=10, gamma=0.0001, kernel=rbf;, score=0.706 total time=   8.1s\n",
      "[CV 4/5] END ....C=10, gamma=0.0001, kernel=rbf;, score=0.706 total time=   7.6s\n",
      "[CV 5/5] END ....C=10, gamma=0.0001, kernel=rbf;, score=0.706 total time=   7.7s\n",
      "[CV 1/5] END ........C=100, gamma=1, kernel=rbf;, score=0.706 total time=  34.0s\n",
      "[CV 2/5] END ........C=100, gamma=1, kernel=rbf;, score=0.706 total time=  31.5s\n",
      "[CV 3/5] END ........C=100, gamma=1, kernel=rbf;, score=0.705 total time=  37.0s\n",
      "[CV 4/5] END ........C=100, gamma=1, kernel=rbf;, score=0.705 total time=  36.0s\n",
      "[CV 5/5] END ........C=100, gamma=1, kernel=rbf;, score=0.706 total time=  42.8s\n",
      "[CV 1/5] END ......C=100, gamma=0.1, kernel=rbf;, score=0.725 total time=   8.8s\n",
      "[CV 2/5] END ......C=100, gamma=0.1, kernel=rbf;, score=0.674 total time=   8.2s\n",
      "[CV 3/5] END ......C=100, gamma=0.1, kernel=rbf;, score=0.711 total time=   8.4s\n",
      "[CV 4/5] END ......C=100, gamma=0.1, kernel=rbf;, score=0.769 total time=  11.8s\n",
      "[CV 5/5] END ......C=100, gamma=0.1, kernel=rbf;, score=0.735 total time=  12.0s\n",
      "[CV 1/5] END .....C=100, gamma=0.01, kernel=rbf;, score=0.731 total time=   9.6s\n",
      "[CV 2/5] END .....C=100, gamma=0.01, kernel=rbf;, score=0.716 total time=  10.6s\n",
      "[CV 3/5] END .....C=100, gamma=0.01, kernel=rbf;, score=0.806 total time=   8.8s\n",
      "[CV 4/5] END .....C=100, gamma=0.01, kernel=rbf;, score=0.827 total time=  10.0s\n",
      "[CV 5/5] END .....C=100, gamma=0.01, kernel=rbf;, score=0.798 total time=   9.4s\n",
      "[CV 1/5] END ....C=100, gamma=0.001, kernel=rbf;, score=0.581 total time=   8.5s\n",
      "[CV 2/5] END ....C=100, gamma=0.001, kernel=rbf;, score=0.785 total time=   6.6s\n",
      "[CV 3/5] END ....C=100, gamma=0.001, kernel=rbf;, score=0.835 total time=   8.1s\n",
      "[CV 4/5] END ....C=100, gamma=0.001, kernel=rbf;, score=0.829 total time=   8.6s\n",
      "[CV 5/5] END ....C=100, gamma=0.001, kernel=rbf;, score=0.805 total time=   8.1s\n",
      "[CV 1/5] END ...C=100, gamma=0.0001, kernel=rbf;, score=0.754 total time=  11.7s\n",
      "[CV 2/5] END ...C=100, gamma=0.0001, kernel=rbf;, score=0.777 total time=  11.7s\n",
      "[CV 3/5] END ...C=100, gamma=0.0001, kernel=rbf;, score=0.760 total time=  11.4s\n",
      "[CV 4/5] END ...C=100, gamma=0.0001, kernel=rbf;, score=0.784 total time=  11.6s\n",
      "[CV 5/5] END ...C=100, gamma=0.0001, kernel=rbf;, score=0.746 total time=  11.3s\n"
     ]
    }
   ],
   "source": [
    "grid.fit(x_train, y_train)"
   ]
  },
  {
   "cell_type": "code",
   "execution_count": null,
   "metadata": {},
   "outputs": [],
   "source": [
    "predictions = grid.predict(test)\n",
    "\n",
    "predictions"
   ]
  },
  {
   "cell_type": "markdown",
   "metadata": {},
   "source": [
    "## Random Forest"
   ]
  },
  {
   "cell_type": "code",
   "execution_count": null,
   "metadata": {},
   "outputs": [],
   "source": [
    "modelRandomForest = RandomForestClassifier(n_estimators = 500)\n",
    "scores = cross_val_score(modelRandomForest, x_train, y_train, cv=10)\n",
    "print(\"Result for Random Forest: %0.4f accuracy with standard deviation of %0.2f\" % (scores.mean(), scores.std()))"
   ]
  },
  {
   "cell_type": "code",
   "execution_count": null,
   "metadata": {},
   "outputs": [],
   "source": [
    "modelRandomForest.fit(x_train,y_train)\n",
    "predictions = modelRandomForest.predict(test)\n",
    "\n",
    "predictions"
   ]
  },
  {
   "cell_type": "markdown",
   "metadata": {},
   "source": [
    "## Redes Neuronais"
   ]
  },
  {
   "cell_type": "code",
   "execution_count": null,
   "metadata": {},
   "outputs": [],
   "source": [
    "def build_model(activation = 'relu', learning_rate = 0.01):\n",
    "    model = Sequential()\n",
    "    model.add(Dense(16, input_dim = 5, activation = activation))\n",
    "    model.add(Dense(8, activation = activation))\n",
    "    model.add(Dense(1, activation = activation))\n",
    "    \n",
    "    model.compile(loss = 'mae', optimizer = tf.optimizers.Adam(learning_rate = learning_rate), metrics = ['mae','mse'])\n",
    "    return model"
   ]
  },
  {
   "cell_type": "code",
   "execution_count": null,
   "metadata": {},
   "outputs": [
    {
     "name": "stdout",
     "output_type": "stream",
     "text": [
      "Model: \"sequential_2\"\n",
      "_________________________________________________________________\n",
      " Layer (type)                Output Shape              Param #   \n",
      "=================================================================\n",
      " dense_6 (Dense)             (None, 16)                96        \n",
      "                                                                 \n",
      " dense_7 (Dense)             (None, 8)                 136       \n",
      "                                                                 \n",
      " dense_8 (Dense)             (None, 1)                 9         \n",
      "                                                                 \n",
      "=================================================================\n",
      "Total params: 241 (964.00 Byte)\n",
      "Trainable params: 241 (964.00 Byte)\n",
      "Non-trainable params: 0 (0.00 Byte)\n",
      "_________________________________________________________________\n"
     ]
    }
   ],
   "source": [
    "model = build_model()\n",
    "model.summary()"
   ]
  },
  {
   "cell_type": "code",
   "execution_count": null,
   "metadata": {},
   "outputs": [],
   "source": [
    "optimizer = ['SGD', 'RMSprop', 'Adagrad']\n",
    "param_grid = dict(optimizer = optimizer)"
   ]
  },
  {
   "cell_type": "code",
   "execution_count": null,
   "metadata": {},
   "outputs": [],
   "source": [
    "kf = KFold(n_splits = 5, shuffle = True, random_state = 2021)"
   ]
  },
  {
   "cell_type": "code",
   "execution_count": null,
   "metadata": {},
   "outputs": [],
   "source": [
    "model = KerasRegressor(model = build_model, batch_size = 32,validation_split = 0.2, epochs = 20)"
   ]
  },
  {
   "cell_type": "code",
   "execution_count": null,
   "metadata": {},
   "outputs": [],
   "source": [
    "grid_search = GridSearchCV(estimator = model, param_grid = param_grid, cv = kf,scoring='neg_mean_absolute_error', refit= 'True', verbose = 1)"
   ]
  },
  {
   "cell_type": "code",
   "execution_count": null,
   "metadata": {},
   "outputs": [
    {
     "name": "stdout",
     "output_type": "stream",
     "text": [
      "Fitting 5 folds for each of 3 candidates, totalling 15 fits\n"
     ]
    },
    {
     "ename": "ValueError",
     "evalue": "\nAll the 15 fits failed.\nIt is very likely that your model is misconfigured.\nYou can try to debug the error by setting error_score='raise'.\n\nBelow are more details about the failures:\n--------------------------------------------------------------------------------\n15 fits failed with the following error:\nTraceback (most recent call last):\n  File \"/home/gsenra/miniconda3/envs/DAAenv/lib/python3.10/site-packages/sklearn/model_selection/_validation.py\", line 732, in _fit_and_score\n    estimator.fit(X_train, y_train, **fit_params)\n  File \"/home/gsenra/miniconda3/envs/DAAenv/lib/python3.10/site-packages/scikeras/wrappers.py\", line 760, in fit\n    self._fit(\n  File \"/home/gsenra/miniconda3/envs/DAAenv/lib/python3.10/site-packages/scikeras/wrappers.py\", line 915, in _fit\n    X, y = self._initialize(X, y)\n  File \"/home/gsenra/miniconda3/envs/DAAenv/lib/python3.10/site-packages/scikeras/wrappers.py\", line 843, in _initialize\n    X, y = self._validate_data(X, y, reset=True)\n  File \"/home/gsenra/miniconda3/envs/DAAenv/lib/python3.10/site-packages/scikeras/wrappers.py\", line 1723, in _validate_data\n    return super()._validate_data(X=X, y=y, reset=reset, y_numeric=True)\n  File \"/home/gsenra/miniconda3/envs/DAAenv/lib/python3.10/site-packages/scikeras/wrappers.py\", line 616, in _validate_data\n    X, y = check_X_y(\n  File \"/home/gsenra/miniconda3/envs/DAAenv/lib/python3.10/site-packages/sklearn/utils/validation.py\", line 1163, in check_X_y\n    y = _check_y(y, multi_output=multi_output, y_numeric=y_numeric, estimator=estimator)\n  File \"/home/gsenra/miniconda3/envs/DAAenv/lib/python3.10/site-packages/sklearn/utils/validation.py\", line 1173, in _check_y\n    y = check_array(\n  File \"/home/gsenra/miniconda3/envs/DAAenv/lib/python3.10/site-packages/sklearn/utils/validation.py\", line 959, in check_array\n    _assert_all_finite(\n  File \"/home/gsenra/miniconda3/envs/DAAenv/lib/python3.10/site-packages/sklearn/utils/validation.py\", line 124, in _assert_all_finite\n    _assert_all_finite_element_wise(\n  File \"/home/gsenra/miniconda3/envs/DAAenv/lib/python3.10/site-packages/sklearn/utils/validation.py\", line 173, in _assert_all_finite_element_wise\n    raise ValueError(msg_err)\nValueError: Input y contains NaN.\n",
     "output_type": "error",
     "traceback": [
      "\u001b[0;31m---------------------------------------------------------------------------\u001b[0m",
      "\u001b[0;31mValueError\u001b[0m                                Traceback (most recent call last)",
      "Cell \u001b[0;32mIn[114], line 1\u001b[0m\n\u001b[0;32m----> 1\u001b[0m \u001b[43mgrid_search\u001b[49m\u001b[38;5;241;43m.\u001b[39;49m\u001b[43mfit\u001b[49m\u001b[43m(\u001b[49m\u001b[43mx_train\u001b[49m\u001b[43m,\u001b[49m\u001b[43m \u001b[49m\u001b[43my_train\u001b[49m\u001b[43m)\u001b[49m\n",
      "File \u001b[0;32m~/miniconda3/envs/DAAenv/lib/python3.10/site-packages/sklearn/base.py:1151\u001b[0m, in \u001b[0;36m_fit_context.<locals>.decorator.<locals>.wrapper\u001b[0;34m(estimator, *args, **kwargs)\u001b[0m\n\u001b[1;32m   1144\u001b[0m     estimator\u001b[38;5;241m.\u001b[39m_validate_params()\n\u001b[1;32m   1146\u001b[0m \u001b[38;5;28;01mwith\u001b[39;00m config_context(\n\u001b[1;32m   1147\u001b[0m     skip_parameter_validation\u001b[38;5;241m=\u001b[39m(\n\u001b[1;32m   1148\u001b[0m         prefer_skip_nested_validation \u001b[38;5;129;01mor\u001b[39;00m global_skip_validation\n\u001b[1;32m   1149\u001b[0m     )\n\u001b[1;32m   1150\u001b[0m ):\n\u001b[0;32m-> 1151\u001b[0m     \u001b[38;5;28;01mreturn\u001b[39;00m \u001b[43mfit_method\u001b[49m\u001b[43m(\u001b[49m\u001b[43mestimator\u001b[49m\u001b[43m,\u001b[49m\u001b[43m \u001b[49m\u001b[38;5;241;43m*\u001b[39;49m\u001b[43margs\u001b[49m\u001b[43m,\u001b[49m\u001b[43m \u001b[49m\u001b[38;5;241;43m*\u001b[39;49m\u001b[38;5;241;43m*\u001b[39;49m\u001b[43mkwargs\u001b[49m\u001b[43m)\u001b[49m\n",
      "File \u001b[0;32m~/miniconda3/envs/DAAenv/lib/python3.10/site-packages/sklearn/model_selection/_search.py:898\u001b[0m, in \u001b[0;36mBaseSearchCV.fit\u001b[0;34m(self, X, y, groups, **fit_params)\u001b[0m\n\u001b[1;32m    892\u001b[0m     results \u001b[38;5;241m=\u001b[39m \u001b[38;5;28mself\u001b[39m\u001b[38;5;241m.\u001b[39m_format_results(\n\u001b[1;32m    893\u001b[0m         all_candidate_params, n_splits, all_out, all_more_results\n\u001b[1;32m    894\u001b[0m     )\n\u001b[1;32m    896\u001b[0m     \u001b[38;5;28;01mreturn\u001b[39;00m results\n\u001b[0;32m--> 898\u001b[0m \u001b[38;5;28;43mself\u001b[39;49m\u001b[38;5;241;43m.\u001b[39;49m\u001b[43m_run_search\u001b[49m\u001b[43m(\u001b[49m\u001b[43mevaluate_candidates\u001b[49m\u001b[43m)\u001b[49m\n\u001b[1;32m    900\u001b[0m \u001b[38;5;66;03m# multimetric is determined here because in the case of a callable\u001b[39;00m\n\u001b[1;32m    901\u001b[0m \u001b[38;5;66;03m# self.scoring the return type is only known after calling\u001b[39;00m\n\u001b[1;32m    902\u001b[0m first_test_score \u001b[38;5;241m=\u001b[39m all_out[\u001b[38;5;241m0\u001b[39m][\u001b[38;5;124m\"\u001b[39m\u001b[38;5;124mtest_scores\u001b[39m\u001b[38;5;124m\"\u001b[39m]\n",
      "File \u001b[0;32m~/miniconda3/envs/DAAenv/lib/python3.10/site-packages/sklearn/model_selection/_search.py:1419\u001b[0m, in \u001b[0;36mGridSearchCV._run_search\u001b[0;34m(self, evaluate_candidates)\u001b[0m\n\u001b[1;32m   1417\u001b[0m \u001b[38;5;28;01mdef\u001b[39;00m \u001b[38;5;21m_run_search\u001b[39m(\u001b[38;5;28mself\u001b[39m, evaluate_candidates):\n\u001b[1;32m   1418\u001b[0m \u001b[38;5;250m    \u001b[39m\u001b[38;5;124;03m\"\"\"Search all candidates in param_grid\"\"\"\u001b[39;00m\n\u001b[0;32m-> 1419\u001b[0m     \u001b[43mevaluate_candidates\u001b[49m\u001b[43m(\u001b[49m\u001b[43mParameterGrid\u001b[49m\u001b[43m(\u001b[49m\u001b[38;5;28;43mself\u001b[39;49m\u001b[38;5;241;43m.\u001b[39;49m\u001b[43mparam_grid\u001b[49m\u001b[43m)\u001b[49m\u001b[43m)\u001b[49m\n",
      "File \u001b[0;32m~/miniconda3/envs/DAAenv/lib/python3.10/site-packages/sklearn/model_selection/_search.py:875\u001b[0m, in \u001b[0;36mBaseSearchCV.fit.<locals>.evaluate_candidates\u001b[0;34m(candidate_params, cv, more_results)\u001b[0m\n\u001b[1;32m    868\u001b[0m \u001b[38;5;28;01melif\u001b[39;00m \u001b[38;5;28mlen\u001b[39m(out) \u001b[38;5;241m!=\u001b[39m n_candidates \u001b[38;5;241m*\u001b[39m n_splits:\n\u001b[1;32m    869\u001b[0m     \u001b[38;5;28;01mraise\u001b[39;00m \u001b[38;5;167;01mValueError\u001b[39;00m(\n\u001b[1;32m    870\u001b[0m         \u001b[38;5;124m\"\u001b[39m\u001b[38;5;124mcv.split and cv.get_n_splits returned \u001b[39m\u001b[38;5;124m\"\u001b[39m\n\u001b[1;32m    871\u001b[0m         \u001b[38;5;124m\"\u001b[39m\u001b[38;5;124minconsistent results. Expected \u001b[39m\u001b[38;5;132;01m{}\u001b[39;00m\u001b[38;5;124m \u001b[39m\u001b[38;5;124m\"\u001b[39m\n\u001b[1;32m    872\u001b[0m         \u001b[38;5;124m\"\u001b[39m\u001b[38;5;124msplits, got \u001b[39m\u001b[38;5;132;01m{}\u001b[39;00m\u001b[38;5;124m\"\u001b[39m\u001b[38;5;241m.\u001b[39mformat(n_splits, \u001b[38;5;28mlen\u001b[39m(out) \u001b[38;5;241m/\u001b[39m\u001b[38;5;241m/\u001b[39m n_candidates)\n\u001b[1;32m    873\u001b[0m     )\n\u001b[0;32m--> 875\u001b[0m \u001b[43m_warn_or_raise_about_fit_failures\u001b[49m\u001b[43m(\u001b[49m\u001b[43mout\u001b[49m\u001b[43m,\u001b[49m\u001b[43m \u001b[49m\u001b[38;5;28;43mself\u001b[39;49m\u001b[38;5;241;43m.\u001b[39;49m\u001b[43merror_score\u001b[49m\u001b[43m)\u001b[49m\n\u001b[1;32m    877\u001b[0m \u001b[38;5;66;03m# For callable self.scoring, the return type is only know after\u001b[39;00m\n\u001b[1;32m    878\u001b[0m \u001b[38;5;66;03m# calling. If the return type is a dictionary, the error scores\u001b[39;00m\n\u001b[1;32m    879\u001b[0m \u001b[38;5;66;03m# can now be inserted with the correct key. The type checking\u001b[39;00m\n\u001b[1;32m    880\u001b[0m \u001b[38;5;66;03m# of out will be done in `_insert_error_scores`.\u001b[39;00m\n\u001b[1;32m    881\u001b[0m \u001b[38;5;28;01mif\u001b[39;00m \u001b[38;5;28mcallable\u001b[39m(\u001b[38;5;28mself\u001b[39m\u001b[38;5;241m.\u001b[39mscoring):\n",
      "File \u001b[0;32m~/miniconda3/envs/DAAenv/lib/python3.10/site-packages/sklearn/model_selection/_validation.py:414\u001b[0m, in \u001b[0;36m_warn_or_raise_about_fit_failures\u001b[0;34m(results, error_score)\u001b[0m\n\u001b[1;32m    407\u001b[0m \u001b[38;5;28;01mif\u001b[39;00m num_failed_fits \u001b[38;5;241m==\u001b[39m num_fits:\n\u001b[1;32m    408\u001b[0m     all_fits_failed_message \u001b[38;5;241m=\u001b[39m (\n\u001b[1;32m    409\u001b[0m         \u001b[38;5;124mf\u001b[39m\u001b[38;5;124m\"\u001b[39m\u001b[38;5;130;01m\\n\u001b[39;00m\u001b[38;5;124mAll the \u001b[39m\u001b[38;5;132;01m{\u001b[39;00mnum_fits\u001b[38;5;132;01m}\u001b[39;00m\u001b[38;5;124m fits failed.\u001b[39m\u001b[38;5;130;01m\\n\u001b[39;00m\u001b[38;5;124m\"\u001b[39m\n\u001b[1;32m    410\u001b[0m         \u001b[38;5;124m\"\u001b[39m\u001b[38;5;124mIt is very likely that your model is misconfigured.\u001b[39m\u001b[38;5;130;01m\\n\u001b[39;00m\u001b[38;5;124m\"\u001b[39m\n\u001b[1;32m    411\u001b[0m         \u001b[38;5;124m\"\u001b[39m\u001b[38;5;124mYou can try to debug the error by setting error_score=\u001b[39m\u001b[38;5;124m'\u001b[39m\u001b[38;5;124mraise\u001b[39m\u001b[38;5;124m'\u001b[39m\u001b[38;5;124m.\u001b[39m\u001b[38;5;130;01m\\n\u001b[39;00m\u001b[38;5;130;01m\\n\u001b[39;00m\u001b[38;5;124m\"\u001b[39m\n\u001b[1;32m    412\u001b[0m         \u001b[38;5;124mf\u001b[39m\u001b[38;5;124m\"\u001b[39m\u001b[38;5;124mBelow are more details about the failures:\u001b[39m\u001b[38;5;130;01m\\n\u001b[39;00m\u001b[38;5;132;01m{\u001b[39;00mfit_errors_summary\u001b[38;5;132;01m}\u001b[39;00m\u001b[38;5;124m\"\u001b[39m\n\u001b[1;32m    413\u001b[0m     )\n\u001b[0;32m--> 414\u001b[0m     \u001b[38;5;28;01mraise\u001b[39;00m \u001b[38;5;167;01mValueError\u001b[39;00m(all_fits_failed_message)\n\u001b[1;32m    416\u001b[0m \u001b[38;5;28;01melse\u001b[39;00m:\n\u001b[1;32m    417\u001b[0m     some_fits_failed_message \u001b[38;5;241m=\u001b[39m (\n\u001b[1;32m    418\u001b[0m         \u001b[38;5;124mf\u001b[39m\u001b[38;5;124m\"\u001b[39m\u001b[38;5;130;01m\\n\u001b[39;00m\u001b[38;5;132;01m{\u001b[39;00mnum_failed_fits\u001b[38;5;132;01m}\u001b[39;00m\u001b[38;5;124m fits failed out of a total of \u001b[39m\u001b[38;5;132;01m{\u001b[39;00mnum_fits\u001b[38;5;132;01m}\u001b[39;00m\u001b[38;5;124m.\u001b[39m\u001b[38;5;130;01m\\n\u001b[39;00m\u001b[38;5;124m\"\u001b[39m\n\u001b[1;32m    419\u001b[0m         \u001b[38;5;124m\"\u001b[39m\u001b[38;5;124mThe score on these train-test partitions for these parameters\u001b[39m\u001b[38;5;124m\"\u001b[39m\n\u001b[0;32m   (...)\u001b[0m\n\u001b[1;32m    423\u001b[0m         \u001b[38;5;124mf\u001b[39m\u001b[38;5;124m\"\u001b[39m\u001b[38;5;124mBelow are more details about the failures:\u001b[39m\u001b[38;5;130;01m\\n\u001b[39;00m\u001b[38;5;132;01m{\u001b[39;00mfit_errors_summary\u001b[38;5;132;01m}\u001b[39;00m\u001b[38;5;124m\"\u001b[39m\n\u001b[1;32m    424\u001b[0m     )\n",
      "\u001b[0;31mValueError\u001b[0m: \nAll the 15 fits failed.\nIt is very likely that your model is misconfigured.\nYou can try to debug the error by setting error_score='raise'.\n\nBelow are more details about the failures:\n--------------------------------------------------------------------------------\n15 fits failed with the following error:\nTraceback (most recent call last):\n  File \"/home/gsenra/miniconda3/envs/DAAenv/lib/python3.10/site-packages/sklearn/model_selection/_validation.py\", line 732, in _fit_and_score\n    estimator.fit(X_train, y_train, **fit_params)\n  File \"/home/gsenra/miniconda3/envs/DAAenv/lib/python3.10/site-packages/scikeras/wrappers.py\", line 760, in fit\n    self._fit(\n  File \"/home/gsenra/miniconda3/envs/DAAenv/lib/python3.10/site-packages/scikeras/wrappers.py\", line 915, in _fit\n    X, y = self._initialize(X, y)\n  File \"/home/gsenra/miniconda3/envs/DAAenv/lib/python3.10/site-packages/scikeras/wrappers.py\", line 843, in _initialize\n    X, y = self._validate_data(X, y, reset=True)\n  File \"/home/gsenra/miniconda3/envs/DAAenv/lib/python3.10/site-packages/scikeras/wrappers.py\", line 1723, in _validate_data\n    return super()._validate_data(X=X, y=y, reset=reset, y_numeric=True)\n  File \"/home/gsenra/miniconda3/envs/DAAenv/lib/python3.10/site-packages/scikeras/wrappers.py\", line 616, in _validate_data\n    X, y = check_X_y(\n  File \"/home/gsenra/miniconda3/envs/DAAenv/lib/python3.10/site-packages/sklearn/utils/validation.py\", line 1163, in check_X_y\n    y = _check_y(y, multi_output=multi_output, y_numeric=y_numeric, estimator=estimator)\n  File \"/home/gsenra/miniconda3/envs/DAAenv/lib/python3.10/site-packages/sklearn/utils/validation.py\", line 1173, in _check_y\n    y = check_array(\n  File \"/home/gsenra/miniconda3/envs/DAAenv/lib/python3.10/site-packages/sklearn/utils/validation.py\", line 959, in check_array\n    _assert_all_finite(\n  File \"/home/gsenra/miniconda3/envs/DAAenv/lib/python3.10/site-packages/sklearn/utils/validation.py\", line 124, in _assert_all_finite\n    _assert_all_finite_element_wise(\n  File \"/home/gsenra/miniconda3/envs/DAAenv/lib/python3.10/site-packages/sklearn/utils/validation.py\", line 173, in _assert_all_finite_element_wise\n    raise ValueError(msg_err)\nValueError: Input y contains NaN.\n"
     ]
    }
   ],
   "source": [
    "grid_search.fit(x_train, y_train)"
   ]
  },
  {
   "cell_type": "code",
   "execution_count": null,
   "metadata": {},
   "outputs": [],
   "source": [
    "print(\"Best: %f using %s\" % (grid_search.best_score_, grid_search.best_params_))"
   ]
  },
  {
   "cell_type": "code",
   "execution_count": null,
   "metadata": {},
   "outputs": [],
   "source": [
    "means = grid_search.cv_results_['mean_test_score']\n",
    "stds = grid_search.cv_results_['std_test_score']\n",
    "params = grid_search.cv_results_['params']"
   ]
  },
  {
   "cell_type": "code",
   "execution_count": null,
   "metadata": {},
   "outputs": [],
   "source": [
    "for mean, stdev, param in zip(means, stds, params):\n",
    "    print(\"%f (%f) with: %r\" % (mean, stdev, param))"
   ]
  },
  {
   "cell_type": "code",
   "execution_count": null,
   "metadata": {},
   "outputs": [],
   "source": [
    "best_mlp_model = grid_search.best_estimator_\n",
    "print(best_mlp_model)"
   ]
  },
  {
   "cell_type": "code",
   "execution_count": null,
   "metadata": {},
   "outputs": [],
   "source": []
  }
 ],
 "metadata": {
  "kernelspec": {
   "display_name": "DAAenv",
   "language": "python",
   "name": "python3"
  },
  "language_info": {
   "codemirror_mode": {
    "name": "ipython",
    "version": 3
   },
   "file_extension": ".py",
   "mimetype": "text/x-python",
   "name": "python",
   "nbconvert_exporter": "python",
   "pygments_lexer": "ipython3",
   "version": "3.10.0"
  }
 },
 "nbformat": 4,
 "nbformat_minor": 2
}
